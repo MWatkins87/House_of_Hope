{
 "cells": [
  {
   "cell_type": "code",
   "execution_count": 1,
   "metadata": {},
   "outputs": [],
   "source": [
    "import pandas as pd\n",
    "from sklearn.model_selection import train_test_split\n",
    "from sklearn.preprocessing import StandardScaler, MinMaxScaler\n",
    "from sklearn.linear_model import LogisticRegression\n",
    "from sklearn.metrics import accuracy_score\n",
    "from sklearn.svm import SVC \n",
    "%matplotlib inline\n",
    "from matplotlib import pyplot as plt\n",
    "from sklearn.datasets import make_regression, make_swiss_roll\n",
    "import numpy as np\n",
    "from sklearn.linear_model import LinearRegression\n",
    "from sklearn.neighbors import KNeighborsRegressor, KNeighborsClassifier\n",
    "from sklearn.ensemble import RandomForestRegressor, ExtraTreesRegressor, AdaBoostRegressor, RandomForestClassifier, ExtraTreesClassifier\n",
    "from sklearn.svm import SVR\n",
    "from sklearn.datasets import load_iris\n",
    "from sklearn.neural_network import MLPClassifier\n",
    "from sklearn.impute import SimpleImputer\n",
    "from sklearn.pipeline import Pipeline"
   ]
  },
  {
   "cell_type": "code",
   "execution_count": 2,
   "metadata": {},
   "outputs": [],
   "source": [
    "# Uncomment these lines if you are using Google Colab.\n",
    "# ! pip install transformers\n",
    "# ! pip install gradio"
   ]
  },
  {
   "cell_type": "code",
   "execution_count": 3,
   "metadata": {},
   "outputs": [],
   "source": [
    "df1 = pd.read_csv(\"original_df.csv\")"
   ]
  },
  {
   "cell_type": "code",
   "execution_count": 4,
   "metadata": {},
   "outputs": [],
   "source": [
    "def los_to_category(days):\n",
    "    if days <= 30:\n",
    "        return 1\n",
    "    elif days <= 31:\n",
    "        return 2\n",
    "    elif days <= 32:\n",
    "        return 3\n",
    "    elif days <= 33:\n",
    "        return 4\n",
    "    elif days <= 34:\n",
    "        return 5\n",
    "    elif days <= 35:\n",
    "        return 6\n",
    "    elif days <= 36:\n",
    "        return 7\n",
    "    else:\n",
    "        return 8"
   ]
  },
  {
   "cell_type": "code",
   "execution_count": 5,
   "metadata": {},
   "outputs": [],
   "source": [
    "df1['REASON'] = df1['REASON'].replace(4, 1)\n",
    "df1['REASON'] = df1['REASON'].replace(2, 0)\n",
    "df1['REASON'] = df1['REASON'].replace(3, 0)\n",
    "df1['REASON'] = df1['REASON'].replace(5, 0)\n",
    "df1['REASON'] = df1['REASON'].replace(6, 0)\n",
    "df1['REASON'] = df1['REASON'].replace(7, 0)\n",
    "df1['SUB1'] = df1['SUB1'].replace(-9, 0)\n",
    "df1['SUB1_D'] = df1['SUB1_D'].replace(-9, 0)\n",
    "df1['SUB2'] = df1['SUB2'].replace(-9, 0)\n",
    "df1['SUB2_D'] = df1['SUB2_D'].replace(-9, 0)\n",
    "df1['SUB3'] = df1['SUB3'].replace(-9, 0)\n",
    "df1['SUB3_D'] = df1['SUB3_D'].replace(-9, 0)\n",
    "df1['SUB2'] = df1['SUB2'].replace(-9, 19)\n",
    "df1['SUB2_D'] = df1['SUB2_D'].replace(-9, 19)\n",
    "df1['SUB3'] = df1['SUB3'].replace(-9, 19)\n",
    "df1['SUB3_D'] = df1['SUB3_D'].replace(-9, 0)\n",
    "df1['FREQ1_D'] = df1['FREQ1_D'].replace(-9, 1)\n",
    "df1['FREQ2_D'] = df1['FREQ2_D'].replace(-9, 1)\n",
    "df1['FREQ3_D'] = df1['FREQ3_D'].replace(-9, 1)\n",
    "df1['FREQ1'] = df1['FREQ1'].replace(-9, 1)\n",
    "df1['FREQ2'] = df1['FREQ2'].replace(-9, 1)\n",
    "df1['FREQ3'] = df1['FREQ3'].replace(-9, 1)\n",
    "df1 = df1.drop(columns=\"CASEID\")\n",
    "df1['GENDER'] = df1['GENDER'].replace(-9, 0)\n",
    "df1 = df1.drop(columns=\"DISYR\")\n",
    "df1['RACE'] = df1['RACE'].replace(-9, 7)\n",
    "df1['ETHNIC'] = df1['ETHNIC'].replace(-9, 4)\n",
    "df1['MARSTAT'] = df1['MARSTAT'].replace(-9, 0)\n",
    "df1['EDUC'] = df1['EDUC'].replace(-9, 2)\n",
    "df1['EMPLOY'] = df1['EMPLOY'].replace(-9, 0)\n",
    "df1['EMPLOY_D'] = df1['EMPLOY_D'].replace(-9, 0)\n",
    "df1 = df1.drop(columns=\"DETNLF\")\n",
    "df1 = df1.drop(columns=\"DETNLF_D\")\n",
    "df1['VET'] = df1['VET'].replace(-9, 2)\n",
    "df1['LIVARAG'] = df1['LIVARAG'].replace(-9, 1)\n",
    "df1['LIVARAG_D'] = df1['LIVARAG_D'].replace(-9, 1)\n",
    "df1['PRIMINC'] = df1['PRIMINC'].replace(-9, 4)\n",
    "df1['ARRESTS'] = df1['ARRESTS'].replace(-9, 0)\n",
    "df1['ARRESTS_D'] = df1['ARRESTS_D'].replace(-9, 0)\n",
    "df1 = df1.drop(columns=\"STFIPS\")\n",
    "df1['DAYWAIT'] = df1['DAYWAIT'].replace(-9, 0)\n",
    "df1['METHUSE'] = df1['METHUSE'].replace(-9, 0)\n",
    "df1['LOS'] = df1['LOS'].apply(los_to_category)\n",
    "df1['PSOURCE'] = df1['PSOURCE'].replace(-9, 1)\n",
    "df1 = df1.drop(columns=\"DETCRIM\")\n",
    "df1['NOPRIOR'] = df1['NOPRIOR'].replace(-9, 0)\n",
    "df1['ROUTE1'] = df1['ROUTE1'].replace(-9, 0)\n",
    "df1['ROUTE2'] = df1['ROUTE2'].replace(-9, 0)\n",
    "df1['ROUTE3'] = df1['ROUTE3'].replace(-9, 0)\n",
    "df1['FRSTUSE1'] = df1['FRSTUSE1'].replace(-9, 3)\n",
    "df1['FRSTUSE2'] = df1['FRSTUSE2'].replace(-9, 3)\n",
    "df1['FRSTUSE3'] = df1['FRSTUSE3'].replace(-9, 3)\n",
    "df1['DSMCRIT'] = df1['DSMCRIT'].replace(-9, 5)\n",
    "df1['PSYPROB'] = df1['PSYPROB'].replace(-9, 1)\n",
    "df1['PRIMPAY'] = df1['PRIMPAY'].replace(-9, 1)\n",
    "df1['FREQ_ATND_SELF_HELP'] = df1['FREQ_ATND_SELF_HELP'].replace(-9, 3)\n",
    "df1['FREQ_ATND_SELF_HELP_D'] = df1['FREQ_ATND_SELF_HELP_D'].replace(-9, 3)\n",
    "df1['IDU'] = df1['IDU'].replace(-9, 0)\n",
    "df1 = df1.drop(columns=\"CBSA2010\")\n",
    "df1['HLTHINS'] = df1['HLTHINS'].replace(-9, 4)\n"
   ]
  },
  {
   "cell_type": "code",
   "execution_count": 6,
   "metadata": {},
   "outputs": [],
   "source": [
    "# df1.to_csv('cleaned_subfilter_removed_df.csv', index=False)"
   ]
  },
  {
   "cell_type": "code",
   "execution_count": 7,
   "metadata": {},
   "outputs": [],
   "source": [
    "# Import transformers pipeline\n",
    "from transformers import pipeline\n",
    "# Import Gradio\n",
    "import gradio as gr"
   ]
  },
  {
   "cell_type": "code",
   "execution_count": 8,
   "metadata": {},
   "outputs": [],
   "source": [
    "cleaned_df = pd.read_csv(\"clean_df.csv\")"
   ]
  },
  {
   "cell_type": "code",
   "execution_count": 9,
   "metadata": {},
   "outputs": [],
   "source": [
    "# Create a list of options for each dropdown menu\n",
    "# options for filters\n",
    "optionsGENDER =  [\"No Gender Selected\",\"Male  64.2%\",\"Female  35.8%\"]\n",
    "optionsAGE = [\"No age Selected\", \"12–14 years 0.5%\", \"15–17 years 2.2%\", \"18–20 years  2.7%\", \"21–24 years  7.6%\", \"25–29 years  16.8%\", \"30–34 years 17.4%\", \"35–39 years 14.5%\", \"40–44 years 10.3%\", \"45–49 years  8.8%\", \"50–54 years  8.2%\", \"55–64 years  9.7%\", \"65 years and older  1.4%\"]\n",
    "optionsEDUC = [\"No education Selected\", \"Less than one school grade, no schooling, nursery school, or kindergarten to Grade 8 5.2%\", \"Grades 9 to 11 28.8%\", \"Grade 12 (or GED) 42.8%\", \"1-3 years of college, university, or vocational school 17.7%\", \"4 years of college, university, BA/BS, some postgraduate study, or more 5.5%\"]\n",
    "optionsVET = [\"No veteren status selected\", \"Yes 2.5%\", \"No 97.5%\"]\n",
    "optionsARRESTS = [\"No arrest status selected\",\"None  93%\",\"Once 6.0%\", \"Two or more times 1.1%\"]\n",
    "optionsNOPRIOR = [\"No prior status selected\",\"No prior treatment episodes 45.4%\",\"One or more prior treatment episodes 54.6%\"]\n",
    "optionsSUB1 = [\"No Substance filter selected\",\"None 1.9%\",\"Alcohol 30.3%\",\"Cocaine/crack 5.8%\",\"Marijuana/hashish 10.9%\",\"Heroin 22.7%\",\"Non-prescription methadone 0.2%\",\"Other opiates and synthetics 7.3%\",\"PCP 0.2%\",\n",
    "               \"Hallucinogens 0.1%\",\"Methamphetamine/speed 12.0%\",\"Other amphetamines 0.6%\",\"Other stimulants  0.1%\",\"Benzodiazepines 1.0%\",\"Other tranquilizers (less than 0.1%)\",\n",
    "               \"Barbiturates 0.1%\",\"Other sedatives or hypnotics 0.1%\",\"Inhalants (less than 0.1%)\",\"Over-the-counter medications (less than 0.1%)\",\"Other drugs  5.8%\"]\n",
    "optionsSUB2 = [\"No secondary substance filter selected\",\"None 43.5%\",\"Alcohol 8.8%\",\"Cocaine/crack 10.9%\",\"Marijuana/hashish 13.4%\",\"Heroin 3.7%\",\"Non-prescription methadone 0.2%\",\"Other opiates and synthetics 3.7%\",\"PCP 0.2%\",\n",
    "               \"Hallucinogens 0.2%\",\"Methamphetamine/speed 6.3%\",\"Other amphetamines 0.5%\",\"Other stimulants 0.2%\",\"Benzodiazepines 2.9%\",\"Other tranquilizers (less than 0.1%)\",\n",
    "               \"Barbiturates (less than 0.1%)\",\"Other sedatives or hypnotics 0.2%\",\"Inhalants (less than 0.1%)\",\"Over-the-counter medications 0.1%\",\"Other drugs 1.5%\"]\n",
    "optionsFREQ1=[\"No frequency filter selected\",\"No use in the past month 34.7%\",\"Some use 24.9%\",\"Daily use 40.3%\"]\n",
    "optionsFREQ2=[\"No secondary frequency filter selected\",\"No use in the past month 64.7%\",\"Some use 18.1%\",\"Daily use 17.3%\"]\n",
    "optionsIDU = [\"No class IV drug filter selected\",\"IDU not reported 77.4%\",\"IDU reported 22.6%\"]\n",
    "optionsALCFLG = [\"No filter option selected\",\"Alcohol reported at admission 57.5%\",\"Alcohol Not reported at admission 22.6%\"]\n",
    "optionsMARFLG = [\"No filter option selected\",\"Marijuana/hashish reported at admission 70.1%\",\"Marijuana/hashish Not reported at admission 29.9%\"]\n",
    "optionsPSYPROB = [\"No filter option selected\",\"Co-occurring mental and substance use disorders reported 42.2%\",\"Co-occurring mental and substance use disorders Not reported 47.8%\"]\n",
    "optionsREGION=[\"No census region selected\",\"U.S. territories  0.2%\",\"Northeast 30.9%\",\"Midwest 17.6%\",\"South 29.4%\",\"West 22.0%\"]\n",
    "optionsDSMCRIT=[\"No disorder diagnosis selected\",\"Alcohol-induced disorder 0.7%\",\"Substance-induced disorder 2.3%\",\"Alcohol intoxication 1.7%\",\"Alcohol dependence 16.8%\",\"Opioid dependence 22.1%\",\"Cocaine dependence 3.3%\",\n",
    "                    \"Cannabis dependence 4.8%\",\"Other substance dependence 8.3%\",\"Alcohol abuse 3.1%\",\"Cannabis abuse 2.3%\",\"Other substance abuse 1.4%\",\"Opioid abuse 1.0%\",\"Cocaine abuse 0.5%\",\n",
    "                    \"Anxiety disorders 0.1%\",\"Depressive disorders 0.3%\",\"Schizophrenia/other psychotic disorders 0.1%\",\"Bipolar disorderss 0.1%\",\n",
    "                    \"Attention deficit/disruptive behavior disorders (less than 0.1%)\",\"Other mental health condition 7.3%\"]\n",
    "optionsRACE=[\"No Race Selected\",\"Alaska Native (Aleut, Eskimo, Indian) 0.2%\",\"American Indian (other than Alaska Native) 2.5%\",\"Asian or Pacific Islander (Less than 0.1%)\",\"Black or African American 17.9%\",\n",
    "                 \"White 65.6%\",\"Asian 0.6%\",\"Other single race 10.8%\",\"Two or more races 1.8%\",\"Native Hawaiian or Other Pacific Islander 0.5%\"]\n",
    "# Options for survey questions\n",
    "optionsMTHAMFLG=[\"Substance not reported\",\"Substance reported\"]\n",
    "optionsALCDRUG=[\"None\",\"Alcohol only\",\"Other drugs only\",\"Alcohol and other drugs\"]\n",
    "optionsHLTHINS=[\"Private insurance, Blue Cross/Blue Shield, HMO\",\"Medicaid\",\"Medicare, other (e.g. TRICARE, CHAMPUS)\",\"None\"]\n",
    "optionsMARSTAT = [\"Never Married\", \"Now Married\", \"Separated\", \"Divorced, Widowed\"]\n",
    "optionsEMPLOY = [\"Full-Time\", \"Part-time\", \"Unemployed\", \"Not in labor force\"]\n",
    "optionsLIVARAG = [\"Homeless\", \"Dependent living\", \"Independent living\"]\n",
    "optionsDAYWAIT = [\"0\", \"1 - 7\", \"8 - 14\", \"15 - 30\", \"31 or more\"]\n",
    "optionsSERVICES = [\"Detox, 24-hour, hospital inpatient\", \"Detox, 24-hour, free-standing residential\", \"Rehab/residential, hospital (non-detox)\", \"Rehab/residential, short term (30 days or fewer)\", \"Rehab/residential, long term (more than 30 days)\", \"Ambulatory, intensive outpatient\", \"Ambulatory, non-intensive outpatient\", \"Ambulatory, detoxification\"]\n",
    "optionsFRSTUSE1 = [\"11 years and under\", \"12 - 14 years\", \"15 - 17 years\", \"18 - 20 years\", \"21 -24 years\", \"25 - 29 years\", \"30 years and over\"]\n",
    "optionsFREQ_ATND_SELF_HELP = [\"No attendance\", \"1 - 3 times in the past month\", \"4 - 7 times in the past month\", \"8 - 30 times in the past month\", \"Some attendance, frequency is unknown\"]\n",
    "optionsFREQ_ATND_SELF_HELP_D = [\"No attendance\", \"1 - 3 times per month\", \"4 - 7 times per month\", \"8 - 30 times per month\", \"Some attendance, frequency is unknown\"]\n",
    "optionsPRIMPAY = [\"Self - pay\", \"Private insurance (Blue Cross/Blue Shield, other health insurance, workers compensation)\", \"Medicare\", \"Medicaid\", \"Other government payments\", \"No charge(free, charity, special research, teaching)\", \"Other\"]\n",
    "optionsDIVISION = [\"U.S. territories\", \"New England\", \"Middle Atlantic\", \"East North Central\", \"West North Central\", \"South Atlantic\", \"East South Central\", \"West South Central\", \"Mountain\"]\n",
    "optionsPREG = [\"Yes\", \"No\"]\n",
    "optionsMETHUSE = [\"Yes\", \"No\"]"
   ]
  },
  {
   "cell_type": "code",
   "execution_count": 70,
   "metadata": {},
   "outputs": [
    {
     "name": "stdout",
     "output_type": "stream",
     "text": [
      "Running on local URL:  http://127.0.0.1:7891\n",
      "\n",
      "To create a public link, set `share=True` in `launch()`.\n"
     ]
    },
    {
     "data": {
      "text/html": [
       "<div><iframe src=\"http://127.0.0.1:7891/\" width=\"100%\" height=\"500\" allow=\"autoplay; camera; microphone; clipboard-read; clipboard-write;\" frameborder=\"0\" allowfullscreen></iframe></div>"
      ],
      "text/plain": [
       "<IPython.core.display.HTML object>"
      ]
     },
     "metadata": {},
     "output_type": "display_data"
    },
    {
     "data": {
      "text/plain": []
     },
     "execution_count": 70,
     "metadata": {},
     "output_type": "execute_result"
    },
    {
     "name": "stderr",
     "output_type": "stream",
     "text": [
      "c:\\Users\\matth\\anaconda3\\envs\\dev\\Lib\\site-packages\\sklearn\\neural_network\\_multilayer_perceptron.py:1101: DataConversionWarning: A column-vector y was passed when a 1d array was expected. Please change the shape of y to (n_samples, ), for example using ravel().\n",
      "  y = column_or_1d(y, warn=True)\n"
     ]
    }
   ],
   "source": [
    "def survey(MARSTAT,HLTHINS,EMPLOY,LIVARAG,DAYWAIT,SERVICES,FRSTUSE1,FREQ_ATND_SELF_HELP,FREQ_ATND_SELF_HELP_D,PRIMPAY,DIVISION,PREG,ALCDRUG,MTHAMFLG,METHUSE,\n",
    "           GENDER,AGE,RACE,REGION,EDUC,VET,ARRESTS,NOPRIOR,SUB1,FREQ1,SUB2,FREQ2,IDU,ALCFLG,MARFLG,PSYPROB,DSMCRIT):    \n",
    "    \n",
    "    survey_df = pd.DataFrame(columns=[\"MARSTAT\",\"HLTHINS\",\"EMPLOY\",\"LIVARAG\",\"DAYWAIT\",\"SERVICES\",\"FRSTUSE1\",\"FREQ_ATND_SELF_HELP\",\"FREQ_ATND_SELF_HELP_D\",\"PRIMPAY\",\"DIVISION\",\"PREG\",\"ALCDRUG\",\"MTHAMFLG\",\"METHUSE\"])\n",
    "    empty_dict = {}\n",
    "    \n",
    "    # update MARSTAT info\n",
    "    if MARSTAT == \"Never Married\":\n",
    "        empty_dict['MARSTAT'] = 1\n",
    "    elif MARSTAT == \"Now Married\":\n",
    "        empty_dict['MARSTAT'] = 2\n",
    "    elif MARSTAT == \"Separated\":\n",
    "        empty_dict['MARSTAT'] = 3\n",
    "    elif MARSTAT == \"Divorced, Widowed\":\n",
    "        empty_dict['MARSTAT'] = 4\n",
    "    # HLTHINS: Health insurance\n",
    "    if HLTHINS == \"Private insurance, Blue Cross/Blue Shield, HMO\":\n",
    "        empty_dict[\"HLTHINS\"] = 1\n",
    "    elif HLTHINS == \"Medicaid\":\n",
    "        empty_dict[\"HLTHINS\"] = 2\n",
    "    elif HLTHINS == \"Medicare, other (e.g. TRICARE, CHAMPUS)\":\n",
    "        empty_dict[\"HLTHINS\"] = 3\n",
    "    elif HLTHINS == \"None\":\n",
    "        empty_dict[\"HLTHINS\"] = 4\n",
    "    # update EMPLOY info\n",
    "    if EMPLOY == \"Full-Time\":\n",
    "        empty_dict[\"EMPLOY\"] = 1\n",
    "    elif EMPLOY == \"Part-time\":\n",
    "        empty_dict[\"EMPLOY\"] = 2\n",
    "    elif EMPLOY == \"Unemployed\":\n",
    "        empty_dict[\"EMPLOY\"] = 3\n",
    "    elif EMPLOY == \"Not in labor force\":\n",
    "        empty_dict[\"EMPLOY\"] = 4\n",
    "    # update LIVARAG info\n",
    "    if LIVARAG == \"Homeless\":\n",
    "        empty_dict[\"LIVARAG\"] = 1\n",
    "    elif LIVARAG == \"Dependent living\":\n",
    "        empty_dict[\"LIVARAG\"] = 2\n",
    "    elif LIVARAG == \"Independent living\":\n",
    "        empty_dict[\"LIVARAG\"] = 3\n",
    "    # update DAYWAIT info\n",
    "    if DAYWAIT == \"0\":\n",
    "        empty_dict[\"DAYWAIT\"] = 0\n",
    "    elif DAYWAIT == \"1 - 7\":\n",
    "       empty_dict[\"DAYWAIT\"] = 1\n",
    "    elif DAYWAIT == \"8 - 14\":\n",
    "       empty_dict[\"DAYWAIT\"] = 2\n",
    "    elif DAYWAIT == \"15 - 30\":\n",
    "        empty_dict[\"DAYWAIT\"] = 3\n",
    "    elif DAYWAIT == \"31 or more\":\n",
    "        empty_dict[\"DAYWAIT\"] = 4\n",
    "    # update SERVICES info\n",
    "    if SERVICES == \"Detox, 24-hour, hospital inpatient\":\n",
    "        empty_dict[\"SERVICES\"] = 1\n",
    "    elif SERVICES == \"Detox, 24-hour, free-standing residential\":\n",
    "        empty_dict[\"SERVICES\"] = 2\n",
    "    elif SERVICES == \"Rehab/residential, hospital (non-detox)\":\n",
    "        empty_dict[\"SERVICES\"] = 3\n",
    "    elif SERVICES == \"Rehab/residential, short term (30 days or fewer)\":\n",
    "        empty_dict[\"SERVICES\"] = 4\n",
    "    elif SERVICES == \"Rehab/residential, long term (more than 30 days)\":\n",
    "        empty_dict[\"SERVICES\"] = 5\n",
    "    elif SERVICES == \"Ambulatory, intensive outpatient\":\n",
    "        empty_dict[\"SERVICES\"] = 6\n",
    "    elif SERVICES == \"Ambulatory, non-intensive outpatient\":\n",
    "        empty_dict[\"SERVICES\"] = 7\n",
    "    elif SERVICES == \"Ambulatory, detoxification\":\n",
    "        empty_dict[\"SERVICES\"] = 8\n",
    "    # update FRSTUSE1 info\n",
    "    if FRSTUSE1 == \"11 years and under\":\n",
    "        empty_dict[\"FRSTUSE1\"] = 1\n",
    "    elif FRSTUSE1 == \"12 - 14 years\":\n",
    "        empty_dict[\"FRSTUSE1\"] = 2\n",
    "    elif FRSTUSE1 == \"15 - 17 years\":\n",
    "        empty_dict[\"FRSTUSE1\"] = 3\n",
    "    elif FRSTUSE1 == \"18 - 20 years\":\n",
    "        empty_dict[\"FRSTUSE1\"] = 4\n",
    "    elif FRSTUSE1 == \"21 -24 years\":\n",
    "        empty_dict[\"FRSTUSE1\"] = 5\n",
    "    elif FRSTUSE1 == \"25 - 29 years\":\n",
    "        empty_dict[\"FRSTUSE1\"] = 6\n",
    "    elif FRSTUSE1 == \"30 years and over\":\n",
    "        empty_dict[\"FRSTUSE1\"] = 7\n",
    "    # update FREQ_ATND_SELF_HELP info\n",
    "    if FREQ_ATND_SELF_HELP == \"No attendance\":\n",
    "        empty_dict[\"FREQ_ATND_SELF_HELP\"] = 1\n",
    "    elif FREQ_ATND_SELF_HELP == \"1 - 3 times in the past month\":\n",
    "        empty_dict[\"FREQ_ATND_SELF_HELP\"] = 2\n",
    "    elif FREQ_ATND_SELF_HELP == \"4 - 7 times in the past month\":\n",
    "        empty_dict[\"FREQ_ATND_SELF_HELP\"] = 3\n",
    "    elif FREQ_ATND_SELF_HELP == \"8 - 30 times in the past month\":\n",
    "        empty_dict[\"FREQ_ATND_SELF_HELP\"] = 4\n",
    "    elif FREQ_ATND_SELF_HELP == \"Some attendance, frequency is unknown\":\n",
    "        empty_dict[\"FREQ_ATND_SELF_HELP\"] = 5\n",
    "    # update FREQ_ATND_SELF_HELP_D info\n",
    "    if FREQ_ATND_SELF_HELP_D == \"No attendance\":\n",
    "        empty_dict[\"FREQ_ATND_SELF_HELP_D\"] = 1\n",
    "    elif FREQ_ATND_SELF_HELP_D == \"1 - 3 times per month\":\n",
    "        empty_dict[\"FREQ_ATND_SELF_HELP_D\"] = 2\n",
    "    elif FREQ_ATND_SELF_HELP_D == \"4 - 7 times per month\":\n",
    "        empty_dict[\"FREQ_ATND_SELF_HELP_D\"] = 3\n",
    "    elif FREQ_ATND_SELF_HELP_D == \"8 - 30 times per month\":\n",
    "        empty_dict[\"FREQ_ATND_SELF_HELP_D\"] = 4\n",
    "    elif FREQ_ATND_SELF_HELP_D == \"Some attendance, frequency is unknown\":\n",
    "        empty_dict[\"FREQ_ATND_SELF_HELP_D\"] = 5\n",
    "    # update PRIMPAY info\n",
    "    if PRIMPAY == \"Self - pay\":\n",
    "        empty_dict[\"PRIMPAY\"] = 1\n",
    "    elif PRIMPAY == \"Private insurance (Blue Cross/Blue Shield, other health insurance, workers compensation)\":\n",
    "        empty_dict[\"PRIMPAY\"] = 2\n",
    "    elif PRIMPAY == \"Medicare\":\n",
    "        empty_dict[\"PRIMPAY\"] = 3\n",
    "    elif PRIMPAY == \"Medicaid\":\n",
    "        empty_dict[\"PRIMPAY\"] = 4\n",
    "    elif PRIMPAY == \"Other government payments\":\n",
    "        empty_dict[\"PRIMPAY\"] = 5\n",
    "    elif PRIMPAY == \"No charge(free, charity, special research, teaching)\":\n",
    "        empty_dict[\"PRIMPAY\"] = 6\n",
    "    elif PRIMPAY == \"Other\":\n",
    "        empty_dict[\"PRIMPAY\"] = 7\n",
    "    # update DIVISION info\n",
    "    if DIVISION == \"U.S. territories\":\n",
    "        empty_dict[\"DIVISION\"] = 0\n",
    "    elif DIVISION == \"New England\":\n",
    "        empty_dict[\"DIVISION\"] = 1\n",
    "    elif DIVISION == \"Middle Atlantic\":\n",
    "        empty_dict[\"DIVISION\"] = 2\n",
    "    elif DIVISION == \"East North Central\":\n",
    "        empty_dict[\"DIVISION\"] = 3\n",
    "    elif DIVISION == \"West North Central\":\n",
    "        empty_dict[\"DIVISION\"] = 4\n",
    "    elif DIVISION == \"South Atlantic\":\n",
    "        empty_dict[\"DIVISION\"] = 5\n",
    "    elif DIVISION == \"East South Central\":\n",
    "        empty_dict[\"DIVISION\"] = 6\n",
    "    elif DIVISION == \"West South Central\":\n",
    "        empty_dict[\"DIVISION\"] = 7\n",
    "    elif DIVISION == \"Mountain\":\n",
    "        empty_dict[\"DIVISION\"] = 8\n",
    "    # update PREG info\n",
    "    if PREG == \"Yes\":\n",
    "         empty_dict[\"PREG\"] = 1\n",
    "    elif PREG == \"No\":\n",
    "        empty_dict[\"PREG\"] = 2\n",
    "    #starting with the dataset information\n",
    "    # ALCDRUG \n",
    "    if ALCDRUG == \"None\":\n",
    "        empty_dict[\"ALCDRUG\"] = 0\n",
    "    elif ALCDRUG == \"Alcohol only\":\n",
    "        empty_dict[\"ALCDRUG\"] = 1\n",
    "    elif ALCDRUG == \"Other drugs only\":\n",
    "        empty_dict[\"ALCDRUG\"] = 2\n",
    "    elif ALCDRUG == \"Alcohol and other drugs\":\n",
    "        empty_dict[\"ALCDRUG\"] = 3\n",
    "    # MTHAMFLG: Methamphetamine/speed reported at admission\n",
    "    if MTHAMFLG == \"Substance not reported\":\n",
    "        empty_dict[\"MTHAMFLG\"] = 0\n",
    "    elif MTHAMFLG == \"Substance reported\":\n",
    "        empty_dict[\"MTHAMFLG\"] = 1\n",
    "    # update METHUSE\n",
    "    if METHUSE == \"Yes\":\n",
    "        empty_dict[\"METHUSE\"] = 1\n",
    "    elif METHUSE == \"No\":\n",
    "        empty_dict[\"METHUSE\"] = 2\n",
    "    \n",
    "    # read in the cleaned DF\n",
    "    cleaned_df = pd.read_csv(\"cleaned_subfilter_removed_df.csv\")\n",
    "    # space to enter filtering options\n",
    "    #gender filter\n",
    "    if GENDER == \"Male  64.2%\":\n",
    "        cleaned_df = cleaned_df.loc[cleaned_df[\"GENDER\"] == 1]\n",
    "    elif GENDER == \"Female  35.8%\":\n",
    "        cleaned_df = cleaned_df.loc[cleaned_df[\"GENDER\"] == 2]\n",
    "    elif GENDER == \"No Gender Selected\":\n",
    "        cleaned_df = cleaned_df\n",
    "    # age filter\n",
    "    if AGE == \"12–14 years 0.5%\":\n",
    "        cleaned_df = cleaned_df.loc[cleaned_df[\"AGE\"] == 1]\n",
    "    elif AGE == \"15–17 years 2.2%\":\n",
    "        cleaned_df = cleaned_df.loc[cleaned_df[\"AGE\"] == 2]\n",
    "    elif AGE == \"18–20 years  2.7%\":\n",
    "        cleaned_df = cleaned_df.loc[cleaned_df[\"AGE\"] == 3] \n",
    "    elif AGE == \"21–24 years  7.6%\":\n",
    "        cleaned_df = cleaned_df.loc[cleaned_df[\"AGE\"] == 4] \n",
    "    elif AGE == \"25–29 years  16.8%\":\n",
    "        cleaned_df = cleaned_df.loc[cleaned_df[\"AGE\"] == 5] \n",
    "    elif AGE == \"30–34 years 17.4%\":\n",
    "        cleaned_df = cleaned_df.loc[cleaned_df[\"AGE\"] == 6] \n",
    "    elif AGE == \"35–39 years 14.5%\":\n",
    "        cleaned_df = cleaned_df.loc[cleaned_df[\"AGE\"] == 7] \n",
    "    elif AGE == \"40–44 years 10.3%\":\n",
    "        cleaned_df = cleaned_df.loc[cleaned_df[\"AGE\"] == 8] \n",
    "    elif AGE == \"45–49 years  8.8%\":\n",
    "        cleaned_df = cleaned_df.loc[cleaned_df[\"AGE\"] == 9] \n",
    "    elif AGE == \"50–54 years  8.2%\":\n",
    "        cleaned_df = cleaned_df.loc[cleaned_df[\"AGE\"] == 10] \n",
    "    elif AGE == \"55–64 years  9.7%\":\n",
    "        cleaned_df = cleaned_df.loc[cleaned_df[\"AGE\"] == 11] \n",
    "    elif AGE == \"65 years and older  1.4%\":\n",
    "        cleaned_df = cleaned_df.loc[cleaned_df[\"AGE\"] == 12] \n",
    "    elif AGE == \"No age Selected\":\n",
    "        cleaned_df = cleaned_df\n",
    "    # race filter\n",
    "    if RACE == \"Alaska Native (Aleut, Eskimo, Indian) 0.2%\":\n",
    "        cleaned_df = cleaned_df.loc[cleaned_df[\"RACE\"] == 1]\n",
    "    elif RACE == \"American Indian (other than Alaska Native) 2.5%\":\n",
    "        cleaned_df = cleaned_df.loc[cleaned_df[\"RACE\"] == 2]\n",
    "    elif RACE == \"Asian or Pacific Islander (Less than 0.1%)\":\n",
    "        cleaned_df = cleaned_df.loc[cleaned_df[\"RACE\"] == 3]\n",
    "    elif RACE == \"Black or African American 17.9%\":\n",
    "        cleaned_df = cleaned_df.loc[cleaned_df[\"RACE\"] == 4]\n",
    "    elif RACE == \"White 65.6%\":\n",
    "        cleaned_df = cleaned_df.loc[cleaned_df[\"RACE\"] == 5]\n",
    "    elif RACE == \"Asian 0.6%\":\n",
    "        cleaned_df = cleaned_df.loc[cleaned_df[\"RACE\"] == 6]\n",
    "    elif RACE == \"Other single race 10.8%\":\n",
    "        cleaned_df = cleaned_df.loc[cleaned_df[\"RACE\"] == 7]\n",
    "    elif RACE == \"Two or more races 1.8%\":\n",
    "        cleaned_df = cleaned_df.loc[cleaned_df[\"RACE\"] == 8]\n",
    "    elif RACE == \"Native Hawaiian or Other Pacific Islander 0.5%\":\n",
    "        cleaned_df = cleaned_df.loc[cleaned_df[\"RACE\"] == 9]\n",
    "    elif RACE == \"No Race Selected\":\n",
    "        cleaned_df = cleaned_df\n",
    "    #REGION: Census region Filter\n",
    "    if REGION == \"U.S. territories  0.2%\":\n",
    "        cleaned_df = cleaned_df.loc[cleaned_df[\"REGION\"] == 0]\n",
    "    elif REGION == \"Northeast 30.9%\":\n",
    "        cleaned_df = cleaned_df.loc[cleaned_df[\"REGION\"] == 1]\n",
    "    elif REGION == \"Midwest 17.6%\":\n",
    "        cleaned_df = cleaned_df.loc[cleaned_df[\"REGION\"] == 2]\n",
    "    elif REGION == \"South 29.4%\":\n",
    "        cleaned_df = cleaned_df.loc[cleaned_df[\"REGION\"] == 3]\n",
    "    elif REGION == \"West 22.0%\":\n",
    "        cleaned_df = cleaned_df.loc[cleaned_df[\"REGION\"] == 4]\n",
    "    elif REGION == \"No census region selected\":\n",
    "        cleaned_df = cleaned_df\n",
    "    # Education filter\n",
    "    if EDUC == \"Less than one school grade, no schooling, nursery school, or kindergarten to Grade 8 5.2%\":\n",
    "        cleaned_df = cleaned_df.loc[cleaned_df[\"EDUC\"] == 1]\n",
    "    elif EDUC == \"Grades 9 to 11 28.8%\":\n",
    "        cleaned_df = cleaned_df.loc[cleaned_df[\"EDUC\"] == 2]\n",
    "    elif EDUC == \"Grade 12 (or GED) 42.8%\":\n",
    "        cleaned_df = cleaned_df.loc[cleaned_df[\"EDUC\"] == 3]\n",
    "    elif EDUC == \"1-3 years of college, university, or vocational school 17.7%\":\n",
    "        cleaned_df = cleaned_df.loc[cleaned_df[\"EDUC\"] == 4]\n",
    "    elif EDUC == \"4 years of college, university, BA/BS, some postgraduate study, or more 5.5%\":\n",
    "        cleaned_df = cleaned_df.loc[cleaned_df[\"EDUC\"] == 5]\n",
    "    elif EDUC == \"No education Selected\":\n",
    "        cleaned_df = cleaned_df\n",
    "    # Vet Filter\n",
    "    if VET == \"Yes 2.5%\":\n",
    "        cleaned_df = cleaned_df.loc[cleaned_df[\"VET\"] == 1]\n",
    "    elif VET == \"No 97.5%\":\n",
    "        cleaned_df = cleaned_df.loc[cleaned_df[\"VET\"] == 2]\n",
    "    elif VET == \"No veteren status selected\":\n",
    "        cleaned_df = cleaned_df\n",
    "    #ARRESTS Filter\n",
    "    if ARRESTS == \"None  93%\":\n",
    "        cleaned_df = cleaned_df.loc[cleaned_df[\"ARRESTS\"] == 0]\n",
    "    elif ARRESTS == \"Once 6.0%\":\n",
    "        cleaned_df = cleaned_df.loc[cleaned_df[\"ARRESTS\"] == 1]\n",
    "    elif ARRESTS == \"Two or more times 1.1%\":\n",
    "        cleaned_df = cleaned_df.loc[cleaned_df[\"ARRESTS\"] == 1]\n",
    "    elif ARRESTS == \"No arrest status selected\":\n",
    "        cleaned_df = cleaned_df\n",
    "     #NOPRIOR Filter\n",
    "    if SUB1 == \"No prior treatment episodes 45.4%\":\n",
    "        cleaned_df = cleaned_df.loc[cleaned_df[\"NOPRIOR\"] == 0]\n",
    "    elif NOPRIOR == \"One or more prior treatment episodes 54.6%\":\n",
    "        cleaned_df = cleaned_df.loc[cleaned_df[\"NOPRIOR\"] == 1]\n",
    "    elif NOPRIOR == \"No prior status selected\":\n",
    "        cleaned_df = cleaned_df\n",
    "    # substance filter\n",
    "    if SUB1 == \"None 1.9%\":\n",
    "        cleaned_df = cleaned_df.loc[cleaned_df[\"SUB1\"] == 1]\n",
    "    elif SUB1 == \"Alcohol 30.3%\":\n",
    "        cleaned_df = cleaned_df.loc[cleaned_df[\"SUB1\"] == 2]\n",
    "    elif SUB1 == \"Cocaine/crack 5.8%\":\n",
    "        cleaned_df = cleaned_df.loc[cleaned_df[\"SUB1\"] == 3]\n",
    "    elif SUB1 == \"Marijuana/hashish 10.9%\":\n",
    "        cleaned_df = cleaned_df.loc[cleaned_df[\"SUB1\"] == 4]\n",
    "    elif SUB1 == \"Heroin 22.7%\":\n",
    "        cleaned_df = cleaned_df.loc[cleaned_df[\"SUB1\"] == 5]\n",
    "    elif SUB1 == \"Non-prescription methadone 0.2%\":\n",
    "        cleaned_df = cleaned_df.loc[cleaned_df[\"SUB1\"] == 6]\n",
    "    elif SUB1 == \"Other opiates and synthetics 7.3%\":\n",
    "        cleaned_df = cleaned_df.loc[cleaned_df[\"SUB1\"] == 7]\n",
    "    elif SUB1 == \"PCP 0.2%\":\n",
    "        cleaned_df = cleaned_df.loc[cleaned_df[\"SUB1\"] == 8]\n",
    "    elif SUB1 == \"Hallucinogens 0.1%\":\n",
    "        cleaned_df = cleaned_df.loc[cleaned_df[\"SUB1\"] == 9]\n",
    "    elif SUB1 == \"Methamphetamine/speed 12.0%\":\n",
    "        cleaned_df = cleaned_df.loc[cleaned_df[\"SUB1\"] == 10]\n",
    "    elif SUB1 == \"Other amphetamines 0.6%\":\n",
    "        cleaned_df = cleaned_df.loc[cleaned_df[\"SUB1\"] == 11]\n",
    "    elif SUB1 == \"Other stimulants 0.1%\":\n",
    "        cleaned_df = cleaned_df.loc[cleaned_df[\"SUB1\"] == 12]\n",
    "    elif SUB1 == \"Benzodiazepines 1.0%\":\n",
    "        cleaned_df = cleaned_df.loc[cleaned_df[\"SUB1\"] == 13]\n",
    "    elif SUB1 == \"Other tranquilizers (less than 0.1%)\":\n",
    "        cleaned_df = cleaned_df.loc[cleaned_df[\"SUB1\"] == 14]\n",
    "    elif SUB1 == \"Barbiturates 0.1%\":\n",
    "        cleaned_df = cleaned_df.loc[cleaned_df[\"SUB1\"] == 15]\n",
    "    elif SUB1 == \"Other sedatives or hypnotics 0.1%\":\n",
    "        cleaned_df = cleaned_df.loc[cleaned_df[\"SUB1\"] == 16]\n",
    "    elif SUB1 == \"Inhalants (less than 0.1%)\":\n",
    "        cleaned_df = cleaned_df.loc[cleaned_df[\"SUB1\"] == 17]\n",
    "    elif SUB1 == \"Over-the-counter medications (less than 0.1%)\":\n",
    "        cleaned_df = cleaned_df.loc[cleaned_df[\"SUB1\"] == 18]\n",
    "    elif SUB1 == \"Other drugs 5.8%\":\n",
    "        cleaned_df = cleaned_df.loc[cleaned_df[\"SUB1\"] == 19]\n",
    "    elif SUB1 == \"No Substance filter selected\":\n",
    "        cleaned_df = cleaned_df\n",
    "    # FREQ1 filter\n",
    "    if FREQ1 == \"No use in the past month 34.7%\":\n",
    "        cleaned_df = cleaned_df.loc[cleaned_df[\"FREQ1\"] == 1]\n",
    "    elif FREQ1 == \"Some use 24.9%\":\n",
    "        cleaned_df = cleaned_df.loc[cleaned_df[\"FREQ1\"] == 2]\n",
    "    elif FREQ1 == \"Daily use 40.3%\":\n",
    "        cleaned_df = cleaned_df.loc[cleaned_df[\"FREQ1\"] == 3]\n",
    "    elif SUB2 == \"No frequency filter selected\":\n",
    "        cleaned_df = cleaned_df\n",
    "    # secondary substance filter\n",
    "    if SUB2 == \"None  43.5%\":\n",
    "        cleaned_df = cleaned_df.loc[cleaned_df[\"SUB2\"] == 1]\n",
    "    elif SUB2 == \"Alcohol  8.8%\":\n",
    "        cleaned_df = cleaned_df.loc[cleaned_df[\"SUB2\"] == 2]\n",
    "    elif SUB2 == \"Cocaine/crack 10.9%\":\n",
    "        cleaned_df = cleaned_df.loc[cleaned_df[\"SUB2\"] == 3]\n",
    "    elif SUB2 == \"Marijuana/hashish 13.4%\":\n",
    "        cleaned_df = cleaned_df.loc[cleaned_df[\"SUB2\"] == 4]\n",
    "    elif SUB2 == \"Heroin 3.7%\":\n",
    "        cleaned_df = cleaned_df.loc[cleaned_df[\"SUB2\"] == 5]\n",
    "    elif SUB2 == \"Non-prescription methadone 0.2%\":\n",
    "        cleaned_df = cleaned_df.loc[cleaned_df[\"SUB2\"] == 6]\n",
    "    elif SUB2 == \"Other opiates and synthetics 3.7%\":\n",
    "        cleaned_df = cleaned_df.loc[cleaned_df[\"SUB2\"] == 7]\n",
    "    elif SUB2 == \"PCP 0.2%\":\n",
    "        cleaned_df = cleaned_df.loc[cleaned_df[\"SUB2\"] == 8]\n",
    "    elif SUB2 == \"Hallucinogens 0.2%\":\n",
    "        cleaned_df = cleaned_df.loc[cleaned_df[\"SUB2\"] == 9]\n",
    "    elif SUB2 == \"Methamphetamine/speed 6.3%\":\n",
    "        cleaned_df = cleaned_df.loc[cleaned_df[\"SUB2\"] == 10]\n",
    "    elif SUB2 == \"Other amphetamines 0.5%\":\n",
    "        cleaned_df = cleaned_df.loc[cleaned_df[\"SUB2\"] == 11]\n",
    "    elif SUB2 == \"Other stimulants 0.2%\":\n",
    "        cleaned_df = cleaned_df.loc[cleaned_df[\"SUB2\"] == 12]\n",
    "    elif SUB2 == \"Benzodiazepines 2.9%\":\n",
    "        cleaned_df = cleaned_df.loc[cleaned_df[\"SUB2\"] == 13]\n",
    "    elif SUB2 == \"Other tranquilizers (less than 0.1%)\":\n",
    "        cleaned_df = cleaned_df.loc[cleaned_df[\"SUB2\"] == 14]\n",
    "    elif SUB2 == \"Barbiturates (less than 0.1%)\":\n",
    "        cleaned_df = cleaned_df.loc[cleaned_df[\"SUB2\"] == 15]\n",
    "    elif SUB2 == \"Other sedatives or hypnotics 0.2%\":\n",
    "        cleaned_df = cleaned_df.loc[cleaned_df[\"SUB2\"] == 16]\n",
    "    elif SUB2 == \"Inhalants (less than 0.1%)\":\n",
    "        cleaned_df = cleaned_df.loc[cleaned_df[\"SUB2\"] == 17]\n",
    "    elif SUB2 == \"Over-the-counter medications 0.1%\":\n",
    "        cleaned_df = cleaned_df.loc[cleaned_df[\"SUB2\"] == 18]\n",
    "    elif SUB2 == \"Other drugs 1.5%\":\n",
    "        cleaned_df = cleaned_df.loc[cleaned_df[\"SUB2\"] == 19]\n",
    "    elif SUB2 == \"No secondary substance filter selected\":\n",
    "        cleaned_df = cleaned_df\n",
    "    # FREQ2 filter\n",
    "    if FREQ2 == \"No use in the past month 64.7%\":\n",
    "        cleaned_df = cleaned_df.loc[cleaned_df[\"FREQ1\"] == 1]\n",
    "    elif FREQ1 == \"Some use 18.1%\":\n",
    "        cleaned_df = cleaned_df.loc[cleaned_df[\"FREQ1\"] == 2]\n",
    "    elif FREQ1 == \"Daily use 17.3%\":\n",
    "        cleaned_df = cleaned_df.loc[cleaned_df[\"FREQ1\"] == 3]\n",
    "    elif SUB2 == \"No secondary frequency filter selected\":\n",
    "        cleaned_df = cleaned_df\n",
    "    # IDU filter\n",
    "    if IDU == \"IDU not reported 77.4%\":\n",
    "        cleaned_df = cleaned_df.loc[cleaned_df[\"IDU\"] == 0]\n",
    "    elif IDU == \"IDU reported 22.6%\":\n",
    "        cleaned_df = cleaned_df.loc[cleaned_df[\"IDU\"] == 1]\n",
    "    elif SUB2 == \"No class IV drug filter selected\":\n",
    "        cleaned_df = cleaned_df\n",
    "    # ALCFLG filter\n",
    "    if ALCFLG == \"Alcohol reported at admission 57.5%\":\n",
    "        cleaned_df = cleaned_df.loc[cleaned_df[\"ALCFLG\"] == 0]\n",
    "    elif ALCFLG == \"Alcohol Not reported at admission 22.6%\":\n",
    "        cleaned_df = cleaned_df.loc[cleaned_df[\"ALCFLG\"] == 1]\n",
    "    elif ALCFLG == \"No filter option selected\":\n",
    "        cleaned_df = cleaned_df\n",
    "    # MARFLG filter\n",
    "    if MARFLG == \"Marijuana/hashish reported at admission 70.1%\":\n",
    "        cleaned_df = cleaned_df.loc[cleaned_df[\"MARFLG\"] == 0]\n",
    "    elif MARFLG == \"Marijuana/hashish Not reported at admission 29.9%\":\n",
    "        cleaned_df = cleaned_df.loc[cleaned_df[\"MARFLG\"] == 1]\n",
    "    elif MARFLG == \"No filter option selected\":\n",
    "        cleaned_df = cleaned_df\n",
    "    # PSYPROB filter\n",
    "    if PSYPROB == \"Co-occurring mental and substance use disorders reported 42.2%\":\n",
    "        cleaned_df = cleaned_df.loc[cleaned_df[\"PSYPROB\"] == 0]\n",
    "    elif PSYPROB == \"Co-occurring mental and substance use disorders Not reported 47.8%\":\n",
    "        cleaned_df = cleaned_df.loc[cleaned_df[\"PSYPROB\"] == 1]\n",
    "    elif PSYPROB == \"No filter option selected\":\n",
    "        cleaned_df = cleaned_df\n",
    "    # DSMCRIT: DSM diagnosis (SuDS 4 or SuDS 19) filter\n",
    "    if DSMCRIT == \"Alcohol-induced disorder 0.7%\":\n",
    "        cleaned_df = cleaned_df.loc[cleaned_df[\"DSMCRIT\"] == 1]\n",
    "    elif DSMCRIT == \"Substance-induced disorder 2.3%\":\n",
    "        cleaned_df = cleaned_df.loc[cleaned_df[\"DSMCRIT\"] == 2]\n",
    "    elif DSMCRIT == \"Alcohol intoxication 1.7%\":\n",
    "        cleaned_df = cleaned_df.loc[cleaned_df[\"DSMCRIT\"] == 3]\n",
    "    elif DSMCRIT == \"Alcohol dependence 16.8%\":\n",
    "        cleaned_df = cleaned_df.loc[cleaned_df[\"DSMCRIT\"] == 4]\n",
    "    elif DSMCRIT == \"Opioid dependence 22.1%\":\n",
    "        cleaned_df = cleaned_df.loc[cleaned_df[\"DSMCRIT\"] == 5]\n",
    "    elif DSMCRIT == \"Cocaine dependence 3.3%\":\n",
    "        cleaned_df = cleaned_df.loc[cleaned_df[\"DSMCRIT\"] == 6]\n",
    "    elif DSMCRIT == \"Cannabis dependence 4.8%\":\n",
    "        cleaned_df = cleaned_df.loc[cleaned_df[\"DSMCRIT\"] == 7]\n",
    "    elif DSMCRIT == \"Other substance dependence 8.3%\":\n",
    "        cleaned_df = cleaned_df.loc[cleaned_df[\"DSMCRIT\"] == 8]\n",
    "    elif DSMCRIT == \"Alcohol abuse 3.1%\":\n",
    "        cleaned_df = cleaned_df.loc[cleaned_df[\"DSMCRIT\"] == 9]\n",
    "    elif DSMCRIT == \"Cannabis abuse 2.3%\":\n",
    "        cleaned_df = cleaned_df.loc[cleaned_df[\"DSMCRIT\"] == 10]\n",
    "    elif DSMCRIT == \"Other substance abuse 1.4%\":\n",
    "        cleaned_df = cleaned_df.loc[cleaned_df[\"DSMCRIT\"] == 11]\n",
    "    elif DSMCRIT == \"Opioid abuse 1.0%\":\n",
    "        cleaned_df = cleaned_df.loc[cleaned_df[\"DSMCRIT\"] == 12]\n",
    "    elif DSMCRIT == \"Cocaine abuse 0.5%\":\n",
    "        cleaned_df = cleaned_df.loc[cleaned_df[\"DSMCRIT\"] == 13]\n",
    "    elif DSMCRIT == \"Anxiety disorders 0.1%\":\n",
    "        cleaned_df = cleaned_df.loc[cleaned_df[\"DSMCRIT\"] == 14]\n",
    "    elif DSMCRIT == \"Depressive disorders 0.3%\":\n",
    "        cleaned_df = cleaned_df.loc[cleaned_df[\"DSMCRIT\"] == 15]\n",
    "    elif DSMCRIT == \"Schizophrenia/other psychotic disorders 0.1%\":\n",
    "        cleaned_df = cleaned_df.loc[cleaned_df[\"DSMCRIT\"] == 16]\n",
    "    elif DSMCRIT == \"Bipolar disorderss 0.1%\":\n",
    "        cleaned_df = cleaned_df.loc[cleaned_df[\"DSMCRIT\"] == 17]\n",
    "    elif DSMCRIT == \"Attention deficit/disruptive behavior disorders (less than 0.1%)\":\n",
    "        cleaned_df = cleaned_df.loc[cleaned_df[\"DSMCRIT\"] == 18]\n",
    "    elif DSMCRIT == \"Other mental health condition 7.3%\":\n",
    "        cleaned_df = cleaned_df.loc[cleaned_df[\"DSMCRIT\"] == 19]\n",
    "    elif DSMCRIT == \"No disorder diagnosis selected\":\n",
    "        cleaned_df = cleaned_df\n",
    "    \n",
    "\n",
    "\n",
    "    # add the code the to survey dataframe created above\n",
    "    #survey_df.append(empty_dict, ignore_index=True)\n",
    "    # survey_df=pd.DataFrame(empty_dict)\n",
    "    survey_df.loc[len(survey_df)] = empty_dict\n",
    "    # y = cleaned_df[\"REASON\"].values.reshape(-1, 1)\n",
    "    # for column in survey_df:\n",
    "    #     survey_df[column] = empty_dict[column]\n",
    "    # return survey_df\n",
    "\n",
    "    # return empty_dict\n",
    "    # X = cleaned_df.copy()\n",
    "    # df1 = df_filter\n",
    "    # X3.drop(\"REASON\", axis=1, inplace=True)\n",
    "    X_train = cleaned_df[[\"MARSTAT\",\"HLTHINS\",\"EMPLOY\",\"LIVARAG\",\"DAYWAIT\",\"SERVICES\",\"FRSTUSE1\",\"FREQ_ATND_SELF_HELP\",\"FREQ_ATND_SELF_HELP_D\",\"PRIMPAY\",\"DIVISION\",\"PREG\",\"ALCDRUG\",\"MTHAMFLG\",\"METHUSE\"]] \n",
    "    X_test = survey_df[[\"MARSTAT\",\"HLTHINS\",\"EMPLOY\",\"LIVARAG\",\"DAYWAIT\",\"SERVICES\",\"FRSTUSE1\",\"FREQ_ATND_SELF_HELP\",\"FREQ_ATND_SELF_HELP_D\",\"PRIMPAY\",\"DIVISION\",\"PREG\",\"ALCDRUG\",\"MTHAMFLG\",\"METHUSE\"]]\n",
    "    y_train = cleaned_df[\"REASON\"].values.reshape(-1, 1)\n",
    "    # y_test = train_test_split(X2, y2, random_state=78)\n",
    "    # return X_test\n",
    "\n",
    "    # Define the pipeline with imputer and scaler\n",
    "    # pipeline = Pipeline([\n",
    "    # ('imputer', SimpleImputer(strategy='mean')),\n",
    "    # ('scaler', StandardScaler())\n",
    "    # ])\n",
    "    # imputer = SimpleImputer(strategy='mean')\n",
    "    scaler = StandardScaler()\n",
    "    # X_imputer = imputer.fit_transform(X_train)\n",
    "    # X_imputer_test = imputer.fit_transform(X_test)\n",
    "    X_train_scaled = scaler.fit_transform(X_train)\n",
    "    X_test_scaled = scaler.fit_transform(X_test)\n",
    "    # X_train_scaled = X_scaler.transform(X_scaler)\n",
    "    # X_test_scaled = X_scaler.transform(X_scaler_test)\n",
    "    # Create the decision tree classifier instance\n",
    "    # model = RandomForestClassifier()\n",
    "    mlp = MLPClassifier(hidden_layer_sizes=(100,), max_iter=500, random_state=42)\n",
    "    # Fit the model\n",
    "    mlp = mlp.fit(X_train_scaled, y_train)\n",
    "\n",
    "    corr_matrix_df = cleaned_df[[\"FREQ_ATND_SELF_HELP_D\",\"FREQ_ATND_SELF_HELP\",\"HLTHINS\",\"ALCDRUG\",\"OTHERFLG\",\"OTCFLG\",\"INHFLG\",\"SEDHPFLG\",\"BARBFLG\",\"TRNQFLG\",\"BENZFLG\",\n",
    "                    \"STIMFLG\",\"AMPHFLG\",\"MTHAMFLG\",\"HALLFLG\",\"PCPFLG\",\"OPSYNFLG\",\"METHFLG\",\"HERFLG\",\"MARFLG\",\"COKEFLG\",\"ALCFLG\",\"REASON\",\"ARRESTS\",\"LIVARAG_D\",\n",
    "                    \"EMPLOY_D\",\"EDUC\"]]\n",
    "    \n",
    "    df_corr = corr_matrix_df.corr()\n",
    "    df_corr.unstack().sort_values()\n",
    "    variable = df_corr['REASON'].sort_values()\n",
    "    reason1 = variable.index[-2]\n",
    "    reason2 = variable.index[-3]\n",
    "    reason3 = variable.index[-4]\n",
    "    reason4 = variable.index[-5]\n",
    "    reason5 = variable.index[-6]\n",
    "\n",
    "    if reason1 == \"FREQ_ATND_SELF_HELP_D\":\n",
    "        reason1 = \"continuing the beneficial practice of attending self-help meetings after completing your stay at the House Of Hope\"\n",
    "    elif reason1 == \"FREQ_ATND_SELF_HELP\":\n",
    "        reason1 = \"actively engaging in self-help meetings during your stay at the House Of Hope\"\n",
    "    elif reason1 == \"EDUC\":\n",
    "        reason1 = \"furthering your education\"\n",
    "    elif reason1 == \"HLTHINS\":\n",
    "        reason1 = \"successfully securing health insurance\"\n",
    "    elif reason1 == \"ALCDRUG\":\n",
    "        reason1 = \"committing to treatment and making significant progress in addressing alcohol and drug use\"\n",
    "    elif reason1 == \"OTHERFLG\":\n",
    "        reason1 = \"choosing to refrain from using other substances\"\n",
    "    elif reason1 == \"OTCFLG\":\n",
    "        reason1 = \"choosing to not abuse the use of over-the-counter medications\"\n",
    "    elif reason1 == \"INHFLG\":\n",
    "        reason1 = \"choosing to refrain from inhaling substances\"\n",
    "    elif reason1 == \"SEDHPFLG\":\n",
    "        reason1 = \"choosing to refrain from using sedatives or hypnotics\"\n",
    "    elif reason1 == \"BARBFLG\":\n",
    "        reason1 = \"choosing to refrain from using barbiturates\"\n",
    "    elif reason1 == \"TRNQFLG\":\n",
    "        reason1 = \"choosing to refrain from using tranquilizers\"\n",
    "    elif reason1 == \"BENZFLG\":\n",
    "        reason1 = \"choosing to refrain from using benzodiazepines\"\n",
    "    elif reason1 == \"STIMFLG\":\n",
    "        reason1 = \"choosing to refrain from using stimulants\"\n",
    "    elif reason1 == \"AMPHFLG\":\n",
    "        reason1 = \"choosing to refrain from using amphetamines\"\n",
    "    elif reason1 == \"MTHAMFLG\":\n",
    "        reason1 = \"seeking and benefiting from treatment for methamphetamine use\"\n",
    "    elif reason1 == \"HALLFLG\":\n",
    "        reason1 = \"choosing to refrain from using hallucinogens\"\n",
    "    elif reason1 == \"PCPFLG\":\n",
    "        reason1 = \"choosing to refrain from using phencyclidine\"\n",
    "    elif reason1 == \"OPSYNFLG\":\n",
    "        reason1 = \"choosing to refrain from using other opiates or synthetics\"\n",
    "    elif reason1 == \"METHFLG\":\n",
    "        reason1 = \"choosing to refrain from using non-prescription methadone\"\n",
    "    elif reason1 == \"HERFLG\":\n",
    "        reason1 = \"choosing to refrain from using heroin\"\n",
    "    elif reason1 == \"MARFLG\":\n",
    "        reason1 = \"seeking and benefiting from treatment for marijuana use\"\n",
    "    elif reason1 == \"COKEFLG\":\n",
    "        reason1 = \"choosing to refrain from using cocaine\"\n",
    "    elif reason1 == \"ALCFLG\":\n",
    "        reason1 = \"seeking and benefiting from treatment for alcohol use\"\n",
    "    elif reason1 == \"ARRESTS\":\n",
    "        reason1 = \"actively working to avoid legal trouble\"\n",
    "    elif reason1 == \"LIVARAG_D\":\n",
    "        reason1 = \"securing stable and supportive living arrangements after completing your stay at the House Of Hope\"\n",
    "    elif reason1 == \"EMPLOY_D\":\n",
    "        reason1 = \"successfully obtaining employment after completing your stay at the House Of Hope\"\n",
    "    \n",
    "    if reason2 == \"FREQ_ATND_SELF_HELP_D\":\n",
    "        reason2 = \"continuing the beneficial practice of attending self-help meetings after completing your stay at the House Of Hope\"\n",
    "    elif reason2 == \"FREQ_ATND_SELF_HELP\":\n",
    "        reason2 = \"actively engaging in self-help meetings during your stay at the House Of Hope\"\n",
    "    elif reason2 == \"EDUC\":\n",
    "        reason2 = \"furthering your education\"\n",
    "    elif reason2 == \"HLTHINS\":\n",
    "        reason2 = \"successfully securing health insurance\"\n",
    "    elif reason2 == \"ALCDRUG\":\n",
    "        reason2 = \"committing to treatment and making significant progress in addressing alcohol and drug use\"\n",
    "    elif reason2 == \"OTHERFLG\":\n",
    "        reason2 = \"choosing to refrain from using other substances\"\n",
    "    elif reason2 == \"OTCFLG\":\n",
    "        reason2 = \"choosing to not abuse the use of over-the-counter medications\"\n",
    "    elif reason2 == \"INHFLG\":\n",
    "        reason2 = \"choosing to refrain from inhaling substances\"\n",
    "    elif reason2 == \"SEDHPFLG\":\n",
    "        reason2 = \"choosing to refrain from using sedatives or hypnotics\"\n",
    "    elif reason2 == \"BARBFLG\":\n",
    "        reason2 = \"choosing to refrain from using barbiturates\"\n",
    "    elif reason2 == \"TRNQFLG\":\n",
    "        reason2 = \"choosing to refrain from using tranquilizers\"\n",
    "    elif reason2 == \"BENZFLG\":\n",
    "        reason2 = \"choosing to refrain from using benzodiazepines\"\n",
    "    elif reason2 == \"STIMFLG\":\n",
    "        reason2 = \"choosing to refrain from using stimulants\"\n",
    "    elif reason2 == \"AMPHFLG\":\n",
    "        reason2 = \"choosing to refrain from using amphetamines\"\n",
    "    elif reason2 == \"MTHAMFLG\":\n",
    "        reason2 = \"seeking and benefiting from treatment for methamphetamine use\"\n",
    "    elif reason2 == \"HALLFLG\":\n",
    "        reason2 = \"choosing to refrain from using hallucinogens\"\n",
    "    elif reason2 == \"PCPFLG\":\n",
    "        reason2 = \"choosing to refrain from using phencyclidine\"\n",
    "    elif reason2 == \"OPSYNFLG\":\n",
    "        reason2 = \"choosing to refrain from using other opiates or synthetics\"\n",
    "    elif reason2 == \"METHFLG\":\n",
    "        reason2 = \"choosing to refrain from using non-prescription methadone\"\n",
    "    elif reason2 == \"HERFLG\":\n",
    "        reason2 = \"choosing to refrain from using heroin\"\n",
    "    elif reason2 == \"MARFLG\":\n",
    "        reason2 = \"seeking and benefiting from treatment for marijuana use\"\n",
    "    elif reason2 == \"COKEFLG\":\n",
    "        reason2 = \"choosing to refrain from using cocaine\"\n",
    "    elif reason2 == \"ALCFLG\":\n",
    "        reason2 = \"seeking and benefiting from treatment for alcohol use\"\n",
    "    elif reason2 == \"ARRESTS\":\n",
    "        reason2 = \"actively working to avoid legal trouble\"\n",
    "    elif reason2 == \"LIVARAG_D\":\n",
    "        reason2 = \"securing stable and supportive living arrangements after completing your stay at the House Of Hope\"\n",
    "    elif reason2 == \"EMPLOY_D\":\n",
    "        reason2 = \"successfully obtaining employment after completing your stay at the House Of Hope\"\n",
    "    \n",
    "    if reason3 == \"FREQ_ATND_SELF_HELP_D\":\n",
    "        reason3 = \"continuing the beneficial practice of attending self-help meetings after completing your stay at the House Of Hope\"\n",
    "    elif reason3 == \"FREQ_ATND_SELF_HELP\":\n",
    "        reason3 = \"actively engaging in self-help meetings during your stay at the House Of Hope\"\n",
    "    elif reason3 == \"EDUC\":\n",
    "        reason3 = \"furthering your education\"\n",
    "    elif reason3 == \"HLTHINS\":\n",
    "        reason3 = \"successfully securing health insurance\"\n",
    "    elif reason3 == \"ALCDRUG\":\n",
    "        reason3 = \"committing to treatment and making significant progress in addressing alcohol and drug use\"\n",
    "    elif reason3 == \"OTHERFLG\":\n",
    "        reason3 = \"choosing to refrain from using other substances\"\n",
    "    elif reason3 == \"OTCFLG\":\n",
    "        reason3 = \"choosing to not abuse the use of over-the-counter medications\"\n",
    "    elif reason3 == \"INHFLG\":\n",
    "        reason3 = \"choosing to refrain from inhaling substances\"\n",
    "    elif reason3 == \"SEDHPFLG\":\n",
    "        reason3 = \"choosing to refrain from using sedatives or hypnotics\"\n",
    "    elif reason3 == \"BARBFLG\":\n",
    "        reason3 = \"choosing to refrain from using barbiturates\"\n",
    "    elif reason3 == \"TRNQFLG\":\n",
    "        reason3 = \"choosing to refrain from using tranquilizers\"\n",
    "    elif reason3 == \"BENZFLG\":\n",
    "        reason3 = \"choosing to refrain from using benzodiazepines\"\n",
    "    elif reason3 == \"STIMFLG\":\n",
    "        reason3 = \"choosing to refrain from using stimulants\"\n",
    "    elif reason3 == \"AMPHFLG\":\n",
    "        reason3 = \"choosing to refrain from using amphetamines\"\n",
    "    elif reason3 == \"MTHAMFLG\":\n",
    "        reason3 = \"seeking and benefiting from treatment for methamphetamine use\"\n",
    "    elif reason3 == \"HALLFLG\":\n",
    "        reason3 = \"choosing to refrain from using hallucinogens\"\n",
    "    elif reason3 == \"PCPFLG\":\n",
    "        reason3 = \"choosing to refrain from using phencyclidine\"\n",
    "    elif reason3 == \"OPSYNFLG\":\n",
    "        reason3 = \"choosing to refrain from using other opiates or synthetics\"\n",
    "    elif reason3 == \"METHFLG\":\n",
    "        reason3 = \"choosing to refrain from using non-prescription methadone\"\n",
    "    elif reason3 == \"HERFLG\":\n",
    "        reason3 = \"choosing to refrain from using heroin\"\n",
    "    elif reason3 == \"MARFLG\":\n",
    "        reason3 = \"seeking and benefiting from treatment for marijuana use\"\n",
    "    elif reason3 == \"COKEFLG\":\n",
    "        reason3 = \"choosing to refrain from using cocaine\"\n",
    "    elif reason3 == \"ALCFLG\":\n",
    "        reason3 = \"seeking and benefiting from treatment for alcohol use\"\n",
    "    elif reason3 == \"ARRESTS\":\n",
    "        reason3 = \"actively working to avoid legal trouble\"\n",
    "    elif reason3 == \"LIVARAG_D\":\n",
    "        reason3 = \"securing stable and supportive living arrangements after completing your stay at the House Of Hope\"\n",
    "    elif reason3 == \"EMPLOY_D\":\n",
    "        reason3 = \"successfully obtaining employment after completing your stay at the House Of Hope\"\n",
    "\n",
    "    if reason4 == \"FREQ_ATND_SELF_HELP_D\":\n",
    "        reason4 = \"continuing the beneficial practice of attending self-help meetings after completing your stay at the House Of Hope\"\n",
    "    elif reason4 == \"FREQ_ATND_SELF_HELP\":\n",
    "        reason4 = \"actively engaging in self-help meetings during your stay at the House Of Hope\"\n",
    "    elif reason4 == \"EDUC\":\n",
    "        reason4 = \"furthering your education\"\n",
    "    elif reason4 == \"HLTHINS\":\n",
    "        reason4 = \"successfully securing health insurance\"\n",
    "    elif reason4 == \"ALCDRUG\":\n",
    "        reason4 = \"committing to treatment and making significant progress in addressing alcohol and drug use\"\n",
    "    elif reason4 == \"OTHERFLG\":\n",
    "        reason4 = \"choosing to refrain from using other substances\"\n",
    "    elif reason4 == \"OTCFLG\":\n",
    "        reason4 = \"choosing to not abuse the use of over-the-counter medications\"\n",
    "    elif reason4 == \"INHFLG\":\n",
    "        reason4 = \"choosing to refrain from inhaling substances\"\n",
    "    elif reason4 == \"SEDHPFLG\":\n",
    "        reason4 = \"choosing to refrain from using sedatives or hypnotics\"\n",
    "    elif reason4 == \"BARBFLG\":\n",
    "        reason4 = \"choosing to refrain from using barbiturates\"\n",
    "    elif reason4 == \"TRNQFLG\":\n",
    "        reason4 = \"choosing to refrain from using tranquilizers\"\n",
    "    elif reason4 == \"BENZFLG\":\n",
    "        reason4 = \"choosing to refrain from using benzodiazepines\"\n",
    "    elif reason4 == \"STIMFLG\":\n",
    "        reason4 = \"choosing to refrain from using stimulants\"\n",
    "    elif reason4 == \"AMPHFLG\":\n",
    "        reason4 = \"choosing to refrain from using amphetamines\"\n",
    "    elif reason4 == \"MTHAMFLG\":\n",
    "        reason4 = \"seeking and benefiting from treatment for methamphetamine use\"\n",
    "    elif reason4 == \"HALLFLG\":\n",
    "        reason4 = \"choosing to refrain from using hallucinogens\"\n",
    "    elif reason4 == \"PCPFLG\":\n",
    "        reason4 = \"choosing to refrain from using phencyclidine\"\n",
    "    elif reason4 == \"OPSYNFLG\":\n",
    "        reason4 = \"choosing to refrain from using other opiates or synthetics\"\n",
    "    elif reason4 == \"METHFLG\":\n",
    "        reason4 = \"choosing to refrain from using non-prescription methadone\"\n",
    "    elif reason4 == \"HERFLG\":\n",
    "        reason4 = \"choosing to refrain from using heroin\"\n",
    "    elif reason4 == \"MARFLG\":\n",
    "        reason4 = \"seeking and benefiting from treatment for marijuana use\"\n",
    "    elif reason4 == \"COKEFLG\":\n",
    "        reason4 = \"choosing to refrain from using cocaine\"\n",
    "    elif reason4 == \"ALCFLG\":\n",
    "        reason4 = \"seeking and benefiting from treatment for alcohol use\"\n",
    "    elif reason4 == \"ARRESTS\":\n",
    "        reason4 = \"actively working to avoid legal trouble\"\n",
    "    elif reason4 == \"LIVARAG_D\":\n",
    "        reason4 = \"securing stable and supportive living arrangements after completing your stay at the House Of Hope\"\n",
    "    elif reason4 == \"EMPLOY_D\":\n",
    "        reason4 = \"successfully obtaining employment after completing your stay at the House Of Hope\" \n",
    "\n",
    "    if reason5 == \"FREQ_ATND_SELF_HELP_D\":\n",
    "        reason5 = \"continuing the beneficial practice of attending self-help meetings after completing your stay at the House Of Hope\"\n",
    "    elif reason5 == \"FREQ_ATND_SELF_HELP\":\n",
    "        reason5 = \"actively engaging in self-help meetings during your stay at the House Of Hope\"\n",
    "    elif reason5 == \"EDUC\":\n",
    "        reason5 = \"furthering your education\"\n",
    "    elif reason5 == \"HLTHINS\":\n",
    "        reason5 = \"successfully securing health insurance\"\n",
    "    elif reason5 == \"ALCDRUG\":\n",
    "        reason5 = \"committing to treatment and making significant progress in addressing alcohol and drug use\"\n",
    "    elif reason5 == \"OTHERFLG\":\n",
    "        reason5 = \"choosing to refrain from using other substances\"\n",
    "    elif reason5 == \"OTCFLG\":\n",
    "        reason5 = \"choosing to not abuse the use of over-the-counter medications\"\n",
    "    elif reason5 == \"INHFLG\":\n",
    "        reason5 = \"choosing to refrain from inhaling substances\"\n",
    "    elif reason5 == \"SEDHPFLG\":\n",
    "        reason5 = \"choosing to refrain from using sedatives or hypnotics\"\n",
    "    elif reason5 == \"BARBFLG\":\n",
    "        reason5 = \"choosing to refrain from using barbiturates\"\n",
    "    elif reason5 == \"TRNQFLG\":\n",
    "        reason5 = \"choosing to refrain from using tranquilizers\"\n",
    "    elif reason5 == \"BENZFLG\":\n",
    "        reason5 = \"choosing to refrain from using benzodiazepines\"\n",
    "    elif reason5 == \"STIMFLG\":\n",
    "        reason5 = \"choosing to refrain from using stimulants\"\n",
    "    elif reason5 == \"AMPHFLG\":\n",
    "        reason5 = \"choosing to refrain from using amphetamines\"\n",
    "    elif reason5 == \"MTHAMFLG\":\n",
    "        reason5 = \"seeking and benefiting from treatment for methamphetamine use\"\n",
    "    elif reason5 == \"HALLFLG\":\n",
    "        reason5 = \"choosing to refrain from using hallucinogens\"\n",
    "    elif reason5 == \"PCPFLG\":\n",
    "        reason5 = \"choosing to refrain from using phencyclidine\"\n",
    "    elif reason5 == \"OPSYNFLG\":\n",
    "        reason5 = \"choosing to refrain from using other opiates or synthetics\"\n",
    "    elif reason5 == \"METHFLG\":\n",
    "        reason5 = \"choosing to refrain from using non-prescription methadone\"\n",
    "    elif reason5 == \"HERFLG\":\n",
    "        reason5 = \"choosing to refrain from using heroin\"\n",
    "    elif reason5 == \"MARFLG\":\n",
    "        reason5 = \"seeking and benefiting from treatment for marijuana use\"\n",
    "    elif reason5 == \"COKEFLG\":\n",
    "        reason5 = \"choosing to refrain from using cocaine\"\n",
    "    elif reason5 == \"ALCFLG\":\n",
    "        reason5 = \"seeking and benefiting from treatment for alcohol use\"\n",
    "    elif reason5 == \"ARRESTS\":\n",
    "        reason5 = \"actively working to avoid legal trouble\"\n",
    "    elif reason5 == \"LIVARAG_D\":\n",
    "        reason5 = \"securing stable and supportive living arrangements after completing your stay at the House Of Hope\"\n",
    "    elif reason5 == \"EMPLOY_D\":\n",
    "        reason5 = \"successfully obtaining employment after completing your stay at the House Of Hope\"    \n",
    "    \n",
    "    \n",
    "    #survey_df.loc[len(survey_df)] = empty_dict\n",
    "    corr_matrix_out = str(f\"For the best possible chance of success focus on {reason1}, {reason2}, {reason3}, {reason4}, and {reason5}\")\n",
    "\n",
    "    # Making the prediction using the testing data\n",
    "    predictions = mlp.predict(X_test_scaled)\n",
    "    if predictions == 1:\n",
    "        result = \"This person has a high probability of success\"\n",
    "        corr_plus_result = str(f\"{result}. {corr_matrix_out}\") \n",
    "        return corr_plus_result\n",
    "    else:\n",
    "        result = \"This person has a low probability of success.\"\n",
    "        corr_plus_result = str(f\"{result}. {corr_matrix_out}\")\n",
    "        return corr_plus_result \n",
    "# Create the interface with the dropdown menu as input and the greet function as output\n",
    "iface = gr.Interface(fn=survey, inputs=[gr.Dropdown([\"Never Married\", \"Now Married\", \"Separated\", \"Divorced, Widowed\"], label=\"Select a Marital Status\"), \n",
    "                                        gr.Dropdown([\"Private insurance, Blue Cross/Blue Shield, HMO\",\"Medicaid\",\"Medicare, other (e.g. TRICARE, CHAMPUS)\",\"None\"], label=\"Select patient's health insurance type\"),\n",
    "                                        gr.Dropdown([\"Full-Time\", \"Part-time\", \"Unemployed\", \"Not in labor force\"], label=\"Select employment status\"),\n",
    "                                        gr.Dropdown([\"Homeless\", \"Dependent living\", \"Independent living\"], label=\"Select your living arrangement\"),\n",
    "                                        gr.Dropdown([\"0\", \"1 - 7\", \"8 - 14\", \"15 - 30\", \"31 or more\"], label=\"Select how long you waited to enter the program\"),\n",
    "                                        gr.Dropdown([\"Detox, 24-hour, hospital inpatient\", \"Detox, 24-hour, free-standing residential\", \"Rehab/residential, hospital (non-detox)\", \"Rehab/residential, short term (30 days or fewer)\", \"Rehab/residential, long term (more than 30 days)\", \"Ambulatory, intensive outpatient\", \"Ambulatory, non-intensive outpatient\", \"Ambulatory, detoxification\"], label=\"Select services you are recieving\"),\n",
    "                                        gr.Dropdown([\"11 years and under\", \"12 - 14 years\", \"15 - 17 years\", \"18 - 20 years\", \"21 -24 years\", \"25 - 29 years\", \"30 years and over\"], label=\"Select the age your addiction started\"),\n",
    "                                        gr.Dropdown([\"No attendance\", \"1 - 3 times in the past month\", \"4 - 7 times in the past month\", \"8 - 30 times in the past month\", \"Some attendance, frequency is unknown\"], label=\"How often have you attended self-help programs before treatment?\"),\n",
    "                                        gr.Dropdown([\"No attendance\", \"1 - 3 times per month\", \"4 - 7 times per month\", \"8 - 30 times per month\", \"Some attendance, frequency is unknown\"], label=\"How commited will you be in attending self-help programs after treatment?\"),\n",
    "                                        gr.Dropdown([\"Self - pay\", \"Private insurance (Blue Cross/Blue Shield, other health insurance, workers compensation)\", \"Medicare\", \"Medicaid\", \"Other government payments\", \"No charge(free, charity, special research, teaching)\", \"Other\"], label=\"Select your primary method of payment\"),\n",
    "                                        gr.Dropdown([\"U.S. territories\", \"New England\", \"Middle Atlantic\", \"East North Central\", \"West North Central\", \"South Atlantic\", \"East South Central\", \"West South Central\", \"Mountain\"], label=\"Select which division you live in\"),\n",
    "                                        gr.Dropdown([\"Yes\", \"No\"], label=\"Are you pregnant?\"),\n",
    "                                        gr.Dropdown([\"None\",\"Alcohol only\",\"Other drugs only\",\"Alcohol and other drugs\"], label=\"Select your alcohol use status\"),\n",
    "                                        gr.Dropdown([\"Substance not reported\",\"Substance reported\"], label=\"Select your Methamphetamine/speed use status\"),\n",
    "                                        gr.Dropdown([\"Yes\", \"No\"], label=\"Are you using Medication-assisted opioid therapy?\"),\n",
    "                                        gr.Dropdown([\"No Gender Selected\",\"Male  64.2%\",\"Female  35.8%\"], label=\"(Optional) Select a Gender\"),\n",
    "                                        gr.Dropdown([\"No age Selected\", \"12–14 years 0.5%\", \"15–17 years 2.2%\", \"18–20 years  2.7%\", \"21–24 years  7.6%\", \"25–29 years  16.8%\", \"30–34 years 17.4%\", \"35–39 years 14.5%\", \"40–44 years 10.3%\", \"45–49 years  8.8%\", \"50–54 years  8.2%\", \"55–64 years  9.7%\", \"65 years and older  1.4%\"], label=\"(Optional) Select an Age\"),\n",
    "                                        gr.Dropdown([\"No Race Selected\",\"Alaska Native (Aleut, Eskimo, Indian) 0.2%\",\"American Indian (other than Alaska Native) 2.5%\",\"Asian or Pacific Islander (Less than 0.1%)\",\"Black or African American 17.9%\",\"White 65.6%\",\"Asian 0.6%\",\"Other single race 10.8%\",\"Two or more races 1.8%\",\"Native Hawaiian or Other Pacific Islander 0.5%\"], label=\"(Optional) Select a Race\"),\n",
    "                                        gr.Dropdown([\"No census region selected\",\"U.S. territories  0.2%\",\"Northeast 30.9%\",\"Midwest 17.6%\",\"South 29.4%\",\"West 22.0%\"], label=\"(Optional) Select a Region\"),\n",
    "                                        gr.Dropdown([\"No education Selected\", \"Less than one school grade, no schooling, nursery school, or kindergarten to Grade 8 5.2%\", \"Grades 9 to 11 28.8%\", \"Grade 12 (or GED) 42.8%\", \"1-3 years of college, university, or vocational school 17.7%\", \"4 years of college, university, BA/BS, some postgraduate study, or more 5.5%\"], label=\"(Optional) Select an education level\"),\n",
    "                                        gr.Dropdown([\"No veteren status selected\", \"Yes 2.5%\", \"No 97.5%\"], label=\"(Optional) Select a Veteran Status\"),\n",
    "                                        gr.Dropdown([\"No arrest status selected\",\"None  93%\",\"Once 6.0%\", \"Two or more times 1.1%\"], label=\"(Optional) Select number of Arrests\"),\n",
    "                                        gr.Dropdown([\"No prior status selected\",\"No prior treatment episodes 45.4%\",\"One or more prior treatment episodes 54.6%\"], label=\"(Optional) Select a prior treatment status\"),\n",
    "                                        gr.Dropdown([\"No Substance filter selected\",\"None 1.9%\",\"Alcohol 30.3%\",\"Cocaine/crack 5.8%\",\"Marijuana/hashish 10.9%\",\"Heroin 22.7%\",\"Non-prescription methadone 0.2%\",\"Other opiates and synthetics 7.3%\",\"PCP 0.2%\",\"Hallucinogens 0.1%\",\"Methamphetamine/speed 12.0%\",\"Other amphetamines 0.6%\",\"Other stimulants  0.1%\",\"Benzodiazepines 1.0%\",\"Other tranquilizers (less than 0.1%)\",\"Barbiturates 0.1%\",\"Other sedatives or hypnotics 0.1%\",\"Inhalants (less than 0.1%)\",\"Over-the-counter medications (less than 0.1%)\",\"Other drugs  5.8%\"], label=\"(Optional) Select a primary substance\"),\n",
    "                                        gr.Dropdown([\"No frequency filter selected\",\"No use in the past month 34.7%\",\"Some use 24.9%\",\"Daily use 40.3%\"], label=\"(Optional) Select a primary substance frequency\"),\n",
    "                                        gr.Dropdown([\"No secondary substance filter selected\",\"None 43.5%\",\"Alcohol 8.8%\",\"Cocaine/crack 10.9%\",\"Marijuana/hashish 13.4%\",\"Heroin 3.7%\",\"Non-prescription methadone 0.2%\",\"Other opiates and synthetics 3.7%\",\"PCP 0.2%\",\"Hallucinogens 0.2%\",\"Methamphetamine/speed 6.3%\",\"Other amphetamines 0.5%\",\"Other stimulants 0.2%\",\"Benzodiazepines 2.9%\",\"Other tranquilizers (less than 0.1%)\",\"Barbiturates (less than 0.1%)\",\"Other sedatives or hypnotics 0.2%\",\"Inhalants (less than 0.1%)\",\"Over-the-counter medications 0.1%\",\"Other drugs 1.5%\"], label=\"(Optional) Select a secondary substance\"),\n",
    "                                        gr.Dropdown([\"No secondary frequency filter selected\",\"No use in the past month 64.7%\",\"Some use 18.1%\",\"Daily use 17.3%\"], label=\"(Optional) Select a secondary substance frequency\"),\n",
    "                                        gr.Dropdown([\"No class IV drug filter selected\",\"IDU not reported 77.4%\",\"IDU reported 22.6%\"], label=\"(Optional) Select a Class 4 drug status\"),\n",
    "                                        gr.Dropdown([\"No filter option selected\",\"Alcohol reported at admission 57.5%\",\"Alcohol Not reported at admission 22.6%\"], label=\"(Optional) Select an alcohol use status\"),\n",
    "                                        gr.Dropdown([\"No filter option selected\",\"Marijuana/hashish reported at admission 70.1%\",\"Marijuana/hashish Not reported at admission 29.9%\"], label=\"(Optional) Select a Cannabis/Hash use status\"),\n",
    "                                        gr.Dropdown([\"No filter option selected\",\"Co-occurring mental and substance use disorders reported 42.2%\",\"Co-occurring mental and substance use disorders Not reported 47.8%\"], label=\"(Optional) Select a Co-occurring mental and substance use disorders status\"),\n",
    "                                        gr.Dropdown([\"No disorder diagnosis selected\",\"Alcohol-induced disorder 0.7%\",\"Substance-induced disorder 2.3%\",\"Alcohol intoxication 1.7%\",\"Alcohol dependence 16.8%\",\"Opioid dependence 22.1%\",\"Cocaine dependence 3.3%\",\"Cannabis dependence 4.8%\",\"Other substance dependence 8.3%\",\"Alcohol abuse 3.1%\",\"Cannabis abuse 2.3%\",\"Other substance abuse 1.4%\",\"Opioid abuse 1.0%\",\"Cocaine abuse 0.5%\",\"Anxiety disorders 0.1%\",\"Depressive disorders 0.3%\",\"Schizophrenia/other psychotic disorders 0.1%\",\"Bipolar disorderss 0.1%\",\"Attention deficit/disruptive behavior disorders (less than 0.1%)\",\"Other mental health condition 7.3%\"], label=\"(Optional) Select a DSM diagnosis\")], outputs=\"text\")\n",
    "# Launch the interface\n",
    "iface.launch()"
   ]
  },
  {
   "cell_type": "code",
   "execution_count": null,
   "metadata": {},
   "outputs": [],
   "source": []
  },
  {
   "cell_type": "code",
   "execution_count": 53,
   "metadata": {},
   "outputs": [
    {
     "name": "stdout",
     "output_type": "stream",
     "text": [
      "Running on local URL:  http://127.0.0.1:7874\n",
      "\n",
      "To create a public link, set `share=True` in `launch()`.\n"
     ]
    },
    {
     "data": {
      "text/html": [
       "<div><iframe src=\"http://127.0.0.1:7874/\" width=\"100%\" height=\"500\" allow=\"autoplay; camera; microphone; clipboard-read; clipboard-write;\" frameborder=\"0\" allowfullscreen></iframe></div>"
      ],
      "text/plain": [
       "<IPython.core.display.HTML object>"
      ]
     },
     "metadata": {},
     "output_type": "display_data"
    },
    {
     "data": {
      "text/plain": []
     },
     "execution_count": 53,
     "metadata": {},
     "output_type": "execute_result"
    }
   ],
   "source": [
    "\n",
    "# Create the Gradio interface\n",
    "# dropdown_component1 = gr.Dropdown(choices=options, label=\"Select a category\")\n",
    "# dropdown_component2 = gr.Dropdown(choices=optionsMARSTAT, label=\"Select Marital Status\")\n",
    "# Create the interface with the dropdown menu as input and the greet function as output\n",
    "iface = gr.Interface(fn=survey, inputs=[gr.Dropdown([\"Never Married\", \"Now Married\", \"Separated\", \"Divorced, Widowed\"], label=\"Select a Marital Status\"), \n",
    "                                        gr.Dropdown([\"Private insurance, Blue Cross/Blue Shield, HMO\",\"Medicaid\",\"Medicare, other (e.g. TRICARE, CHAMPUS)\",\"None\"], label=\"Select patient's health insurance type\"),\n",
    "                                        gr.Dropdown([\"Full-Time\", \"Part-time\", \"Unemployed\", \"Not in labor force\"], label=\"Select employment status\"),\n",
    "                                        gr.Dropdown([\"Homeless\", \"Dependent living\", \"Independent living\"], label=\"Select your living arrangement\"),\n",
    "                                        gr.Dropdown([\"0\", \"1 - 7\", \"8 - 14\", \"15 - 30\", \"31 or more\"], label=\"Select how long you waited to enter the program\"),\n",
    "                                        gr.Dropdown([\"Detox, 24-hour, hospital inpatient\", \"Detox, 24-hour, free-standing residential\", \"Rehab/residential, hospital (non-detox)\", \"Rehab/residential, short term (30 days or fewer)\", \"Rehab/residential, long term (more than 30 days)\", \"Ambulatory, intensive outpatient\", \"Ambulatory, non-intensive outpatient\", \"Ambulatory, detoxification\"], label=\"Select services you are recieving\"),\n",
    "                                        gr.Dropdown([\"11 years and under\", \"12 - 14 years\", \"15 - 17 years\", \"18 - 20 years\", \"21 -24 years\", \"25 - 29 years\", \"30 years and over\"], label=\"Select the age your addiction started\"),\n",
    "                                        gr.Dropdown([\"No attendance\", \"1 - 3 times in the past month\", \"4 - 7 times in the past month\", \"8 - 30 times in the past month\", \"Some attendance, frequency is unknown\"], label=\"How often have you attended self-help programs before treatment?\"),\n",
    "                                        gr.Dropdown([\"No attendance\", \"1 - 3 times per month\", \"4 - 7 times per month\", \"8 - 30 times per month\", \"Some attendance, frequency is unknown\"], label=\"How commited will you be in attending self-help programs after treatment?\"),\n",
    "                                        gr.Dropdown([\"Self - pay\", \"Private insurance (Blue Cross/Blue Shield, other health insurance, workers compensation)\", \"Medicare\", \"Medicaid\", \"Other government payments\", \"No charge(free, charity, special research, teaching)\", \"Other\"], label=\"Select your primary method of payment\"),\n",
    "                                        gr.Dropdown([\"U.S. territories\", \"New England\", \"Middle Atlantic\", \"East North Central\", \"West North Central\", \"South Atlantic\", \"East South Central\", \"West South Central\", \"Mountain\"], label=\"Select which division you live in\"),\n",
    "                                        gr.Dropdown([\"Yes\", \"No\"], label=\"Are you pregnant?\"),\n",
    "                                        gr.Dropdown([\"None\",\"Alcohol only\",\"Other drugs only\",\"Alcohol and other drugs\"], label=\"Select your alcohol use status\"),\n",
    "                                        gr.Dropdown([\"Substance not reported\",\"Substance reported\"], label=\"Select your Methamphetamine/speed use status\"),\n",
    "                                        gr.Dropdown([\"Yes\", \"No\"], label=\"Are you using Medication-assisted opioid therapy?\"),\n",
    "                                        gr.Dropdown([\"No Gender Selected\",\"Male  64.2%\",\"Female  35.8%\"], label=\"(Optional) Select a Gender\"),\n",
    "                                        gr.Dropdown([\"No age Selected\", \"12–14 years 0.5%\", \"15–17 years 2.2%\", \"18–20 years  2.7%\", \"21–24 years  7.6%\", \"25–29 years  16.8%\", \"30–34 years 17.4%\", \"35–39 years 14.5%\", \"40–44 years 10.3%\", \"45–49 years  8.8%\", \"50–54 years  8.2%\", \"55–64 years  9.7%\", \"65 years and older  1.4%\"], label=\"(Optional) Select an Age\"),\n",
    "                                        gr.Dropdown([\"No Race Selected\",\"Alaska Native (Aleut, Eskimo, Indian) 0.2%\",\"American Indian (other than Alaska Native) 2.5%\",\"Asian or Pacific Islander (Less than 0.1%)\",\"Black or African American 17.9%\",\"White 65.6%\",\"Asian 0.6%\",\"Other single race 10.8%\",\"Two or more races 1.8%\",\"Native Hawaiian or Other Pacific Islander 0.5%\"], label=\"(Optional) Select a Race\"),\n",
    "                                        gr.Dropdown([\"No census region selected\",\"U.S. territories  0.2%\",\"Northeast 30.9%\",\"Midwest 17.6%\",\"South 29.4%\",\"West 22.0%\"], label=\"(Optional) Select a Region\"),\n",
    "                                        gr.Dropdown([\"No education Selected\", \"Less than one school grade, no schooling, nursery school, or kindergarten to Grade 8 5.2%\", \"Grades 9 to 11 28.8%\", \"Grade 12 (or GED) 42.8%\", \"1-3 years of college, university, or vocational school 17.7%\", \"4 years of college, university, BA/BS, some postgraduate study, or more 5.5%\"], label=\"(Optional) Select an education level\"),\n",
    "                                        gr.Dropdown([\"No veteren status selected\", \"Yes 2.5%\", \"No 97.5%\"], label=\"(Optional) Select a Veteran Status\"),\n",
    "                                        gr.Dropdown([\"No arrest status selected\",\"None  93%\",\"Once 6.0%\", \"Two or more times 1.1%\"], label=\"(Optional) Select number of Arrests\"),\n",
    "                                        gr.Dropdown([\"No prior status selected\",\"No prior treatment episodes 45.4%\",\"One or more prior treatment episodes 54.6%\"], label=\"(Optional) Select a prior treatment status\"),\n",
    "                                        gr.Dropdown([\"No Substance filter selected\",\"None 1.9%\",\"Alcohol 30.3%\",\"Cocaine/crack 5.8%\",\"Marijuana/hashish 10.9%\",\"Heroin 22.7%\",\"Non-prescription methadone 0.2%\",\"Other opiates and synthetics 7.3%\",\"PCP 0.2%\",\"Hallucinogens 0.1%\",\"Methamphetamine/speed 12.0%\",\"Other amphetamines 0.6%\",\"Other stimulants  0.1%\",\"Benzodiazepines 1.0%\",\"Other tranquilizers (less than 0.1%)\",\"Barbiturates 0.1%\",\"Other sedatives or hypnotics 0.1%\",\"Inhalants (less than 0.1%)\",\"Over-the-counter medications (less than 0.1%)\",\"Other drugs  5.8%\"], label=\"(Optional) Select a primary substance\"),\n",
    "                                        gr.Dropdown([\"No frequency filter selected\",\"No use in the past month 34.7%\",\"Some use 24.9%\",\"Daily use 40.3%\"], label=\"(Optional) Select a primary substance frequency\"),\n",
    "                                        gr.Dropdown([\"No secondary substance filter selected\",\"None 43.5%\",\"Alcohol 8.8%\",\"Cocaine/crack 10.9%\",\"Marijuana/hashish 13.4%\",\"Heroin 3.7%\",\"Non-prescription methadone 0.2%\",\"Other opiates and synthetics 3.7%\",\"PCP 0.2%\",\"Hallucinogens 0.2%\",\"Methamphetamine/speed 6.3%\",\"Other amphetamines 0.5%\",\"Other stimulants 0.2%\",\"Benzodiazepines 2.9%\",\"Other tranquilizers (less than 0.1%)\",\"Barbiturates (less than 0.1%)\",\"Other sedatives or hypnotics 0.2%\",\"Inhalants (less than 0.1%)\",\"Over-the-counter medications 0.1%\",\"Other drugs 1.5%\"], label=\"(Optional) Select a secondary substance\"),\n",
    "                                        gr.Dropdown([\"No secondary frequency filter selected\",\"No use in the past month 64.7%\",\"Some use 18.1%\",\"Daily use 17.3%\"], label=\"(Optional) Select a secondary substance frequency\"),\n",
    "                                        gr.Dropdown([\"No class IV drug filter selected\",\"IDU not reported 77.4%\",\"IDU reported 22.6%\"], label=\"(Optional) Select a Class 4 drug status\"),\n",
    "                                        gr.Dropdown([\"No filter option selected\",\"Alcohol reported at admission 57.5%\",\"Alcohol Not reported at admission 22.6%\"], label=\"(Optional) Select an alcohol use status\"),\n",
    "                                        gr.Dropdown([\"No filter option selected\",\"Marijuana/hashish reported at admission 70.1%\",\"Marijuana/hashish Not reported at admission 29.9%\"], label=\"(Optional) Select a Cannabis/Hash use status\"),\n",
    "                                        gr.Dropdown([\"No filter option selected\",\"Co-occurring mental and substance use disorders reported 42.2%\",\"Co-occurring mental and substance use disorders Not reported 47.8%\"], label=\"(Optional) Select a Co-occurring mental and substance use disorders status\"),\n",
    "                                        gr.Dropdown([\"No disorder diagnosis selected\",\"Alcohol-induced disorder 0.7%\",\"Substance-induced disorder 2.3%\",\"Alcohol intoxication 1.7%\",\"Alcohol dependence 16.8%\",\"Opioid dependence 22.1%\",\"Cocaine dependence 3.3%\",\"Cannabis dependence 4.8%\",\"Other substance dependence 8.3%\",\"Alcohol abuse 3.1%\",\"Cannabis abuse 2.3%\",\"Other substance abuse 1.4%\",\"Opioid abuse 1.0%\",\"Cocaine abuse 0.5%\",\"Anxiety disorders 0.1%\",\"Depressive disorders 0.3%\",\"Schizophrenia/other psychotic disorders 0.1%\",\"Bipolar disorderss 0.1%\",\"Attention deficit/disruptive behavior disorders (less than 0.1%)\",\"Other mental health condition 7.3%\"], label=\"(Optional) Select a DSM diagnosis\")], outputs=\"text\")\n",
    "# Launch the interface\n",
    "iface.launch()"
   ]
  },
  {
   "cell_type": "markdown",
   "metadata": {},
   "source": [
    "Testing the filters to see which provide beneficial differences"
   ]
  },
  {
   "cell_type": "code",
   "execution_count": 68,
   "metadata": {},
   "outputs": [
    {
     "name": "stdout",
     "output_type": "stream",
     "text": [
      "Running on local URL:  http://127.0.0.1:7889\n",
      "\n",
      "To create a public link, set `share=True` in `launch()`.\n"
     ]
    },
    {
     "data": {
      "text/html": [
       "<div><iframe src=\"http://127.0.0.1:7889/\" width=\"100%\" height=\"500\" allow=\"autoplay; camera; microphone; clipboard-read; clipboard-write;\" frameborder=\"0\" allowfullscreen></iframe></div>"
      ],
      "text/plain": [
       "<IPython.core.display.HTML object>"
      ]
     },
     "metadata": {},
     "output_type": "display_data"
    },
    {
     "data": {
      "text/plain": []
     },
     "execution_count": 68,
     "metadata": {},
     "output_type": "execute_result"
    }
   ],
   "source": [
    "# empty_dict = pd.DataFrame(columns=[\"ALCDRUG\"])\n",
    "    \n",
    "def survey(HLTHINS,ALCDRUG,PREG,GENDER):\n",
    "\n",
    "    #starting with the dataset information\n",
    "    survey_df = pd.DataFrame(columns=[\"HLTHINS\",\"ALCDRUG\",\"PREG\"])\n",
    "    empty_dict = {}\n",
    "     # HLTHINS: Health insurance\n",
    "    if HLTHINS == \"Private insurance, Blue Cross/Blue Shield, HMO\":\n",
    "        empty_dict[\"HLTHINS\"] = 1\n",
    "    elif HLTHINS == \"Medicaid\":\n",
    "        empty_dict[\"HLTHINS\"] = 2\n",
    "    elif HLTHINS == \"Medicare, other (e.g. TRICARE, CHAMPUS)\":\n",
    "        empty_dict[\"HLTHINS\"] = 3\n",
    "    elif HLTHINS == \"None\":\n",
    "        empty_dict[\"HLTHINS\"] = 4\n",
    "    # ALCDRUG \n",
    "    if ALCDRUG == \"None\":\n",
    "        empty_dict[\"ALCDRUG\"] = 0\n",
    "    elif ALCDRUG == \"Alcohol only\":\n",
    "        empty_dict[\"ALCDRUG\"] = 1\n",
    "    elif ALCDRUG == \"Other drugs only\":\n",
    "        empty_dict[\"ALCDRUG\"] = 2\n",
    "    elif ALCDRUG == \"Alcohol and other drugs\":\n",
    "        empty_dict[\"ALCDRUG\"] = 3\n",
    "    # update PREG info\n",
    "    if PREG == \"Yes\":\n",
    "         empty_dict[\"PREG\"] = 1\n",
    "    elif PREG == \"No\":\n",
    "        empty_dict[\"PREG\"] = 2\n",
    "    #[\"None\",\"Alcohol only\",\"Other drugs only\",\"Alcohol and other drugs\"]\n",
    "     # read in the cleaned DF\n",
    "    cleaned_df = pd.read_csv(\"cleaned_subfilter_removed_df.csv\")\n",
    "    # space to enter filtering options\n",
    "    #gender filter\n",
    "    if GENDER == \"Male  64.2%\":\n",
    "        cleaned_df = cleaned_df.loc[cleaned_df[\"GENDER\"] == 1]\n",
    "    elif GENDER == \"Female  35.8%\":\n",
    "        cleaned_df = cleaned_df.loc[cleaned_df[\"GENDER\"] == 2]\n",
    "    elif GENDER == \"No Gender Selected\":\n",
    "        cleaned_df = cleaned_df\n",
    "    \n",
    "    corr_matrix_df = cleaned_df[[\"FREQ_ATND_SELF_HELP_D\",\"FREQ_ATND_SELF_HELP\",\"HLTHINS\",\"ALCDRUG\",\"OTHERFLG\",\"OTCFLG\",\"INHFLG\",\"SEDHPFLG\",\"BARBFLG\",\"TRNQFLG\",\"BENZFLG\",\n",
    "                    \"STIMFLG\",\"AMPHFLG\",\"MTHAMFLG\",\"HALLFLG\",\"PCPFLG\",\"OPSYNFLG\",\"METHFLG\",\"HERFLG\",\"MARFLG\",\"COKEFLG\",\"ALCFLG\",\"REASON\",\"ARRESTS\",\"LIVARAG_D\",\n",
    "                    \"EMPLOY_D\",\"EDUC\"]]\n",
    "    \n",
    "    df_corr = corr_matrix_df.corr()\n",
    "    df_corr.unstack().sort_values()\n",
    "    variable = df_corr['REASON'].sort_values()\n",
    "    reason1 = variable.index[-2]\n",
    "    reason2 = variable.index[-3]\n",
    "    reason3 = variable.index[-4]\n",
    "    reason4 = variable.index[-5]\n",
    "    reason5 = variable.index[-6]\n",
    "\n",
    "    if reason1 == \"FREQ_ATND_SELF_HELP_D\":\n",
    "        reason1 = \"continuing the beneficial practice of attending self-help meetings after completing your stay at the House Of Hope\"\n",
    "    elif reason1 == \"FREQ_ATND_SELF_HELP\":\n",
    "        reason1 = \"actively engaging in self-help meetings during your stay at the House Of Hope\"\n",
    "    elif reason1 == \"EDUC\":\n",
    "        reason1 = \"furthering your education\"\n",
    "    elif reason1 == \"HLTHINS\":\n",
    "        reason1 = \"successfully securing health insurance\"\n",
    "    elif reason1 == \"ALCDRUG\":\n",
    "        reason1 = \"committing to treatment and making significant progress in addressing alcohol and drug use\"\n",
    "    elif reason1 == \"OTHERFLG\":\n",
    "        reason1 = \"choosing to refrain from using other substances\"\n",
    "    elif reason1 == \"OTCFLG\":\n",
    "        reason1 = \"choosing to not abuse the use of over-the-counter medications\"\n",
    "    elif reason1 == \"INHFLG\":\n",
    "        reason1 = \"choosing to refrain from inhaling substances\"\n",
    "    elif reason1 == \"SEDHPFLG\":\n",
    "        reason1 = \"choosing to refrain from using sedatives or hypnotics\"\n",
    "    elif reason1 == \"BARBFLG\":\n",
    "        reason1 = \"choosing to refrain from using barbiturates\"\n",
    "    elif reason1 == \"TRNQFLG\":\n",
    "        reason1 = \"choosing to refrain from using tranquilizers\"\n",
    "    elif reason1 == \"BENZFLG\":\n",
    "        reason1 = \"choosing to refrain from using benzodiazepines\"\n",
    "    elif reason1 == \"STIMFLG\":\n",
    "        reason1 = \"choosing to refrain from using stimulants\"\n",
    "    elif reason1 == \"AMPHFLG\":\n",
    "        reason1 = \"choosing to refrain from using amphetamines\"\n",
    "    elif reason1 == \"MTHAMFLG\":\n",
    "        reason1 = \"seeking and benefiting from treatment for methamphetamine use\"\n",
    "    elif reason1 == \"HALLFLG\":\n",
    "        reason1 = \"choosing to refrain from using hallucinogens\"\n",
    "    elif reason1 == \"PCPFLG\":\n",
    "        reason1 = \"choosing to refrain from using phencyclidine\"\n",
    "    elif reason1 == \"OPSYNFLG\":\n",
    "        reason1 = \"choosing to refrain from using other opiates or synthetics\"\n",
    "    elif reason1 == \"METHFLG\":\n",
    "        reason1 = \"choosing to refrain from using non-prescription methadone\"\n",
    "    elif reason1 == \"HERFLG\":\n",
    "        reason1 = \"choosing to refrain from using heroin\"\n",
    "    elif reason1 == \"MARFLG\":\n",
    "        reason1 = \"seeking and benefiting from treatment for marijuana use\"\n",
    "    elif reason1 == \"COKEFLG\":\n",
    "        reason1 = \"choosing to refrain from using cocaine\"\n",
    "    elif reason1 == \"ALCFLG\":\n",
    "        reason1 = \"seeking and benefiting from treatment for alcohol use\"\n",
    "    elif reason1 == \"ARRESTS\":\n",
    "        reason1 = \"actively working to avoid legal trouble\"\n",
    "    elif reason1 == \"LIVARAG_D\":\n",
    "        reason1 = \"securing stable and supportive living arrangements after completing your stay at the House Of Hope\"\n",
    "    elif reason1 == \"EMPLOY_D\":\n",
    "        reason1 = \"successfully obtaining employment after completing your stay at the House Of Hope\"\n",
    "    \n",
    "    if reason2 == \"FREQ_ATND_SELF_HELP_D\":\n",
    "        reason2 = \"continuing the beneficial practice of attending self-help meetings after completing your stay at the House Of Hope\"\n",
    "    elif reason2 == \"FREQ_ATND_SELF_HELP\":\n",
    "        reason2 = \"actively engaging in self-help meetings during your stay at the House Of Hope\"\n",
    "    elif reason2 == \"EDUC\":\n",
    "        reason2 = \"furthering your education\"\n",
    "    elif reason2 == \"HLTHINS\":\n",
    "        reason2 = \"successfully securing health insurance\"\n",
    "    elif reason2 == \"ALCDRUG\":\n",
    "        reason2 = \"committing to treatment and making significant progress in addressing alcohol and drug use\"\n",
    "    elif reason2 == \"OTHERFLG\":\n",
    "        reason2 = \"choosing to refrain from using other substances\"\n",
    "    elif reason2 == \"OTCFLG\":\n",
    "        reason2 = \"choosing to not abuse the use of over-the-counter medications\"\n",
    "    elif reason2 == \"INHFLG\":\n",
    "        reason2 = \"choosing to refrain from inhaling substances\"\n",
    "    elif reason2 == \"SEDHPFLG\":\n",
    "        reason2 = \"choosing to refrain from using sedatives or hypnotics\"\n",
    "    elif reason2 == \"BARBFLG\":\n",
    "        reason2 = \"choosing to refrain from using barbiturates\"\n",
    "    elif reason2 == \"TRNQFLG\":\n",
    "        reason2 = \"choosing to refrain from using tranquilizers\"\n",
    "    elif reason2 == \"BENZFLG\":\n",
    "        reason2 = \"choosing to refrain from using benzodiazepines\"\n",
    "    elif reason2 == \"STIMFLG\":\n",
    "        reason2 = \"choosing to refrain from using stimulants\"\n",
    "    elif reason2 == \"AMPHFLG\":\n",
    "        reason2 = \"choosing to refrain from using amphetamines\"\n",
    "    elif reason2 == \"MTHAMFLG\":\n",
    "        reason2 = \"seeking and benefiting from treatment for methamphetamine use\"\n",
    "    elif reason2 == \"HALLFLG\":\n",
    "        reason2 = \"choosing to refrain from using hallucinogens\"\n",
    "    elif reason2 == \"PCPFLG\":\n",
    "        reason2 = \"choosing to refrain from using phencyclidine\"\n",
    "    elif reason2 == \"OPSYNFLG\":\n",
    "        reason2 = \"choosing to refrain from using other opiates or synthetics\"\n",
    "    elif reason2 == \"METHFLG\":\n",
    "        reason2 = \"choosing to refrain from using non-prescription methadone\"\n",
    "    elif reason2 == \"HERFLG\":\n",
    "        reason2 = \"choosing to refrain from using heroin\"\n",
    "    elif reason2 == \"MARFLG\":\n",
    "        reason2 = \"seeking and benefiting from treatment for marijuana use\"\n",
    "    elif reason2 == \"COKEFLG\":\n",
    "        reason2 = \"choosing to refrain from using cocaine\"\n",
    "    elif reason2 == \"ALCFLG\":\n",
    "        reason2 = \"seeking and benefiting from treatment for alcohol use\"\n",
    "    elif reason2 == \"ARRESTS\":\n",
    "        reason2 = \"actively working to avoid legal trouble\"\n",
    "    elif reason2 == \"LIVARAG_D\":\n",
    "        reason2 = \"securing stable and supportive living arrangements after completing your stay at the House Of Hope\"\n",
    "    elif reason2 == \"EMPLOY_D\":\n",
    "        reason2 = \"successfully obtaining employment after completing your stay at the House Of Hope\"\n",
    "    \n",
    "    if reason3 == \"FREQ_ATND_SELF_HELP_D\":\n",
    "        reason3 = \"continuing the beneficial practice of attending self-help meetings after completing your stay at the House Of Hope\"\n",
    "    elif reason3 == \"FREQ_ATND_SELF_HELP\":\n",
    "        reason3 = \"actively engaging in self-help meetings during your stay at the House Of Hope\"\n",
    "    elif reason3 == \"EDUC\":\n",
    "        reason3 = \"furthering your education\"\n",
    "    elif reason3 == \"HLTHINS\":\n",
    "        reason3 = \"successfully securing health insurance\"\n",
    "    elif reason3 == \"ALCDRUG\":\n",
    "        reason3 = \"committing to treatment and making significant progress in addressing alcohol and drug use\"\n",
    "    elif reason3 == \"OTHERFLG\":\n",
    "        reason3 = \"choosing to refrain from using other substances\"\n",
    "    elif reason3 == \"OTCFLG\":\n",
    "        reason3 = \"choosing to not abuse the use of over-the-counter medications\"\n",
    "    elif reason3 == \"INHFLG\":\n",
    "        reason3 = \"choosing to refrain from inhaling substances\"\n",
    "    elif reason3 == \"SEDHPFLG\":\n",
    "        reason3 = \"choosing to refrain from using sedatives or hypnotics\"\n",
    "    elif reason3 == \"BARBFLG\":\n",
    "        reason3 = \"choosing to refrain from using barbiturates\"\n",
    "    elif reason3 == \"TRNQFLG\":\n",
    "        reason3 = \"choosing to refrain from using tranquilizers\"\n",
    "    elif reason3 == \"BENZFLG\":\n",
    "        reason3 = \"choosing to refrain from using benzodiazepines\"\n",
    "    elif reason3 == \"STIMFLG\":\n",
    "        reason3 = \"choosing to refrain from using stimulants\"\n",
    "    elif reason3 == \"AMPHFLG\":\n",
    "        reason3 = \"choosing to refrain from using amphetamines\"\n",
    "    elif reason3 == \"MTHAMFLG\":\n",
    "        reason3 = \"seeking and benefiting from treatment for methamphetamine use\"\n",
    "    elif reason3 == \"HALLFLG\":\n",
    "        reason3 = \"choosing to refrain from using hallucinogens\"\n",
    "    elif reason3 == \"PCPFLG\":\n",
    "        reason3 = \"choosing to refrain from using phencyclidine\"\n",
    "    elif reason3 == \"OPSYNFLG\":\n",
    "        reason3 = \"choosing to refrain from using other opiates or synthetics\"\n",
    "    elif reason3 == \"METHFLG\":\n",
    "        reason3 = \"choosing to refrain from using non-prescription methadone\"\n",
    "    elif reason3 == \"HERFLG\":\n",
    "        reason3 = \"choosing to refrain from using heroin\"\n",
    "    elif reason3 == \"MARFLG\":\n",
    "        reason3 = \"seeking and benefiting from treatment for marijuana use\"\n",
    "    elif reason3 == \"COKEFLG\":\n",
    "        reason3 = \"choosing to refrain from using cocaine\"\n",
    "    elif reason3 == \"ALCFLG\":\n",
    "        reason3 = \"seeking and benefiting from treatment for alcohol use\"\n",
    "    elif reason3 == \"ARRESTS\":\n",
    "        reason3 = \"actively working to avoid legal trouble\"\n",
    "    elif reason3 == \"LIVARAG_D\":\n",
    "        reason3 = \"securing stable and supportive living arrangements after completing your stay at the House Of Hope\"\n",
    "    elif reason3 == \"EMPLOY_D\":\n",
    "        reason3 = \"successfully obtaining employment after completing your stay at the House Of Hope\"\n",
    "\n",
    "    if reason4 == \"FREQ_ATND_SELF_HELP_D\":\n",
    "        reason4 = \"continuing the beneficial practice of attending self-help meetings after completing your stay at the House Of Hope\"\n",
    "    elif reason4 == \"FREQ_ATND_SELF_HELP\":\n",
    "        reason4 = \"actively engaging in self-help meetings during your stay at the House Of Hope\"\n",
    "    elif reason4 == \"EDUC\":\n",
    "        reason4 = \"furthering your education\"\n",
    "    elif reason4 == \"HLTHINS\":\n",
    "        reason4 = \"successfully securing health insurance\"\n",
    "    elif reason4 == \"ALCDRUG\":\n",
    "        reason4 = \"committing to treatment and making significant progress in addressing alcohol and drug use\"\n",
    "    elif reason4 == \"OTHERFLG\":\n",
    "        reason4 = \"choosing to refrain from using other substances\"\n",
    "    elif reason4 == \"OTCFLG\":\n",
    "        reason4 = \"choosing to not abuse the use of over-the-counter medications\"\n",
    "    elif reason4 == \"INHFLG\":\n",
    "        reason4 = \"choosing to refrain from inhaling substances\"\n",
    "    elif reason4 == \"SEDHPFLG\":\n",
    "        reason4 = \"choosing to refrain from using sedatives or hypnotics\"\n",
    "    elif reason4 == \"BARBFLG\":\n",
    "        reason4 = \"choosing to refrain from using barbiturates\"\n",
    "    elif reason4 == \"TRNQFLG\":\n",
    "        reason4 = \"choosing to refrain from using tranquilizers\"\n",
    "    elif reason4 == \"BENZFLG\":\n",
    "        reason4 = \"choosing to refrain from using benzodiazepines\"\n",
    "    elif reason4 == \"STIMFLG\":\n",
    "        reason4 = \"choosing to refrain from using stimulants\"\n",
    "    elif reason4 == \"AMPHFLG\":\n",
    "        reason4 = \"choosing to refrain from using amphetamines\"\n",
    "    elif reason4 == \"MTHAMFLG\":\n",
    "        reason4 = \"seeking and benefiting from treatment for methamphetamine use\"\n",
    "    elif reason4 == \"HALLFLG\":\n",
    "        reason4 = \"choosing to refrain from using hallucinogens\"\n",
    "    elif reason4 == \"PCPFLG\":\n",
    "        reason4 = \"choosing to refrain from using phencyclidine\"\n",
    "    elif reason4 == \"OPSYNFLG\":\n",
    "        reason4 = \"choosing to refrain from using other opiates or synthetics\"\n",
    "    elif reason4 == \"METHFLG\":\n",
    "        reason4 = \"choosing to refrain from using non-prescription methadone\"\n",
    "    elif reason4 == \"HERFLG\":\n",
    "        reason4 = \"choosing to refrain from using heroin\"\n",
    "    elif reason4 == \"MARFLG\":\n",
    "        reason4 = \"seeking and benefiting from treatment for marijuana use\"\n",
    "    elif reason4 == \"COKEFLG\":\n",
    "        reason4 = \"choosing to refrain from using cocaine\"\n",
    "    elif reason4 == \"ALCFLG\":\n",
    "        reason4 = \"seeking and benefiting from treatment for alcohol use\"\n",
    "    elif reason4 == \"ARRESTS\":\n",
    "        reason4 = \"actively working to avoid legal trouble\"\n",
    "    elif reason4 == \"LIVARAG_D\":\n",
    "        reason4 = \"securing stable and supportive living arrangements after completing your stay at the House Of Hope\"\n",
    "    elif reason4 == \"EMPLOY_D\":\n",
    "        reason4 = \"successfully obtaining employment after completing your stay at the House Of Hope\" \n",
    "\n",
    "    if reason5 == \"FREQ_ATND_SELF_HELP_D\":\n",
    "        reason5 = \"continuing the beneficial practice of attending self-help meetings after completing your stay at the House Of Hope\"\n",
    "    elif reason5 == \"FREQ_ATND_SELF_HELP\":\n",
    "        reason5 = \"actively engaging in self-help meetings during your stay at the House Of Hope\"\n",
    "    elif reason5 == \"EDUC\":\n",
    "        reason5 = \"furthering your education\"\n",
    "    elif reason5 == \"HLTHINS\":\n",
    "        reason5 = \"successfully securing health insurance\"\n",
    "    elif reason5 == \"ALCDRUG\":\n",
    "        reason5 = \"committing to treatment and making significant progress in addressing alcohol and drug use\"\n",
    "    elif reason5 == \"OTHERFLG\":\n",
    "        reason5 = \"choosing to refrain from using other substances\"\n",
    "    elif reason5 == \"OTCFLG\":\n",
    "        reason5 = \"choosing to not abuse the use of over-the-counter medications\"\n",
    "    elif reason5 == \"INHFLG\":\n",
    "        reason5 = \"choosing to refrain from inhaling substances\"\n",
    "    elif reason5 == \"SEDHPFLG\":\n",
    "        reason5 = \"choosing to refrain from using sedatives or hypnotics\"\n",
    "    elif reason5 == \"BARBFLG\":\n",
    "        reason5 = \"choosing to refrain from using barbiturates\"\n",
    "    elif reason5 == \"TRNQFLG\":\n",
    "        reason5 = \"choosing to refrain from using tranquilizers\"\n",
    "    elif reason5 == \"BENZFLG\":\n",
    "        reason5 = \"choosing to refrain from using benzodiazepines\"\n",
    "    elif reason5 == \"STIMFLG\":\n",
    "        reason5 = \"choosing to refrain from using stimulants\"\n",
    "    elif reason5 == \"AMPHFLG\":\n",
    "        reason5 = \"choosing to refrain from using amphetamines\"\n",
    "    elif reason5 == \"MTHAMFLG\":\n",
    "        reason5 = \"seeking and benefiting from treatment for methamphetamine use\"\n",
    "    elif reason5 == \"HALLFLG\":\n",
    "        reason5 = \"choosing to refrain from using hallucinogens\"\n",
    "    elif reason5 == \"PCPFLG\":\n",
    "        reason5 = \"choosing to refrain from using phencyclidine\"\n",
    "    elif reason5 == \"OPSYNFLG\":\n",
    "        reason5 = \"choosing to refrain from using other opiates or synthetics\"\n",
    "    elif reason5 == \"METHFLG\":\n",
    "        reason5 = \"choosing to refrain from using non-prescription methadone\"\n",
    "    elif reason5 == \"HERFLG\":\n",
    "        reason5 = \"choosing to refrain from using heroin\"\n",
    "    elif reason5 == \"MARFLG\":\n",
    "        reason5 = \"seeking and benefiting from treatment for marijuana use\"\n",
    "    elif reason5 == \"COKEFLG\":\n",
    "        reason5 = \"choosing to refrain from using cocaine\"\n",
    "    elif reason5 == \"ALCFLG\":\n",
    "        reason5 = \"seeking and benefiting from treatment for alcohol use\"\n",
    "    elif reason5 == \"ARRESTS\":\n",
    "        reason5 = \"actively working to avoid legal trouble\"\n",
    "    elif reason5 == \"LIVARAG_D\":\n",
    "        reason5 = \"securing stable and supportive living arrangements after completing your stay at the House Of Hope\"\n",
    "    elif reason5 == \"EMPLOY_D\":\n",
    "        reason5 = \"successfully obtaining employment after completing your stay at the House Of Hope\"    \n",
    "    \n",
    "    \n",
    "    survey_df.loc[len(survey_df)] = empty_dict\n",
    "    output = str(f\" here is your survey {survey_df}. For the best possible chance of success focus on {reason1}, {reason2}, {reason3}, {reason4}, and {reason5}\")\n",
    "    return output\n",
    "\n",
    "    # if empty_dict[\"ALCDRUG\"] ==0:\n",
    "    #     return \"zero\"\n",
    "    # elif empty_dict[\"ALCDRUG\"] ==1:\n",
    "    #     return \"Alcohol only\"\n",
    "    # elif empty_dict[\"ALCDRUG\"] ==2:\n",
    "    #     return \"Other drugs only\"\n",
    "    # elif empty_dict[\"ALCDRUG\"] ==3:\n",
    "    #     return \"Alcohol and other drugs\"\n",
    "    # else:\n",
    "    #     return \"Error: No data provided\"\n",
    "iface = gr.Interface(fn=survey, inputs=[gr.Dropdown([\"Private insurance, Blue Cross/Blue Shield, HMO\",\"Medicaid\",\"Medicare, other (e.g. TRICARE, CHAMPUS)\",\"None\"], label=\"Select patient's health insurance type\"),\n",
    "                                        gr.Dropdown([\"None\",\"Alcohol only\",\"Other drugs only\",\"Alcohol and other drugs\"], label=\"(Optional) Select an alcohol use status\"),\n",
    "                                        gr.Dropdown([\"Yes\",\"No\"], label=\"Are you Pregnant?\"),\n",
    "                                        gr.Dropdown([\"No Gender Selected\",\"Male  64.2%\",\"Female  35.8%\"], label=\"(Optional) Select a Gender\"),], outputs=\"text\")\n",
    "iface.launch()"
   ]
  },
  {
   "cell_type": "code",
   "execution_count": 13,
   "metadata": {},
   "outputs": [
    {
     "name": "stdout",
     "output_type": "stream",
     "text": [
      "Running on local URL:  http://127.0.0.1:7862\n",
      "\n",
      "To create a public link, set `share=True` in `launch()`.\n"
     ]
    },
    {
     "data": {
      "text/html": [
       "<div><iframe src=\"http://127.0.0.1:7862/\" width=\"100%\" height=\"500\" allow=\"autoplay; camera; microphone; clipboard-read; clipboard-write;\" frameborder=\"0\" allowfullscreen></iframe></div>"
      ],
      "text/plain": [
       "<IPython.core.display.HTML object>"
      ]
     },
     "metadata": {},
     "output_type": "display_data"
    },
    {
     "data": {
      "text/plain": []
     },
     "execution_count": 13,
     "metadata": {},
     "output_type": "execute_result"
    }
   ],
   "source": [
    "iface = gr.Interface(fn=survey, inputs=[gr.Dropdown(choices=optionsALCFLG, label=\"(Optional) Select an alcohol use status\")], outputs=\"text\")\n",
    "iface.launch()"
   ]
  },
  {
   "cell_type": "code",
   "execution_count": 14,
   "metadata": {},
   "outputs": [],
   "source": [
    "df1 = pd.read_csv(\"clean_df.csv\")"
   ]
  },
  {
   "cell_type": "code",
   "execution_count": 15,
   "metadata": {},
   "outputs": [
    {
     "data": {
      "text/plain": [
       "REASON\n",
       "1    2647306\n",
       "0    1506862\n",
       "Name: count, dtype: int64"
      ]
     },
     "execution_count": 15,
     "metadata": {},
     "output_type": "execute_result"
    }
   ],
   "source": [
    "# gender filter\n",
    "\n",
    "df_male = df1.loc[df1[\"GENDER\"] == 1]\n",
    "df_male[\"REASON\"].value_counts()"
   ]
  },
  {
   "cell_type": "markdown",
   "metadata": {},
   "source": [
    "4154168 total men 63% success rate\n",
    "2285004 total women 62% success rate\n",
    "SUB2_D, METHUSE, FREQ_ATND_SELF_HELP_D, SUB2, PRIMPAY, SUB3_D  more correlated in women.  SUB1_D less correlated\n",
    "AGE showed no difference\n",
    "SUB1_D, SUB1 more correlated in men. SUB2, SUB2_D, METHUSE, FREQ_ATND_SELF_HELP_D less correlated\n",
    "Given the differences in correlated fields, this seems like a fair filter to add."
   ]
  },
  {
   "cell_type": "code",
   "execution_count": 16,
   "metadata": {},
   "outputs": [
    {
     "data": {
      "text/plain": [
       "REASON\n",
       "1    1430302\n",
       "0     854702\n",
       "Name: count, dtype: int64"
      ]
     },
     "execution_count": 16,
     "metadata": {},
     "output_type": "execute_result"
    }
   ],
   "source": [
    "df_female = df1.loc[df1[\"GENDER\"] == 2]\n",
    "df_female[\"REASON\"].value_counts()"
   ]
  },
  {
   "cell_type": "code",
   "execution_count": 17,
   "metadata": {},
   "outputs": [
    {
     "data": {
      "text/plain": [
       "SUB2                     0.065135\n",
       "FREQ_ATND_SELF_HELP_D    0.066623\n",
       "AGE                      0.073574\n",
       "METHUSE                  0.084815\n",
       "SUB2_D                   0.096988\n",
       "SUB1                     0.098145\n",
       "SUB1_D                   0.098818\n",
       "DIVISION                 0.132648\n",
       "REGION                   0.153785\n",
       "REASON                   1.000000\n",
       "PREG                          NaN\n",
       "GENDER                        NaN\n",
       "Name: REASON, dtype: float64"
      ]
     },
     "execution_count": 17,
     "metadata": {},
     "output_type": "execute_result"
    }
   ],
   "source": [
    "reason = df_male['REASON']\n",
    "df_corr = df_male.corr()\n",
    "df_corr.unstack().sort_values()\n",
    "variable = df_corr['REASON'].sort_values()\n",
    "variable.tail(12)"
   ]
  },
  {
   "cell_type": "code",
   "execution_count": 18,
   "metadata": {},
   "outputs": [
    {
     "data": {
      "text/plain": [
       "SUB1_D                   0.057722\n",
       "SUB3_D                   0.058342\n",
       "AGE                      0.061960\n",
       "PRIMPAY                  0.062416\n",
       "SUB2                     0.070791\n",
       "FREQ_ATND_SELF_HELP_D    0.073161\n",
       "METHUSE                  0.097638\n",
       "SUB2_D                   0.100761\n",
       "DIVISION                 0.140563\n",
       "REGION                   0.161044\n",
       "REASON                   1.000000\n",
       "GENDER                        NaN\n",
       "Name: REASON, dtype: float64"
      ]
     },
     "execution_count": 18,
     "metadata": {},
     "output_type": "execute_result"
    }
   ],
   "source": [
    "reason = df_female['REASON']\n",
    "df1_corr = df_female.corr()\n",
    "df1_corr.unstack().sort_values()\n",
    "variable = df1_corr['REASON'].sort_values()\n",
    "variable.tail(12)"
   ]
  },
  {
   "cell_type": "code",
   "execution_count": 19,
   "metadata": {},
   "outputs": [
    {
     "data": {
      "text/plain": [
       "REASON\n",
       "1    17950\n",
       "0    14845\n",
       "Name: count, dtype: int64"
      ]
     },
     "execution_count": 19,
     "metadata": {},
     "output_type": "execute_result"
    }
   ],
   "source": [
    "df_age = df1.loc[df1[\"AGE\"] == 1]\n",
    "df_age[\"REASON\"].value_counts()"
   ]
  },
  {
   "cell_type": "markdown",
   "metadata": {},
   "source": [
    "Trying to justify an age filter by showing diferences in success rates for the different age brackets\n",
    "1. 32795 total, 54% success rates\n",
    "2. 154530 total, 54% success rates\n",
    "3. 187868 total, 54% success rates\n",
    "4. 531441 total, 59% success rates\n",
    "5. 1108186 total, 61% success rates\n",
    "6. 1111588 total, 62% success rates\n",
    "7. 917442 total, 63% success rates\n",
    "8. 641430 total, 64% success rates\n",
    "9. 564550 total, 65% success rates\n",
    "10. 523624 total, 66% success rates\n",
    "11. 585296 total, 69% success rates\n",
    "12. 83319 total, 70% success rates\n",
    "For each age bracket I went through and ran a correlation matrix to see if different things impacted different ages groups more. For each of the 12 age classifications, the top 10 correlated columns changed. This is a valid filter to add."
   ]
  },
  {
   "cell_type": "code",
   "execution_count": 20,
   "metadata": {},
   "outputs": [
    {
     "data": {
      "text/plain": [
       "HLTHINS      0.064221\n",
       "ALCDRUG      0.066195\n",
       "RACE         0.086926\n",
       "REGION       0.113457\n",
       "DIVISION     0.122481\n",
       "FREQ2_D      0.123403\n",
       "LOS          0.128782\n",
       "SUB2_D       0.136839\n",
       "LIVARAG_D    0.196793\n",
       "EMPLOY_D     0.306927\n",
       "REASON       1.000000\n",
       "AGE               NaN\n",
       "Name: REASON, dtype: float64"
      ]
     },
     "execution_count": 20,
     "metadata": {},
     "output_type": "execute_result"
    }
   ],
   "source": [
    "df_age = df1.loc[df1[\"AGE\"] == 1]\n",
    "reason = df_age['REASON']\n",
    "df_corr = df_age.corr()\n",
    "df_corr.unstack().sort_values()\n",
    "variable = df_corr['REASON'].sort_values()\n",
    "variable.tail(12)"
   ]
  },
  {
   "cell_type": "code",
   "execution_count": 21,
   "metadata": {},
   "outputs": [],
   "source": [
    "df_age = df1.loc[df1[\"AGE\"] == 2]"
   ]
  },
  {
   "cell_type": "code",
   "execution_count": 22,
   "metadata": {},
   "outputs": [
    {
     "data": {
      "text/plain": [
       "EMPLOY       0.039523\n",
       "HLTHINS      0.053920\n",
       "VET          0.062773\n",
       "LOS          0.079826\n",
       "DIVISION     0.087744\n",
       "REGION       0.092004\n",
       "FREQ2_D      0.092970\n",
       "SUB2_D       0.109274\n",
       "LIVARAG_D    0.182734\n",
       "EMPLOY_D     0.299876\n",
       "REASON       1.000000\n",
       "AGE               NaN\n",
       "Name: REASON, dtype: float64"
      ]
     },
     "execution_count": 22,
     "metadata": {},
     "output_type": "execute_result"
    }
   ],
   "source": [
    "reason = df_age['REASON']\n",
    "df_corr = df_age.corr()\n",
    "df_corr.unstack().sort_values()\n",
    "variable = df_corr['REASON'].sort_values()\n",
    "variable.tail(12)"
   ]
  },
  {
   "cell_type": "code",
   "execution_count": 23,
   "metadata": {},
   "outputs": [
    {
     "data": {
      "text/plain": [
       "SUB1_D                   0.064157\n",
       "PSYPROB                  0.064809\n",
       "FRSTUSE1                 0.065478\n",
       "FREQ_ATND_SELF_HELP      0.065580\n",
       "SUB2_D                   0.073082\n",
       "HLTHINS                  0.082232\n",
       "PRIMPAY                  0.082946\n",
       "FREQ_ATND_SELF_HELP_D    0.084676\n",
       "DIVISION                 0.167427\n",
       "REGION                   0.181869\n",
       "REASON                   1.000000\n",
       "AGE                           NaN\n",
       "Name: REASON, dtype: float64"
      ]
     },
     "execution_count": 23,
     "metadata": {},
     "output_type": "execute_result"
    }
   ],
   "source": [
    "df_age = df1.loc[df1[\"AGE\"] == 3]\n",
    "reason = df_age['REASON']\n",
    "df_corr = df_age.corr()\n",
    "df_corr.unstack().sort_values()\n",
    "variable = df_corr['REASON'].sort_values()\n",
    "variable.tail(12)"
   ]
  },
  {
   "cell_type": "code",
   "execution_count": 24,
   "metadata": {},
   "outputs": [
    {
     "data": {
      "text/plain": [
       "SUB3_D                   0.048278\n",
       "SUB2                     0.050610\n",
       "PRIMPAY                  0.053293\n",
       "SUB1                     0.054969\n",
       "SUB1_D                   0.070210\n",
       "SUB2_D                   0.072867\n",
       "METHUSE                  0.075923\n",
       "FREQ_ATND_SELF_HELP_D    0.081660\n",
       "DIVISION                 0.149033\n",
       "REGION                   0.168769\n",
       "REASON                   1.000000\n",
       "AGE                           NaN\n",
       "Name: REASON, dtype: float64"
      ]
     },
     "execution_count": 24,
     "metadata": {},
     "output_type": "execute_result"
    }
   ],
   "source": [
    "df_age = df1.loc[df1[\"AGE\"] == 4]\n",
    "reason = df_age['REASON']\n",
    "df_corr = df_age.corr()\n",
    "df_corr.unstack().sort_values()\n",
    "variable = df_corr['REASON'].sort_values()\n",
    "variable.tail(12)"
   ]
  },
  {
   "cell_type": "code",
   "execution_count": 25,
   "metadata": {},
   "outputs": [
    {
     "data": {
      "text/plain": [
       "SUB3                     0.040557\n",
       "SUB3_D                   0.049536\n",
       "SUB1                     0.056211\n",
       "SUB2                     0.059315\n",
       "SUB1_D                   0.069117\n",
       "FREQ_ATND_SELF_HELP_D    0.069745\n",
       "SUB2_D                   0.081070\n",
       "METHUSE                  0.081324\n",
       "DIVISION                 0.141091\n",
       "REGION                   0.164455\n",
       "REASON                   1.000000\n",
       "AGE                           NaN\n",
       "Name: REASON, dtype: float64"
      ]
     },
     "execution_count": 25,
     "metadata": {},
     "output_type": "execute_result"
    }
   ],
   "source": [
    "df_age = df1.loc[df1[\"AGE\"] == 5]\n",
    "reason = df_age['REASON']\n",
    "df_corr = df_age.corr()\n",
    "df_corr.unstack().sort_values()\n",
    "variable = df_corr['REASON'].sort_values()\n",
    "variable.tail(12)"
   ]
  },
  {
   "cell_type": "code",
   "execution_count": 26,
   "metadata": {},
   "outputs": [
    {
     "data": {
      "text/plain": [
       "SUB3                     0.045644\n",
       "SUB3_D                   0.052937\n",
       "SUB1                     0.063080\n",
       "FREQ_ATND_SELF_HELP_D    0.064360\n",
       "SUB2                     0.067337\n",
       "SUB1_D                   0.073413\n",
       "SUB2_D                   0.088431\n",
       "METHUSE                  0.091283\n",
       "DIVISION                 0.146276\n",
       "REGION                   0.170493\n",
       "REASON                   1.000000\n",
       "AGE                           NaN\n",
       "Name: REASON, dtype: float64"
      ]
     },
     "execution_count": 26,
     "metadata": {},
     "output_type": "execute_result"
    }
   ],
   "source": [
    "df_age = df1.loc[df1[\"AGE\"] == 6]\n",
    "reason = df_age['REASON']\n",
    "df_corr = df_age.corr()\n",
    "df_corr.unstack().sort_values()\n",
    "variable = df_corr['REASON'].sort_values()\n",
    "variable.tail(12)"
   ]
  },
  {
   "cell_type": "code",
   "execution_count": 27,
   "metadata": {},
   "outputs": [
    {
     "data": {
      "text/plain": [
       "SUB3                     0.049790\n",
       "SUB3_D                   0.055132\n",
       "SUB1                     0.063611\n",
       "FREQ_ATND_SELF_HELP_D    0.067727\n",
       "SUB2                     0.070983\n",
       "SUB1_D                   0.072864\n",
       "METHUSE                  0.089703\n",
       "SUB2_D                   0.091852\n",
       "DIVISION                 0.144368\n",
       "REGION                   0.167561\n",
       "REASON                   1.000000\n",
       "AGE                           NaN\n",
       "Name: REASON, dtype: float64"
      ]
     },
     "execution_count": 27,
     "metadata": {},
     "output_type": "execute_result"
    }
   ],
   "source": [
    "df_age = df1.loc[df1[\"AGE\"] == 7]\n",
    "reason = df_age['REASON']\n",
    "df_corr = df_age.corr()\n",
    "df_corr.unstack().sort_values()\n",
    "variable = df_corr['REASON'].sort_values()\n",
    "variable.tail(12)"
   ]
  },
  {
   "cell_type": "code",
   "execution_count": 28,
   "metadata": {},
   "outputs": [
    {
     "data": {
      "text/plain": [
       "SUB3                     0.056253\n",
       "FREQ_ATND_SELF_HELP_D    0.058593\n",
       "SUB3_D                   0.060949\n",
       "SUB1                     0.069641\n",
       "SUB1_D                   0.073816\n",
       "SUB2                     0.074019\n",
       "METHUSE                  0.096568\n",
       "SUB2_D                   0.099948\n",
       "DIVISION                 0.144075\n",
       "REGION                   0.168073\n",
       "REASON                   1.000000\n",
       "AGE                           NaN\n",
       "Name: REASON, dtype: float64"
      ]
     },
     "execution_count": 28,
     "metadata": {},
     "output_type": "execute_result"
    }
   ],
   "source": [
    "df_age = df1.loc[df1[\"AGE\"] == 8]\n",
    "reason = df_age['REASON']\n",
    "df_corr = df_age.corr()\n",
    "df_corr.unstack().sort_values()\n",
    "variable = df_corr['REASON'].sort_values()\n",
    "variable.tail(12)"
   ]
  },
  {
   "cell_type": "code",
   "execution_count": 29,
   "metadata": {},
   "outputs": [
    {
     "data": {
      "text/plain": [
       "SUB3                     0.058683\n",
       "SUB3_D                   0.064806\n",
       "FREQ_ATND_SELF_HELP_D    0.071680\n",
       "SUB2                     0.075834\n",
       "SUB1_D                   0.086841\n",
       "SUB1                     0.088501\n",
       "METHUSE                  0.101515\n",
       "SUB2_D                   0.106587\n",
       "DIVISION                 0.137634\n",
       "REGION                   0.159065\n",
       "REASON                   1.000000\n",
       "AGE                           NaN\n",
       "Name: REASON, dtype: float64"
      ]
     },
     "execution_count": 29,
     "metadata": {},
     "output_type": "execute_result"
    }
   ],
   "source": [
    "df_age = df1.loc[df1[\"AGE\"] == 9]\n",
    "reason = df_age['REASON']\n",
    "df_corr = df_age.corr()\n",
    "df_corr.unstack().sort_values()\n",
    "variable = df_corr['REASON'].sort_values()\n",
    "variable.tail(12)"
   ]
  },
  {
   "cell_type": "code",
   "execution_count": 30,
   "metadata": {},
   "outputs": [
    {
     "data": {
      "text/plain": [
       "SUB3                     0.062765\n",
       "SUB2                     0.071399\n",
       "SUB3_D                   0.072427\n",
       "FREQ_ATND_SELF_HELP_D    0.077048\n",
       "SUB1_D                   0.091992\n",
       "SUB1                     0.103761\n",
       "METHUSE                  0.110980\n",
       "SUB2_D                   0.116240\n",
       "DIVISION                 0.125672\n",
       "REGION                   0.143105\n",
       "REASON                   1.000000\n",
       "AGE                           NaN\n",
       "Name: REASON, dtype: float64"
      ]
     },
     "execution_count": 30,
     "metadata": {},
     "output_type": "execute_result"
    }
   ],
   "source": [
    "df_age = df1.loc[df1[\"AGE\"] == 10]\n",
    "reason = df_age['REASON']\n",
    "df_corr = df_age.corr()\n",
    "df_corr.unstack().sort_values()\n",
    "variable = df_corr['REASON'].sort_values()\n",
    "variable.tail(12)"
   ]
  },
  {
   "cell_type": "code",
   "execution_count": 31,
   "metadata": {},
   "outputs": [
    {
     "data": {
      "text/plain": [
       "PRIMPAY     0.074666\n",
       "SUB3        0.075652\n",
       "SUB2        0.076784\n",
       "SUB1_D      0.082104\n",
       "SUB3_D      0.084521\n",
       "SUB1        0.100465\n",
       "METHUSE     0.115671\n",
       "DIVISION    0.121743\n",
       "SUB2_D      0.132563\n",
       "REGION      0.134883\n",
       "REASON      1.000000\n",
       "AGE              NaN\n",
       "Name: REASON, dtype: float64"
      ]
     },
     "execution_count": 31,
     "metadata": {},
     "output_type": "execute_result"
    }
   ],
   "source": [
    "df_age = df1.loc[df1[\"AGE\"] == 11]\n",
    "reason = df_age['REASON']\n",
    "df_corr = df_age.corr()\n",
    "df_corr.unstack().sort_values()\n",
    "variable = df_corr['REASON'].sort_values()\n",
    "variable.tail(12)"
   ]
  },
  {
   "cell_type": "code",
   "execution_count": 32,
   "metadata": {},
   "outputs": [
    {
     "data": {
      "text/plain": [
       "PRIMPAY                0.079841\n",
       "FREQ_ATND_SELF_HELP    0.080037\n",
       "SUB2                   0.088162\n",
       "SUB3                   0.099245\n",
       "SUB3_D                 0.109030\n",
       "DIVISION               0.111273\n",
       "REGION                 0.118251\n",
       "HLTHINS                0.122899\n",
       "METHUSE                0.137940\n",
       "SUB2_D                 0.167750\n",
       "REASON                 1.000000\n",
       "AGE                         NaN\n",
       "Name: REASON, dtype: float64"
      ]
     },
     "execution_count": 32,
     "metadata": {},
     "output_type": "execute_result"
    }
   ],
   "source": [
    "df_age = df1.loc[df1[\"AGE\"] == 12]\n",
    "reason = df_age['REASON']\n",
    "df_corr = df_age.corr()\n",
    "df_corr.unstack().sort_values()\n",
    "variable = df_corr['REASON'].sort_values()\n",
    "variable.tail(12)"
   ]
  },
  {
   "cell_type": "markdown",
   "metadata": {},
   "source": [
    "Now to see if education impacts the top correlated columns \n",
    "EDUC\n",
    "1    total 345658  success 200468  57% success rates\n",
    "2    total 1780631 success 1176600 66% success rates\n",
    "3    total 2789466 success 1720690 61% success rates \n",
    "4    total 1172551 success 745261  63% success rates\n",
    "5    total 353163  success 235683  66% success rates\n",
    "Running the various education brackets through the same correlation comparison, each age bracket showed different correlated columns. there were some similarities but there were enough differences to warrent this filter\n"
   ]
  },
  {
   "cell_type": "code",
   "execution_count": 33,
   "metadata": {},
   "outputs": [
    {
     "data": {
      "text/plain": [
       "EDUC\n",
       "3    2789466\n",
       "2    1780631\n",
       "4    1172551\n",
       "5     353163\n",
       "1     345658\n",
       "Name: count, dtype: int64"
      ]
     },
     "execution_count": 33,
     "metadata": {},
     "output_type": "execute_result"
    }
   ],
   "source": [
    "#df_EDUC = df1.loc[df1[\"EDUC\"] == 1]\n",
    "df1[\"EDUC\"].value_counts()"
   ]
  },
  {
   "cell_type": "code",
   "execution_count": 34,
   "metadata": {},
   "outputs": [
    {
     "data": {
      "text/plain": [
       "PRIMPAY      0.069307\n",
       "LIVARAG_D    0.080919\n",
       "ALCFLG       0.085898\n",
       "EMPLOY_D     0.086642\n",
       "DIVISION     0.087311\n",
       "SUB2_D       0.088828\n",
       "METHUSE      0.095665\n",
       "REGION       0.100640\n",
       "SUB1_D       0.102392\n",
       "SUB1         0.116369\n",
       "REASON       1.000000\n",
       "EDUC              NaN\n",
       "Name: REASON, dtype: float64"
      ]
     },
     "execution_count": 34,
     "metadata": {},
     "output_type": "execute_result"
    }
   ],
   "source": [
    "df_EDUC = df1.loc[df1[\"EDUC\"] == 1]\n",
    "reason = df_EDUC['REASON']\n",
    "df_corr = df_EDUC.corr()\n",
    "df_corr.unstack().sort_values()\n",
    "variable = df_corr['REASON'].sort_values()\n",
    "variable.tail(12)"
   ]
  },
  {
   "cell_type": "code",
   "execution_count": 35,
   "metadata": {},
   "outputs": [
    {
     "data": {
      "text/plain": [
       "AGE         0.102466\n",
       "SUB3        0.103214\n",
       "PSYPROB     0.109550\n",
       "SUB2        0.117038\n",
       "METHUSE     0.122425\n",
       "PRIMPAY     0.141266\n",
       "HLTHINS     0.149990\n",
       "SUB2_D      0.150172\n",
       "DIVISION    0.243292\n",
       "REGION      0.276011\n",
       "REASON      1.000000\n",
       "EDUC             NaN\n",
       "Name: REASON, dtype: float64"
      ]
     },
     "execution_count": 35,
     "metadata": {},
     "output_type": "execute_result"
    }
   ],
   "source": [
    "df_EDUC = df1.loc[df1[\"EDUC\"] == 2]\n",
    "reason = df_EDUC['REASON']\n",
    "df_corr = df_EDUC.corr()\n",
    "df_corr.unstack().sort_values()\n",
    "variable = df_corr['REASON'].sort_values()\n",
    "variable.tail(12)"
   ]
  },
  {
   "cell_type": "code",
   "execution_count": 36,
   "metadata": {},
   "outputs": [
    {
     "data": {
      "text/plain": [
       "AGE                      0.062941\n",
       "LIVARAG_D                0.064623\n",
       "FREQ_ATND_SELF_HELP_D    0.065151\n",
       "METHUSE                  0.072358\n",
       "SUB2_D                   0.074658\n",
       "EMPLOY_D                 0.077863\n",
       "DIVISION                 0.088632\n",
       "SUB1                     0.101026\n",
       "REGION                   0.104770\n",
       "SUB1_D                   0.110057\n",
       "REASON                   1.000000\n",
       "EDUC                          NaN\n",
       "Name: REASON, dtype: float64"
      ]
     },
     "execution_count": 36,
     "metadata": {},
     "output_type": "execute_result"
    }
   ],
   "source": [
    "df_EDUC = df1.loc[df1[\"EDUC\"] == 3]\n",
    "reason = df_EDUC['REASON']\n",
    "df_corr = df_EDUC.corr()\n",
    "df_corr.unstack().sort_values()\n",
    "variable = df_corr['REASON'].sort_values()\n",
    "variable.tail(12)"
   ]
  },
  {
   "cell_type": "code",
   "execution_count": 37,
   "metadata": {},
   "outputs": [
    {
     "data": {
      "text/plain": [
       "SUB2                     0.050132\n",
       "ALCFLG                   0.050799\n",
       "EMPLOY_D                 0.061266\n",
       "SUB2_D                   0.072836\n",
       "FREQ_ATND_SELF_HELP_D    0.074352\n",
       "METHUSE                  0.081982\n",
       "SUB1_D                   0.085732\n",
       "DIVISION                 0.086058\n",
       "SUB1                     0.092965\n",
       "REGION                   0.106394\n",
       "REASON                   1.000000\n",
       "EDUC                          NaN\n",
       "Name: REASON, dtype: float64"
      ]
     },
     "execution_count": 37,
     "metadata": {},
     "output_type": "execute_result"
    }
   ],
   "source": [
    "df_EDUC = df1.loc[df1[\"EDUC\"] == 4]\n",
    "reason = df_EDUC['REASON']\n",
    "df_corr = df_EDUC.corr()\n",
    "df_corr.unstack().sort_values()\n",
    "variable = df_corr['REASON'].sort_values()\n",
    "variable.tail(12)"
   ]
  },
  {
   "cell_type": "code",
   "execution_count": 38,
   "metadata": {},
   "outputs": [
    {
     "ename": "KeyboardInterrupt",
     "evalue": "",
     "output_type": "error",
     "traceback": [
      "\u001b[1;31m---------------------------------------------------------------------------\u001b[0m",
      "\u001b[1;31mKeyboardInterrupt\u001b[0m                         Traceback (most recent call last)",
      "\u001b[1;32m~\\AppData\\Local\\Temp\\ipykernel_14284\\196297035.py\u001b[0m in \u001b[0;36m?\u001b[1;34m()\u001b[0m\n\u001b[0;32m      1\u001b[0m \u001b[0mdf_EDUC\u001b[0m \u001b[1;33m=\u001b[0m \u001b[0mdf1\u001b[0m\u001b[1;33m.\u001b[0m\u001b[0mloc\u001b[0m\u001b[1;33m[\u001b[0m\u001b[0mdf1\u001b[0m\u001b[1;33m[\u001b[0m\u001b[1;34m\"EDUC\"\u001b[0m\u001b[1;33m]\u001b[0m \u001b[1;33m==\u001b[0m \u001b[1;36m5\u001b[0m\u001b[1;33m]\u001b[0m\u001b[1;33m\u001b[0m\u001b[1;33m\u001b[0m\u001b[0m\n\u001b[0;32m      2\u001b[0m \u001b[0mreason\u001b[0m \u001b[1;33m=\u001b[0m \u001b[0mdf_EDUC\u001b[0m\u001b[1;33m[\u001b[0m\u001b[1;34m'REASON'\u001b[0m\u001b[1;33m]\u001b[0m\u001b[1;33m\u001b[0m\u001b[1;33m\u001b[0m\u001b[0m\n\u001b[1;32m----> 3\u001b[1;33m \u001b[0mdf_corr\u001b[0m \u001b[1;33m=\u001b[0m \u001b[0mdf_EDUC\u001b[0m\u001b[1;33m.\u001b[0m\u001b[0mcorr\u001b[0m\u001b[1;33m(\u001b[0m\u001b[1;33m)\u001b[0m\u001b[1;33m\u001b[0m\u001b[1;33m\u001b[0m\u001b[0m\n\u001b[0m\u001b[0;32m      4\u001b[0m \u001b[0mdf_corr\u001b[0m\u001b[1;33m.\u001b[0m\u001b[0munstack\u001b[0m\u001b[1;33m(\u001b[0m\u001b[1;33m)\u001b[0m\u001b[1;33m.\u001b[0m\u001b[0msort_values\u001b[0m\u001b[1;33m(\u001b[0m\u001b[1;33m)\u001b[0m\u001b[1;33m\u001b[0m\u001b[1;33m\u001b[0m\u001b[0m\n\u001b[0;32m      5\u001b[0m \u001b[0mvariable\u001b[0m \u001b[1;33m=\u001b[0m \u001b[0mdf_corr\u001b[0m\u001b[1;33m[\u001b[0m\u001b[1;34m'REASON'\u001b[0m\u001b[1;33m]\u001b[0m\u001b[1;33m.\u001b[0m\u001b[0msort_values\u001b[0m\u001b[1;33m(\u001b[0m\u001b[1;33m)\u001b[0m\u001b[1;33m\u001b[0m\u001b[1;33m\u001b[0m\u001b[0m\n\u001b[0;32m      6\u001b[0m \u001b[0mvariable\u001b[0m\u001b[1;33m.\u001b[0m\u001b[0mtail\u001b[0m\u001b[1;33m(\u001b[0m\u001b[1;36m12\u001b[0m\u001b[1;33m)\u001b[0m\u001b[1;33m\u001b[0m\u001b[1;33m\u001b[0m\u001b[0m\n",
      "\u001b[1;32mc:\\Users\\matth\\anaconda3\\envs\\dev\\Lib\\site-packages\\pandas\\core\\frame.py\u001b[0m in \u001b[0;36m?\u001b[1;34m(self, method, min_periods, numeric_only)\u001b[0m\n\u001b[0;32m  11048\u001b[0m         \u001b[0midx\u001b[0m \u001b[1;33m=\u001b[0m \u001b[0mcols\u001b[0m\u001b[1;33m.\u001b[0m\u001b[0mcopy\u001b[0m\u001b[1;33m(\u001b[0m\u001b[1;33m)\u001b[0m\u001b[1;33m\u001b[0m\u001b[1;33m\u001b[0m\u001b[0m\n\u001b[0;32m  11049\u001b[0m         \u001b[0mmat\u001b[0m \u001b[1;33m=\u001b[0m \u001b[0mdata\u001b[0m\u001b[1;33m.\u001b[0m\u001b[0mto_numpy\u001b[0m\u001b[1;33m(\u001b[0m\u001b[0mdtype\u001b[0m\u001b[1;33m=\u001b[0m\u001b[0mfloat\u001b[0m\u001b[1;33m,\u001b[0m \u001b[0mna_value\u001b[0m\u001b[1;33m=\u001b[0m\u001b[0mnp\u001b[0m\u001b[1;33m.\u001b[0m\u001b[0mnan\u001b[0m\u001b[1;33m,\u001b[0m \u001b[0mcopy\u001b[0m\u001b[1;33m=\u001b[0m\u001b[1;32mFalse\u001b[0m\u001b[1;33m)\u001b[0m\u001b[1;33m\u001b[0m\u001b[1;33m\u001b[0m\u001b[0m\n\u001b[0;32m  11050\u001b[0m \u001b[1;33m\u001b[0m\u001b[0m\n\u001b[0;32m  11051\u001b[0m         \u001b[1;32mif\u001b[0m \u001b[0mmethod\u001b[0m \u001b[1;33m==\u001b[0m \u001b[1;34m\"pearson\"\u001b[0m\u001b[1;33m:\u001b[0m\u001b[1;33m\u001b[0m\u001b[1;33m\u001b[0m\u001b[0m\n\u001b[1;32m> 11052\u001b[1;33m             \u001b[0mcorrel\u001b[0m \u001b[1;33m=\u001b[0m \u001b[0mlibalgos\u001b[0m\u001b[1;33m.\u001b[0m\u001b[0mnancorr\u001b[0m\u001b[1;33m(\u001b[0m\u001b[0mmat\u001b[0m\u001b[1;33m,\u001b[0m \u001b[0mminp\u001b[0m\u001b[1;33m=\u001b[0m\u001b[0mmin_periods\u001b[0m\u001b[1;33m)\u001b[0m\u001b[1;33m\u001b[0m\u001b[1;33m\u001b[0m\u001b[0m\n\u001b[0m\u001b[0;32m  11053\u001b[0m         \u001b[1;32melif\u001b[0m \u001b[0mmethod\u001b[0m \u001b[1;33m==\u001b[0m \u001b[1;34m\"spearman\"\u001b[0m\u001b[1;33m:\u001b[0m\u001b[1;33m\u001b[0m\u001b[1;33m\u001b[0m\u001b[0m\n\u001b[0;32m  11054\u001b[0m             \u001b[0mcorrel\u001b[0m \u001b[1;33m=\u001b[0m \u001b[0mlibalgos\u001b[0m\u001b[1;33m.\u001b[0m\u001b[0mnancorr_spearman\u001b[0m\u001b[1;33m(\u001b[0m\u001b[0mmat\u001b[0m\u001b[1;33m,\u001b[0m \u001b[0mminp\u001b[0m\u001b[1;33m=\u001b[0m\u001b[0mmin_periods\u001b[0m\u001b[1;33m)\u001b[0m\u001b[1;33m\u001b[0m\u001b[1;33m\u001b[0m\u001b[0m\n\u001b[0;32m  11055\u001b[0m         \u001b[1;32melif\u001b[0m \u001b[0mmethod\u001b[0m \u001b[1;33m==\u001b[0m \u001b[1;34m\"kendall\"\u001b[0m \u001b[1;32mor\u001b[0m \u001b[0mcallable\u001b[0m\u001b[1;33m(\u001b[0m\u001b[0mmethod\u001b[0m\u001b[1;33m)\u001b[0m\u001b[1;33m:\u001b[0m\u001b[1;33m\u001b[0m\u001b[1;33m\u001b[0m\u001b[0m\n",
      "\u001b[1;31mKeyboardInterrupt\u001b[0m: "
     ]
    }
   ],
   "source": [
    "df_EDUC = df1.loc[df1[\"EDUC\"] == 5]\n",
    "reason = df_EDUC['REASON']\n",
    "df_corr = df_EDUC.corr()\n",
    "df_corr.unstack().sort_values()\n",
    "variable = df_corr['REASON'].sort_values()\n",
    "variable.tail(12)"
   ]
  },
  {
   "cell_type": "markdown",
   "metadata": {},
   "source": [
    "Now to test veteran status to see if that has an impact on the top correlated columns\n",
    "Yes 161329 total 104640 success 64% success rate\n",
    "No 6280140 total 3974062 success 63% success rate\n",
    "The top 10 correlated columns changed between veterens and non-veterens. This is a valid filter"
   ]
  },
  {
   "cell_type": "code",
   "execution_count": null,
   "metadata": {},
   "outputs": [
    {
     "data": {
      "text/plain": [
       "VET\n",
       "2    6280140\n",
       "1     161329\n",
       "Name: count, dtype: int64"
      ]
     },
     "execution_count": 55,
     "metadata": {},
     "output_type": "execute_result"
    }
   ],
   "source": [
    "df1[\"VET\"].value_counts()"
   ]
  },
  {
   "cell_type": "code",
   "execution_count": null,
   "metadata": {},
   "outputs": [
    {
     "data": {
      "text/plain": [
       "FREQ1       0.067028\n",
       "EMPLOY_D    0.078032\n",
       "SUB3_D      0.082935\n",
       "SUB1_D      0.086778\n",
       "AGE         0.092167\n",
       "SUB1        0.094602\n",
       "DIVISION    0.094659\n",
       "REGION      0.103449\n",
       "ALCFLG      0.124430\n",
       "METHUSE     0.139900\n",
       "REASON      1.000000\n",
       "VET              NaN\n",
       "Name: REASON, dtype: float64"
      ]
     },
     "execution_count": 194,
     "metadata": {},
     "output_type": "execute_result"
    }
   ],
   "source": [
    "df_VET = df1.loc[df1[\"VET\"] == 1]\n",
    "reason = df_VET['REASON']\n",
    "df_corr = df_VET.corr()\n",
    "df_corr.unstack().sort_values()\n",
    "variable = df_corr['REASON'].sort_values()\n",
    "variable.tail(12)"
   ]
  },
  {
   "cell_type": "code",
   "execution_count": null,
   "metadata": {},
   "outputs": [
    {
     "data": {
      "text/plain": [
       "SUB3_D                   0.060314\n",
       "SUB2                     0.068423\n",
       "FREQ_ATND_SELF_HELP_D    0.068921\n",
       "AGE                      0.069492\n",
       "SUB1                     0.083149\n",
       "SUB1_D                   0.084955\n",
       "METHUSE                  0.088217\n",
       "SUB2_D                   0.099711\n",
       "DIVISION                 0.135142\n",
       "REGION                   0.156135\n",
       "REASON                   1.000000\n",
       "VET                           NaN\n",
       "Name: REASON, dtype: float64"
      ]
     },
     "execution_count": 195,
     "metadata": {},
     "output_type": "execute_result"
    }
   ],
   "source": [
    "df_VET = df1.loc[df1[\"VET\"] == 2]\n",
    "reason = df_VET['REASON']\n",
    "df_corr = df_VET.corr()\n",
    "df_corr.unstack().sort_values()\n",
    "variable = df_corr['REASON'].sort_values()\n",
    "variable.tail(12)"
   ]
  },
  {
   "cell_type": "markdown",
   "metadata": {},
   "source": [
    "Now to see if an arrest record makes a difference in which columns are highly correlated. \n",
    "0 6002132 total, 3810659 success 63% success rate\n",
    "1 368407  total, 223690  success 60% success rate\n",
    "2+ 70930  total, 44353   success 62% success rate\n",
    "Notable differnece in which columns are highly correlated for each catagory of arrests. this is a valid filter"
   ]
  },
  {
   "cell_type": "code",
   "execution_count": null,
   "metadata": {},
   "outputs": [
    {
     "data": {
      "text/plain": [
       "ARRESTS\n",
       "0    6002132\n",
       "1     368407\n",
       "2      70930\n",
       "Name: count, dtype: int64"
      ]
     },
     "execution_count": 62,
     "metadata": {},
     "output_type": "execute_result"
    }
   ],
   "source": [
    "df1[\"ARRESTS\"].value_counts()"
   ]
  },
  {
   "cell_type": "code",
   "execution_count": null,
   "metadata": {},
   "outputs": [
    {
     "data": {
      "text/plain": [
       "SUB3_D                   0.061334\n",
       "FREQ_ATND_SELF_HELP_D    0.067356\n",
       "SUB2                     0.068837\n",
       "AGE                      0.069072\n",
       "SUB1                     0.083293\n",
       "SUB1_D                   0.084675\n",
       "METHUSE                  0.090433\n",
       "SUB2_D                   0.100012\n",
       "DIVISION                 0.137614\n",
       "REGION                   0.159577\n",
       "REASON                   1.000000\n",
       "ARRESTS                       NaN\n",
       "Name: REASON, dtype: float64"
      ]
     },
     "execution_count": 197,
     "metadata": {},
     "output_type": "execute_result"
    }
   ],
   "source": [
    "df_ARRESTS = df1.loc[df1[\"ARRESTS\"] == 0]\n",
    "reason = df_ARRESTS['REASON']\n",
    "df_corr = df_ARRESTS.corr()\n",
    "df_corr.unstack().sort_values()\n",
    "variable = df_corr['REASON'].sort_values()\n",
    "variable.tail(12)"
   ]
  },
  {
   "cell_type": "code",
   "execution_count": null,
   "metadata": {},
   "outputs": [
    {
     "data": {
      "text/plain": [
       "AGE                      0.074588\n",
       "HLTHINS                  0.074703\n",
       "DIVISION                 0.079094\n",
       "METHUSE                  0.080063\n",
       "REGION                   0.081809\n",
       "SUB1                     0.085430\n",
       "LIVARAG_D                0.088352\n",
       "FREQ_ATND_SELF_HELP_D    0.089473\n",
       "SUB1_D                   0.095353\n",
       "EMPLOY_D                 0.108059\n",
       "REASON                   1.000000\n",
       "ARRESTS                       NaN\n",
       "Name: REASON, dtype: float64"
      ]
     },
     "execution_count": 198,
     "metadata": {},
     "output_type": "execute_result"
    }
   ],
   "source": [
    "df_ARRESTS = df1.loc[df1[\"ARRESTS\"] == 1]\n",
    "reason = df_ARRESTS['REASON']\n",
    "df_corr = df_ARRESTS.corr()\n",
    "df_corr.unstack().sort_values()\n",
    "variable = df_corr['REASON'].sort_values()\n",
    "variable.tail(12)"
   ]
  },
  {
   "cell_type": "code",
   "execution_count": null,
   "metadata": {},
   "outputs": [
    {
     "data": {
      "text/plain": [
       "FREQ_ATND_SELF_HELP_D    0.074911\n",
       "AGE                      0.078554\n",
       "SUB1_D                   0.081047\n",
       "SUB2_D                   0.091650\n",
       "SUB1                     0.097103\n",
       "PSYPROB                  0.107037\n",
       "REGION                   0.145447\n",
       "DIVISION                 0.149742\n",
       "HLTHINS                  0.171166\n",
       "PRIMPAY                  0.173732\n",
       "REASON                   1.000000\n",
       "ARRESTS                       NaN\n",
       "Name: REASON, dtype: float64"
      ]
     },
     "execution_count": 199,
     "metadata": {},
     "output_type": "execute_result"
    }
   ],
   "source": [
    "df_ARRESTS = df1.loc[df1[\"ARRESTS\"] == 2]\n",
    "reason = df_ARRESTS['REASON']\n",
    "df_corr = df_ARRESTS.corr()\n",
    "df_corr.unstack().sort_values()\n",
    "variable = df_corr['REASON'].sort_values()\n",
    "variable.tail(12)"
   ]
  },
  {
   "cell_type": "markdown",
   "metadata": {},
   "source": [
    "Now to see if there is any significant difference in the correlated columns for NOPRIOR\n",
    "0   2838031 total, 1834494 success, 64% success rates\n",
    "1   3603438 total, 2244208 success, 62% success rates\n",
    "each option changed which columns are highly correlated"
   ]
  },
  {
   "cell_type": "code",
   "execution_count": null,
   "metadata": {},
   "outputs": [
    {
     "data": {
      "text/plain": [
       "NOPRIOR\n",
       "1    3603438\n",
       "0    2838031\n",
       "Name: count, dtype: int64"
      ]
     },
     "execution_count": 70,
     "metadata": {},
     "output_type": "execute_result"
    }
   ],
   "source": [
    "df1[\"NOPRIOR\"].value_counts()"
   ]
  },
  {
   "cell_type": "code",
   "execution_count": null,
   "metadata": {},
   "outputs": [
    {
     "data": {
      "text/plain": [
       "FREQ_ATND_SELF_HELP    0.054467\n",
       "SUB1_D                 0.055113\n",
       "SUB3                   0.066662\n",
       "REGION                 0.066874\n",
       "EMPLOY_D               0.069524\n",
       "SUB1                   0.072388\n",
       "METHUSE                0.076196\n",
       "AGE                    0.085577\n",
       "SUB3_D                 0.086345\n",
       "SUB2_D                 0.131218\n",
       "REASON                 1.000000\n",
       "NOPRIOR                     NaN\n",
       "Name: REASON, dtype: float64"
      ]
     },
     "execution_count": 200,
     "metadata": {},
     "output_type": "execute_result"
    }
   ],
   "source": [
    "df_NOPRIOR = df1.loc[df1[\"NOPRIOR\"] == 0]\n",
    "reason = df_NOPRIOR['REASON']\n",
    "df_corr = df_NOPRIOR.corr()\n",
    "df_corr.unstack().sort_values()\n",
    "variable = df_corr['REASON'].sort_values()\n",
    "variable.tail(12)"
   ]
  },
  {
   "cell_type": "code",
   "execution_count": null,
   "metadata": {},
   "outputs": [
    {
     "data": {
      "text/plain": [
       "PSYPROB                  0.057240\n",
       "AGE                      0.061385\n",
       "SUB2_D                   0.071763\n",
       "SUB2                     0.075026\n",
       "SUB1                     0.091494\n",
       "FREQ_ATND_SELF_HELP_D    0.092251\n",
       "METHUSE                  0.098337\n",
       "SUB1_D                   0.109932\n",
       "DIVISION                 0.198249\n",
       "REGION                   0.219174\n",
       "REASON                   1.000000\n",
       "NOPRIOR                       NaN\n",
       "Name: REASON, dtype: float64"
      ]
     },
     "execution_count": 201,
     "metadata": {},
     "output_type": "execute_result"
    }
   ],
   "source": [
    "df_NOPRIOR = df1.loc[df1[\"NOPRIOR\"] == 1]\n",
    "reason = df_NOPRIOR['REASON']\n",
    "df_corr = df_NOPRIOR.corr()\n",
    "df_corr.unstack().sort_values()\n",
    "variable = df_corr['REASON'].sort_values()\n",
    "variable.tail(12)"
   ]
  },
  {
   "cell_type": "markdown",
   "metadata": {},
   "source": [
    "now to see if substance has an impact on the correlated columns\n",
    " (1) None total,128468 success,99152 77%\n",
    " (2) Alcohol 1961311 1343657 68%\n",
    " (3) Cocaine/crack 355156 203136 57%\n",
    " (4) Marijuana/hashish: Includes THC and any other cannabis sativa preparations. 733619 388261 52%\n",
    " (5) Heroin 1500921 860651 57%\n",
    " (6) Non-prescription methadone 13665 9626 70%\n",
    " (7) Other opiates and synthetics: Includes buprenorphine, butorphanol, codeine, hydrocodone, hydromorphone, meperidine,\n",
    " morphine, opium, oxycodone, pentazocine, propoxyphene, tramadol, and other narcotic analgesics, opiates, or synthetics. 482993 309014 63%\n",
    " (8) PCP: Phencyclidine 16242 8494 52%\n",
    " (9) Hallucinogens: Includes LSD, DMT, mescaline, peyote, psilocybin, STP, and other hallucinogens. 7451 4396 58%\n",
    " (10) Methamphetamine/speed 756900 470237 62%\n",
    " (11) Other amphetamines: Includes amphetamines, MDMA, ‘bath salts’, phenmetrazine, and other amines and related drugs. 37653 22643 60%\n",
    " (12) Other stimulants: Includes methylphenidate and any other stimulants. 9485 6469 68%\n",
    " (13) Benzodiazepines: Includes alprazolam, chlordiazepoxide, clonazepam, clorazepate, diazepam, flunitrazepam,\n",
    " flurazepam, halazepam, lorazepam, oxazepam, prazepam, temazepam, triazolam, and other unspecified benzodiazepines. 69230 46623 67%\n",
    " (14) Other tranquilizers: Includes meprobamate, and other non-benzodiazepine tranquilizers. 593 393 66%\n",
    " (15) Barbiturates: Includes amobarbital, pentobarbital, phenobarbital, secobarbital, etc. 3733 2902 77%\n",
    " (16) Other sedatives or hypnotics: Includes chloral hydrate, ethchlorvynol, glutethimide, methaqualone, and other\n",
    " non-barbiturate sedatives and hypnotics. 7994 5211 65%\n",
    " (17) Inhalants: Includes aerosols; chloroform, ether, nitrous oxide and other anesthetics; gasoline; glue; nitrites; paint thinner\n",
    " and other solvents; and other inappropriately inhaled products. 2988 1830 61%\n",
    " (18) Over-the-counter medications: Includes aspirin, dextromethorphan and other cough syrups, diphenhydramine and other\n",
    " anti-histamines, ephedrine, sleep aids, and any other legally obtained, non-prescription medication. 2210 1201 54%\n",
    " (19) Other drugs: Includes diphenylhydantoin/phenytoin, GHB/GBL, ketamine, synthetic cannabinoid 'Spice', carisoprodol\n",
    " (Soma), and other drugs 41368 22273 53%\n",
    "\n",
    " There was change in every catagory of drug in which columns were highly correlated. some similarities, but the data indicates that different drugs have different need when finding success. "
   ]
  },
  {
   "cell_type": "code",
   "execution_count": null,
   "metadata": {},
   "outputs": [],
   "source": [
    "# reading in the original pre-cleaned dataset to test sub1 filter\n",
    "df2 = pd.read_csv(\"original_df.csv\")\n",
    "# applying the changes to just the reason column for an apples to apples compairison\n",
    "df2['REASON'] = df2['REASON'].replace(4, 1)\n",
    "df2['REASON'] = df2['REASON'].replace(2, 0)\n",
    "df2['REASON'] = df2['REASON'].replace(3, 0)\n",
    "df2['REASON'] = df2['REASON'].replace(5, 0)\n",
    "df2['REASON'] = df2['REASON'].replace(6, 0)\n",
    "df2['REASON'] = df2['REASON'].replace(7, 0)"
   ]
  },
  {
   "cell_type": "code",
   "execution_count": null,
   "metadata": {},
   "outputs": [
    {
     "data": {
      "text/plain": [
       "AGE         0.161483\n",
       "SUB2        0.179905\n",
       "PSYPROB     0.182294\n",
       "SUB2_D      0.194146\n",
       "SUB3        0.196409\n",
       "REGION      0.198355\n",
       "FREQ1_D     0.206540\n",
       "SUB3_D      0.266350\n",
       "NOPRIOR     0.281430\n",
       "DSMCRIT     0.283942\n",
       "METHUSE     0.335903\n",
       "REASON      1.000000\n",
       "SUB1             NaN\n",
       "ROUTE1           NaN\n",
       "FREQ1            NaN\n",
       "FRSTUSE1         NaN\n",
       "ALCFLG           NaN\n",
       "COKEFLG          NaN\n",
       "MARFLG           NaN\n",
       "HERFLG           NaN\n",
       "METHFLG          NaN\n",
       "OPSYNFLG         NaN\n",
       "PCPFLG           NaN\n",
       "HALLFLG          NaN\n",
       "MTHAMFLG         NaN\n",
       "AMPHFLG          NaN\n",
       "STIMFLG          NaN\n",
       "BENZFLG          NaN\n",
       "TRNQFLG          NaN\n",
       "BARBFLG          NaN\n",
       "SEDHPFLG         NaN\n",
       "INHFLG           NaN\n",
       "OTCFLG           NaN\n",
       "OTHERFLG         NaN\n",
       "IDU              NaN\n",
       "ALCDRUG          NaN\n",
       "Name: REASON, dtype: float64"
      ]
     },
     "execution_count": 233,
     "metadata": {},
     "output_type": "execute_result"
    }
   ],
   "source": [
    "df_SUB1 = df2.loc[df2[\"SUB1\"] == 1]\n",
    "reason = df_SUB1['REASON']\n",
    "df_corr = df_SUB1.corr()\n",
    "df_corr.unstack().sort_values()\n",
    "variable = df_corr['REASON'].sort_values()\n",
    "variable.tail(36)"
   ]
  },
  {
   "cell_type": "code",
   "execution_count": null,
   "metadata": {},
   "outputs": [
    {
     "data": {
      "text/plain": [
       "AGE                      0.068876\n",
       "EMPLOY_D                 0.071327\n",
       "PRIMPAY                  0.073834\n",
       "FREQ1_D                  0.086907\n",
       "SUB2_D                   0.088448\n",
       "DIVISION                 0.092526\n",
       "REGION                   0.095492\n",
       "ARRESTS_D                0.118188\n",
       "FREQ_ATND_SELF_HELP_D    0.159887\n",
       "REASON                   1.000000\n",
       "SUB1                          NaN\n",
       "ALCFLG                        NaN\n",
       "Name: REASON, dtype: float64"
      ]
     },
     "execution_count": 209,
     "metadata": {},
     "output_type": "execute_result"
    }
   ],
   "source": [
    "df_SUB1 = df2.loc[df2[\"SUB1\"] == 2]\n",
    "reason = df_SUB1['REASON']\n",
    "df_corr = df_SUB1.corr()\n",
    "df_corr.unstack().sort_values()\n",
    "variable = df_corr['REASON'].sort_values()\n",
    "variable.tail(12)"
   ]
  },
  {
   "cell_type": "code",
   "execution_count": null,
   "metadata": {},
   "outputs": [
    {
     "data": {
      "text/plain": [
       "FREQ1                    0.053816\n",
       "EMPLOY_D                 0.054360\n",
       "METHUSE                  0.064538\n",
       "SUB2_D                   0.089196\n",
       "ARRESTS_D                0.109318\n",
       "FREQ1_D                  0.124249\n",
       "DIVISION                 0.127497\n",
       "REGION                   0.149623\n",
       "FREQ_ATND_SELF_HELP_D    0.151607\n",
       "REASON                   1.000000\n",
       "SUB1                          NaN\n",
       "COKEFLG                       NaN\n",
       "Name: REASON, dtype: float64"
      ]
     },
     "execution_count": 210,
     "metadata": {},
     "output_type": "execute_result"
    }
   ],
   "source": [
    "df_SUB1 = df2.loc[df2[\"SUB1\"] == 3]\n",
    "reason = df_SUB1['REASON']\n",
    "df_corr = df_SUB1.corr()\n",
    "df_corr.unstack().sort_values()\n",
    "variable = df_corr['REASON'].sort_values()\n",
    "variable.tail(12)"
   ]
  },
  {
   "cell_type": "code",
   "execution_count": null,
   "metadata": {},
   "outputs": [
    {
     "data": {
      "text/plain": [
       "PRIMPAY                  0.081365\n",
       "SUB2_D                   0.138648\n",
       "DIVISION                 0.143919\n",
       "LIVARAG_D                0.153642\n",
       "REGION                   0.161540\n",
       "EMPLOY_D                 0.169199\n",
       "FREQ_ATND_SELF_HELP_D    0.172417\n",
       "FREQ1_D                  0.176128\n",
       "ARRESTS_D                0.232459\n",
       "REASON                   1.000000\n",
       "SUB1                          NaN\n",
       "MARFLG                        NaN\n",
       "Name: REASON, dtype: float64"
      ]
     },
     "execution_count": 211,
     "metadata": {},
     "output_type": "execute_result"
    }
   ],
   "source": [
    "df_SUB1 = df2.loc[df2[\"SUB1\"] == 4]\n",
    "reason = df_SUB1['REASON']\n",
    "df_corr = df_SUB1.corr()\n",
    "df_corr.unstack().sort_values()\n",
    "variable = df_corr['REASON'].sort_values()\n",
    "variable.tail(12)"
   ]
  },
  {
   "cell_type": "code",
   "execution_count": null,
   "metadata": {},
   "outputs": [
    {
     "data": {
      "text/plain": [
       "CBSA2010                 0.057662\n",
       "EMPLOY_D                 0.061841\n",
       "SUB3_D                   0.066677\n",
       "ARRESTS_D                0.081935\n",
       "FREQ1_D                  0.093046\n",
       "DIVISION                 0.101121\n",
       "REGION                   0.127047\n",
       "FREQ_ATND_SELF_HELP_D    0.137438\n",
       "SUB2_D                   0.153148\n",
       "REASON                   1.000000\n",
       "SUB1                          NaN\n",
       "HERFLG                        NaN\n",
       "Name: REASON, dtype: float64"
      ]
     },
     "execution_count": 212,
     "metadata": {},
     "output_type": "execute_result"
    }
   ],
   "source": [
    "df_SUB1 = df2.loc[df2[\"SUB1\"] == 5]\n",
    "reason = df_SUB1['REASON']\n",
    "df_corr = df_SUB1.corr()\n",
    "df_corr.unstack().sort_values()\n",
    "variable = df_corr['REASON'].sort_values()\n",
    "variable.tail(12)"
   ]
  },
  {
   "cell_type": "code",
   "execution_count": null,
   "metadata": {},
   "outputs": [
    {
     "data": {
      "text/plain": [
       "FREQ_ATND_SELF_HELP      0.145087\n",
       "MARSTAT                  0.147164\n",
       "STFIPS                   0.156014\n",
       "DSMCRIT                  0.183526\n",
       "ARRESTS_D                0.184093\n",
       "REGION                   0.208162\n",
       "SUB2_D                   0.218680\n",
       "FREQ_ATND_SELF_HELP_D    0.221428\n",
       "FREQ1_D                  0.261993\n",
       "REASON                   1.000000\n",
       "SUB1                          NaN\n",
       "METHFLG                       NaN\n",
       "Name: REASON, dtype: float64"
      ]
     },
     "execution_count": 213,
     "metadata": {},
     "output_type": "execute_result"
    }
   ],
   "source": [
    "df_SUB1 = df2.loc[df2[\"SUB1\"] == 6]\n",
    "reason = df_SUB1['REASON']\n",
    "df_corr = df_SUB1.corr()\n",
    "df_corr.unstack().sort_values()\n",
    "variable = df_corr['REASON'].sort_values()\n",
    "variable.tail(12)"
   ]
  },
  {
   "cell_type": "code",
   "execution_count": null,
   "metadata": {},
   "outputs": [
    {
     "data": {
      "text/plain": [
       "VET                      0.078341\n",
       "PSYPROB                  0.084055\n",
       "METHUSE                  0.091298\n",
       "SUB2_D                   0.107553\n",
       "ARRESTS_D                0.118062\n",
       "DIVISION                 0.146986\n",
       "FREQ_ATND_SELF_HELP_D    0.160334\n",
       "REGION                   0.193275\n",
       "FREQ1_D                  0.209268\n",
       "REASON                   1.000000\n",
       "SUB1                          NaN\n",
       "OPSYNFLG                      NaN\n",
       "Name: REASON, dtype: float64"
      ]
     },
     "execution_count": 214,
     "metadata": {},
     "output_type": "execute_result"
    }
   ],
   "source": [
    "df_SUB1 = df2.loc[df2[\"SUB1\"] == 7]\n",
    "reason = df_SUB1['REASON']\n",
    "df_corr = df_SUB1.corr()\n",
    "df_corr.unstack().sort_values()\n",
    "variable = df_corr['REASON'].sort_values()\n",
    "variable.tail(12)"
   ]
  },
  {
   "cell_type": "code",
   "execution_count": null,
   "metadata": {},
   "outputs": [
    {
     "data": {
      "text/plain": [
       "AGE                      0.050034\n",
       "SUB3_D                   0.067815\n",
       "LOS                      0.077557\n",
       "FREQ1_D                  0.098604\n",
       "EMPLOY_D                 0.130740\n",
       "SUB2_D                   0.139563\n",
       "ARRESTS_D                0.144526\n",
       "LIVARAG_D                0.153426\n",
       "FREQ_ATND_SELF_HELP_D    0.208183\n",
       "REASON                   1.000000\n",
       "SUB1                          NaN\n",
       "PCPFLG                        NaN\n",
       "Name: REASON, dtype: float64"
      ]
     },
     "execution_count": 215,
     "metadata": {},
     "output_type": "execute_result"
    }
   ],
   "source": [
    "df_SUB1 = df2.loc[df2[\"SUB1\"] == 8]\n",
    "reason = df_SUB1['REASON']\n",
    "df_corr = df_SUB1.corr()\n",
    "df_corr.unstack().sort_values()\n",
    "variable = df_corr['REASON'].sort_values()\n",
    "variable.tail(12)"
   ]
  },
  {
   "cell_type": "code",
   "execution_count": null,
   "metadata": {},
   "outputs": [
    {
     "data": {
      "text/plain": [
       "PRIMPAY                  0.064629\n",
       "LIVARAG_D                0.065337\n",
       "MTHAMFLG                 0.078482\n",
       "SUB2_D                   0.085268\n",
       "FREQ1_D                  0.108967\n",
       "DIVISION                 0.113451\n",
       "ARRESTS_D                0.120698\n",
       "REGION                   0.125998\n",
       "FREQ_ATND_SELF_HELP_D    0.163781\n",
       "REASON                   1.000000\n",
       "SUB1                          NaN\n",
       "HALLFLG                       NaN\n",
       "Name: REASON, dtype: float64"
      ]
     },
     "execution_count": 216,
     "metadata": {},
     "output_type": "execute_result"
    }
   ],
   "source": [
    "df_SUB1 = df2.loc[df2[\"SUB1\"] == 9]\n",
    "reason = df_SUB1['REASON']\n",
    "df_corr = df_SUB1.corr()\n",
    "df_corr.unstack().sort_values()\n",
    "variable = df_corr['REASON'].sort_values()\n",
    "variable.tail(12)"
   ]
  },
  {
   "cell_type": "code",
   "execution_count": null,
   "metadata": {},
   "outputs": [
    {
     "data": {
      "text/plain": [
       "DIVISION                 0.100785\n",
       "PRIMPAY                  0.104194\n",
       "REGION                   0.113802\n",
       "FREQ_ATND_SELF_HELP_D    0.247506\n",
       "FREQ1_D                  0.285873\n",
       "SUB2_D                   0.295008\n",
       "LIVARAG_D                0.315962\n",
       "EMPLOY_D                 0.363878\n",
       "ARRESTS_D                0.408231\n",
       "REASON                   1.000000\n",
       "SUB1                          NaN\n",
       "MTHAMFLG                      NaN\n",
       "Name: REASON, dtype: float64"
      ]
     },
     "execution_count": 217,
     "metadata": {},
     "output_type": "execute_result"
    }
   ],
   "source": [
    "df_SUB1 = df2.loc[df2[\"SUB1\"] == 10]\n",
    "reason = df_SUB1['REASON']\n",
    "df_corr = df_SUB1.corr()\n",
    "df_corr.unstack().sort_values()\n",
    "variable = df_corr['REASON'].sort_values()\n",
    "variable.tail(12)"
   ]
  },
  {
   "cell_type": "code",
   "execution_count": null,
   "metadata": {},
   "outputs": [
    {
     "data": {
      "text/plain": [
       "DIVISION                 0.077911\n",
       "SUB1_D                   0.091142\n",
       "SUB2_D                   0.101320\n",
       "EMPLOY_D                 0.107113\n",
       "REGION                   0.116395\n",
       "FREQ1_D                  0.187590\n",
       "LIVARAG_D                0.200931\n",
       "FREQ_ATND_SELF_HELP_D    0.268140\n",
       "ARRESTS_D                0.271992\n",
       "REASON                   1.000000\n",
       "SUB1                          NaN\n",
       "AMPHFLG                       NaN\n",
       "Name: REASON, dtype: float64"
      ]
     },
     "execution_count": 218,
     "metadata": {},
     "output_type": "execute_result"
    }
   ],
   "source": [
    "df_SUB1 = df2.loc[df2[\"SUB1\"] == 11]\n",
    "reason = df_SUB1['REASON']\n",
    "df_corr = df_SUB1.corr()\n",
    "df_corr.unstack().sort_values()\n",
    "variable = df_corr['REASON'].sort_values()\n",
    "variable.tail(12)"
   ]
  },
  {
   "cell_type": "code",
   "execution_count": null,
   "metadata": {},
   "outputs": [
    {
     "data": {
      "text/plain": [
       "PSYPROB                  0.124307\n",
       "DISYR                    0.130246\n",
       "ROUTE1                   0.130251\n",
       "ARRESTS_D                0.131266\n",
       "PRIMPAY                  0.148650\n",
       "METHUSE                  0.151842\n",
       "FREQ_ATND_SELF_HELP_D    0.163781\n",
       "DIVISION                 0.202897\n",
       "REGION                   0.229991\n",
       "REASON                   1.000000\n",
       "SUB1                          NaN\n",
       "STIMFLG                       NaN\n",
       "Name: REASON, dtype: float64"
      ]
     },
     "execution_count": 219,
     "metadata": {},
     "output_type": "execute_result"
    }
   ],
   "source": [
    "df_SUB1 = df2.loc[df2[\"SUB1\"] == 12]\n",
    "reason = df_SUB1['REASON']\n",
    "df_corr = df_SUB1.corr()\n",
    "df_corr.unstack().sort_values()\n",
    "variable = df_corr['REASON'].sort_values()\n",
    "variable.tail(12)"
   ]
  },
  {
   "cell_type": "code",
   "execution_count": null,
   "metadata": {},
   "outputs": [
    {
     "data": {
      "text/plain": [
       "FRSTUSE1                 0.045654\n",
       "METHUSE                  0.047002\n",
       "DSMCRIT                  0.050881\n",
       "VET                      0.061380\n",
       "DIVISION                 0.062166\n",
       "CBSA2010                 0.062295\n",
       "REGION                   0.066954\n",
       "AGE                      0.077643\n",
       "FREQ_ATND_SELF_HELP_D    0.146237\n",
       "REASON                   1.000000\n",
       "SUB1                          NaN\n",
       "BENZFLG                       NaN\n",
       "Name: REASON, dtype: float64"
      ]
     },
     "execution_count": 220,
     "metadata": {},
     "output_type": "execute_result"
    }
   ],
   "source": [
    "df_SUB1 = df2.loc[df2[\"SUB1\"] == 13]\n",
    "reason = df_SUB1['REASON']\n",
    "df_corr = df_SUB1.corr()\n",
    "df_corr.unstack().sort_values()\n",
    "variable = df_corr['REASON'].sort_values()\n",
    "variable.tail(12)"
   ]
  },
  {
   "cell_type": "code",
   "execution_count": null,
   "metadata": {},
   "outputs": [
    {
     "data": {
      "text/plain": [
       "SUB2                     0.128384\n",
       "REGION                   0.140990\n",
       "DIVISION                 0.141216\n",
       "LIVARAG_D                0.171871\n",
       "EMPLOY_D                 0.198073\n",
       "FREQ_ATND_SELF_HELP_D    0.213608\n",
       "ARRESTS_D                0.242873\n",
       "FREQ1_D                  0.261202\n",
       "SUB2_D                   0.310511\n",
       "REASON                   1.000000\n",
       "SUB1                          NaN\n",
       "PCPFLG                        NaN\n",
       "BARBFLG                       NaN\n",
       "SEDHPFLG                      NaN\n",
       "INHFLG                        NaN\n",
       "Name: REASON, dtype: float64"
      ]
     },
     "execution_count": 13,
     "metadata": {},
     "output_type": "execute_result"
    }
   ],
   "source": [
    "df_SUB1 = df2.loc[df2[\"SUB1\"] == 14]\n",
    "reason = df_SUB1['REASON']\n",
    "df_corr = df_SUB1.corr()\n",
    "df_corr.unstack().sort_values()\n",
    "variable = df_corr['REASON'].sort_values()\n",
    "variable.tail(15)"
   ]
  },
  {
   "cell_type": "code",
   "execution_count": null,
   "metadata": {},
   "outputs": [
    {
     "data": {
      "text/plain": [
       "PRIMINC                  0.118846\n",
       "FREQ1                    0.124295\n",
       "STFIPS                   0.136416\n",
       "DSMCRIT                  0.143165\n",
       "FRSTUSE1                 0.154413\n",
       "DETNLF                   0.171757\n",
       "AGE                      0.177705\n",
       "CBSA2010                 0.185975\n",
       "FREQ_ATND_SELF_HELP_D    0.234816\n",
       "REASON                   1.000000\n",
       "SUB1                          NaN\n",
       "PCPFLG                        NaN\n",
       "TRNQFLG                       NaN\n",
       "BARBFLG                       NaN\n",
       "Name: REASON, dtype: float64"
      ]
     },
     "execution_count": 223,
     "metadata": {},
     "output_type": "execute_result"
    }
   ],
   "source": [
    "df_SUB1 = df2.loc[df2[\"SUB1\"] == 15]\n",
    "reason = df_SUB1['REASON']\n",
    "df_corr = df_SUB1.corr()\n",
    "df_corr.unstack().sort_values()\n",
    "variable = df_corr['REASON'].sort_values()\n",
    "variable.tail(14)"
   ]
  },
  {
   "cell_type": "code",
   "execution_count": null,
   "metadata": {},
   "outputs": [
    {
     "data": {
      "text/plain": [
       "DIVISION                 0.089788\n",
       "FREQ3_D                  0.104277\n",
       "SUB3_D                   0.111188\n",
       "LIVARAG_D                0.152176\n",
       "REGION                   0.158219\n",
       "FREQ_ATND_SELF_HELP_D    0.169610\n",
       "EMPLOY_D                 0.173031\n",
       "ARRESTS_D                0.198850\n",
       "FREQ1_D                  0.221564\n",
       "SUB2_D                   0.227823\n",
       "REASON                   1.000000\n",
       "SUB1                          NaN\n",
       "SEDHPFLG                      NaN\n",
       "Name: REASON, dtype: float64"
      ]
     },
     "execution_count": 225,
     "metadata": {},
     "output_type": "execute_result"
    }
   ],
   "source": [
    "df_SUB1 = df2.loc[df2[\"SUB1\"] == 16]\n",
    "reason = df_SUB1['REASON']\n",
    "df_corr = df_SUB1.corr()\n",
    "df_corr.unstack().sort_values()\n",
    "variable = df_corr['REASON'].sort_values()\n",
    "variable.tail(13)"
   ]
  },
  {
   "cell_type": "code",
   "execution_count": null,
   "metadata": {},
   "outputs": [
    {
     "data": {
      "text/plain": [
       "CBSA2010                 0.067460\n",
       "FRSTUSE1                 0.084185\n",
       "LIVARAG_D                0.119976\n",
       "SUB2_D                   0.129021\n",
       "DIVISION                 0.133723\n",
       "EMPLOY_D                 0.142121\n",
       "REGION                   0.149285\n",
       "FREQ_ATND_SELF_HELP_D    0.167580\n",
       "FREQ1_D                  0.176687\n",
       "ARRESTS_D                0.197953\n",
       "REASON                   1.000000\n",
       "SUB1                          NaN\n",
       "TRNQFLG                       NaN\n",
       "INHFLG                        NaN\n",
       "Name: REASON, dtype: float64"
      ]
     },
     "execution_count": 226,
     "metadata": {},
     "output_type": "execute_result"
    }
   ],
   "source": [
    "df_SUB1 = df2.loc[df2[\"SUB1\"] == 17]\n",
    "reason = df_SUB1['REASON']\n",
    "df_corr = df_SUB1.corr()\n",
    "df_corr.unstack().sort_values()\n",
    "variable = df_corr['REASON'].sort_values()\n",
    "variable.tail(14)"
   ]
  },
  {
   "cell_type": "code",
   "execution_count": null,
   "metadata": {},
   "outputs": [
    {
     "data": {
      "text/plain": [
       "VET                      0.078158\n",
       "EMPLOY                   0.082749\n",
       "REGION                   0.084294\n",
       "METHUSE                  0.089722\n",
       "DIVISION                 0.090842\n",
       "SUB2_D                   0.127691\n",
       "EMPLOY_D                 0.136209\n",
       "FREQ1_D                  0.142479\n",
       "LIVARAG_D                0.159493\n",
       "FREQ_ATND_SELF_HELP_D    0.182544\n",
       "ARRESTS_D                0.196029\n",
       "REASON                   1.000000\n",
       "SUB1                          NaN\n",
       "OTCFLG                        NaN\n",
       "Name: REASON, dtype: float64"
      ]
     },
     "execution_count": 227,
     "metadata": {},
     "output_type": "execute_result"
    }
   ],
   "source": [
    "df_SUB1 = df2.loc[df2[\"SUB1\"] == 18]\n",
    "reason = df_SUB1['REASON']\n",
    "df_corr = df_SUB1.corr()\n",
    "df_corr.unstack().sort_values()\n",
    "variable = df_corr['REASON'].sort_values()\n",
    "variable.tail(14)"
   ]
  },
  {
   "cell_type": "code",
   "execution_count": null,
   "metadata": {},
   "outputs": [
    {
     "data": {
      "text/plain": [
       "MARSTAT                  0.149879\n",
       "FREQ_ATND_SELF_HELP_D    0.156407\n",
       "ARRESTS_D                0.159020\n",
       "ROUTE2                   0.165450\n",
       "FRSTUSE2                 0.165590\n",
       "FREQ2                    0.166065\n",
       "SUB3_D                   0.170281\n",
       "PRIMINC                  0.183598\n",
       "CBSA2010                 0.218143\n",
       "SUB2                     0.298081\n",
       "SUB2_D                   0.407922\n",
       "REASON                   1.000000\n",
       "SUB1                          NaN\n",
       "OTHERFLG                      NaN\n",
       "Name: REASON, dtype: float64"
      ]
     },
     "execution_count": 228,
     "metadata": {},
     "output_type": "execute_result"
    }
   ],
   "source": [
    "df_SUB1 = df2.loc[df2[\"SUB1\"] == 19]\n",
    "reason = df_SUB1['REASON']\n",
    "df_corr = df_SUB1.corr()\n",
    "df_corr.unstack().sort_values()\n",
    "variable = df_corr['REASON'].sort_values()\n",
    "variable.tail(14)"
   ]
  }
 ],
 "metadata": {
  "kernelspec": {
   "display_name": "dev",
   "language": "python",
   "name": "python3"
  },
  "language_info": {
   "codemirror_mode": {
    "name": "ipython",
    "version": 3
   },
   "file_extension": ".py",
   "mimetype": "text/x-python",
   "name": "python",
   "nbconvert_exporter": "python",
   "pygments_lexer": "ipython3",
   "version": "3.12.3"
  }
 },
 "nbformat": 4,
 "nbformat_minor": 2
}
