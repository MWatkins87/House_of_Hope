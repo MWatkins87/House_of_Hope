{
 "cells": [
  {
   "cell_type": "code",
   "execution_count": 2,
   "metadata": {},
   "outputs": [
    {
     "name": "stderr",
     "output_type": "stream",
     "text": [
      "/Users/beau/anaconda3/envs/dev/lib/python3.10/site-packages/pandas/core/arrays/masked.py:60: UserWarning: Pandas requires version '1.3.6' or newer of 'bottleneck' (version '1.3.5' currently installed).\n",
      "  from pandas.core import (\n",
      "2024-07-24 09:26:37.925294: I tensorflow/core/platform/cpu_feature_guard.cc:210] This TensorFlow binary is optimized to use available CPU instructions in performance-critical operations.\n",
      "To enable the following instructions: AVX2 FMA, in other operations, rebuild TensorFlow with the appropriate compiler flags.\n"
     ]
    },
    {
     "name": "stdout",
     "output_type": "stream",
     "text": [
      "All libraries imported successfully!\n"
     ]
    }
   ],
   "source": [
    "try:\n",
    "    import pandas as pd\n",
    "    import joblib\n",
    "    import matplotlib.pyplot as plt\n",
    "    %matplotlib inline\n",
    "    import numpy as np\n",
    "    import pandas as pd\n",
    "    import seaborn as sns\n",
    "    import numpy as np\n",
    "    from keras.models import Sequential\n",
    "    from keras.layers import Dense, Dropout\n",
    "    from keras.callbacks import EarlyStopping\n",
    "    from xgboost import XGBClassifier\n",
    "    from scipy import stats\n",
    "    from sklearn.cluster import KMeans\n",
    "    from sklearn.decomposition import PCA\n",
    "    from sklearn.datasets import make_regression, make_swiss_roll\n",
    "    from sklearn.ensemble import AdaBoostClassifier, ExtraTreesClassifier, GradientBoostingClassifier, RandomForestClassifier\n",
    "    from sklearn.model_selection import cross_val_score\n",
    "    from sklearn.model_selection import GridSearchCV\n",
    "    from sklearn.linear_model import LinearRegression, LogisticRegression\n",
    "    from sklearn.metrics import accuracy_score, classification_report, confusion_matrix\n",
    "    from sklearn.model_selection import train_test_split\n",
    "    from sklearn.neighbors import KNeighborsClassifier, KNeighborsRegressor\n",
    "    from sklearn.preprocessing import MinMaxScaler, StandardScaler\n",
    "    from sklearn.svm import SVC, SVR\n",
    "    from sklearn.tree import DecisionTreeClassifier\n",
    "\n",
    "    print('All libraries imported successfully!')\n",
    "except ImportError:\n",
    "    print('Some libraries failed to import.')"
   ]
  },
  {
   "cell_type": "code",
   "execution_count": 3,
   "metadata": {},
   "outputs": [
    {
     "data": {
      "text/html": [
       "<div>\n",
       "<style scoped>\n",
       "    .dataframe tbody tr th:only-of-type {\n",
       "        vertical-align: middle;\n",
       "    }\n",
       "\n",
       "    .dataframe tbody tr th {\n",
       "        vertical-align: top;\n",
       "    }\n",
       "\n",
       "    .dataframe thead th {\n",
       "        text-align: right;\n",
       "    }\n",
       "</style>\n",
       "<table border=\"1\" class=\"dataframe\">\n",
       "  <thead>\n",
       "    <tr style=\"text-align: right;\">\n",
       "      <th></th>\n",
       "      <th>EDUC</th>\n",
       "      <th>MARSTAT</th>\n",
       "      <th>SERVICES</th>\n",
       "      <th>LOS</th>\n",
       "      <th>PSOURCE</th>\n",
       "      <th>NOPRIOR</th>\n",
       "      <th>ARRESTS</th>\n",
       "      <th>EMPLOY</th>\n",
       "      <th>METHUSE</th>\n",
       "      <th>PSYPROB</th>\n",
       "      <th>...</th>\n",
       "      <th>TRNQFLG</th>\n",
       "      <th>BARBFLG</th>\n",
       "      <th>SEDHPFLG</th>\n",
       "      <th>INHFLG</th>\n",
       "      <th>OTCFLG</th>\n",
       "      <th>OTHERFLG</th>\n",
       "      <th>DIVISION</th>\n",
       "      <th>REGION</th>\n",
       "      <th>IDU</th>\n",
       "      <th>ALCDRUG</th>\n",
       "    </tr>\n",
       "  </thead>\n",
       "  <tbody>\n",
       "    <tr>\n",
       "      <th>0</th>\n",
       "      <td>3</td>\n",
       "      <td>1</td>\n",
       "      <td>7</td>\n",
       "      <td>7</td>\n",
       "      <td>6</td>\n",
       "      <td>1</td>\n",
       "      <td>0</td>\n",
       "      <td>2</td>\n",
       "      <td>2</td>\n",
       "      <td>1</td>\n",
       "      <td>...</td>\n",
       "      <td>0</td>\n",
       "      <td>0</td>\n",
       "      <td>0</td>\n",
       "      <td>0</td>\n",
       "      <td>0</td>\n",
       "      <td>0</td>\n",
       "      <td>9</td>\n",
       "      <td>4</td>\n",
       "      <td>0</td>\n",
       "      <td>1</td>\n",
       "    </tr>\n",
       "    <tr>\n",
       "      <th>1</th>\n",
       "      <td>3</td>\n",
       "      <td>4</td>\n",
       "      <td>7</td>\n",
       "      <td>8</td>\n",
       "      <td>1</td>\n",
       "      <td>1</td>\n",
       "      <td>0</td>\n",
       "      <td>2</td>\n",
       "      <td>2</td>\n",
       "      <td>1</td>\n",
       "      <td>...</td>\n",
       "      <td>0</td>\n",
       "      <td>0</td>\n",
       "      <td>0</td>\n",
       "      <td>0</td>\n",
       "      <td>0</td>\n",
       "      <td>1</td>\n",
       "      <td>9</td>\n",
       "      <td>4</td>\n",
       "      <td>0</td>\n",
       "      <td>3</td>\n",
       "    </tr>\n",
       "    <tr>\n",
       "      <th>2</th>\n",
       "      <td>3</td>\n",
       "      <td>4</td>\n",
       "      <td>7</td>\n",
       "      <td>7</td>\n",
       "      <td>3</td>\n",
       "      <td>1</td>\n",
       "      <td>0</td>\n",
       "      <td>1</td>\n",
       "      <td>2</td>\n",
       "      <td>2</td>\n",
       "      <td>...</td>\n",
       "      <td>0</td>\n",
       "      <td>0</td>\n",
       "      <td>0</td>\n",
       "      <td>0</td>\n",
       "      <td>0</td>\n",
       "      <td>0</td>\n",
       "      <td>9</td>\n",
       "      <td>4</td>\n",
       "      <td>0</td>\n",
       "      <td>2</td>\n",
       "    </tr>\n",
       "    <tr>\n",
       "      <th>3</th>\n",
       "      <td>5</td>\n",
       "      <td>1</td>\n",
       "      <td>7</td>\n",
       "      <td>4</td>\n",
       "      <td>7</td>\n",
       "      <td>0</td>\n",
       "      <td>0</td>\n",
       "      <td>1</td>\n",
       "      <td>2</td>\n",
       "      <td>2</td>\n",
       "      <td>...</td>\n",
       "      <td>0</td>\n",
       "      <td>0</td>\n",
       "      <td>0</td>\n",
       "      <td>0</td>\n",
       "      <td>0</td>\n",
       "      <td>0</td>\n",
       "      <td>9</td>\n",
       "      <td>4</td>\n",
       "      <td>0</td>\n",
       "      <td>1</td>\n",
       "    </tr>\n",
       "    <tr>\n",
       "      <th>4</th>\n",
       "      <td>3</td>\n",
       "      <td>4</td>\n",
       "      <td>7</td>\n",
       "      <td>3</td>\n",
       "      <td>7</td>\n",
       "      <td>1</td>\n",
       "      <td>1</td>\n",
       "      <td>4</td>\n",
       "      <td>2</td>\n",
       "      <td>1</td>\n",
       "      <td>...</td>\n",
       "      <td>0</td>\n",
       "      <td>0</td>\n",
       "      <td>0</td>\n",
       "      <td>0</td>\n",
       "      <td>0</td>\n",
       "      <td>0</td>\n",
       "      <td>9</td>\n",
       "      <td>4</td>\n",
       "      <td>0</td>\n",
       "      <td>3</td>\n",
       "    </tr>\n",
       "    <tr>\n",
       "      <th>...</th>\n",
       "      <td>...</td>\n",
       "      <td>...</td>\n",
       "      <td>...</td>\n",
       "      <td>...</td>\n",
       "      <td>...</td>\n",
       "      <td>...</td>\n",
       "      <td>...</td>\n",
       "      <td>...</td>\n",
       "      <td>...</td>\n",
       "      <td>...</td>\n",
       "      <td>...</td>\n",
       "      <td>...</td>\n",
       "      <td>...</td>\n",
       "      <td>...</td>\n",
       "      <td>...</td>\n",
       "      <td>...</td>\n",
       "      <td>...</td>\n",
       "      <td>...</td>\n",
       "      <td>...</td>\n",
       "      <td>...</td>\n",
       "      <td>...</td>\n",
       "    </tr>\n",
       "    <tr>\n",
       "      <th>2614991</th>\n",
       "      <td>5</td>\n",
       "      <td>1</td>\n",
       "      <td>7</td>\n",
       "      <td>2</td>\n",
       "      <td>3</td>\n",
       "      <td>1</td>\n",
       "      <td>0</td>\n",
       "      <td>3</td>\n",
       "      <td>1</td>\n",
       "      <td>2</td>\n",
       "      <td>...</td>\n",
       "      <td>0</td>\n",
       "      <td>0</td>\n",
       "      <td>0</td>\n",
       "      <td>0</td>\n",
       "      <td>0</td>\n",
       "      <td>0</td>\n",
       "      <td>5</td>\n",
       "      <td>3</td>\n",
       "      <td>1</td>\n",
       "      <td>3</td>\n",
       "    </tr>\n",
       "    <tr>\n",
       "      <th>2614992</th>\n",
       "      <td>5</td>\n",
       "      <td>1</td>\n",
       "      <td>7</td>\n",
       "      <td>1</td>\n",
       "      <td>3</td>\n",
       "      <td>1</td>\n",
       "      <td>0</td>\n",
       "      <td>3</td>\n",
       "      <td>2</td>\n",
       "      <td>2</td>\n",
       "      <td>...</td>\n",
       "      <td>0</td>\n",
       "      <td>0</td>\n",
       "      <td>0</td>\n",
       "      <td>0</td>\n",
       "      <td>0</td>\n",
       "      <td>0</td>\n",
       "      <td>5</td>\n",
       "      <td>3</td>\n",
       "      <td>1</td>\n",
       "      <td>3</td>\n",
       "    </tr>\n",
       "    <tr>\n",
       "      <th>2614993</th>\n",
       "      <td>5</td>\n",
       "      <td>1</td>\n",
       "      <td>7</td>\n",
       "      <td>1</td>\n",
       "      <td>3</td>\n",
       "      <td>1</td>\n",
       "      <td>0</td>\n",
       "      <td>3</td>\n",
       "      <td>1</td>\n",
       "      <td>2</td>\n",
       "      <td>...</td>\n",
       "      <td>0</td>\n",
       "      <td>0</td>\n",
       "      <td>0</td>\n",
       "      <td>0</td>\n",
       "      <td>0</td>\n",
       "      <td>0</td>\n",
       "      <td>5</td>\n",
       "      <td>3</td>\n",
       "      <td>1</td>\n",
       "      <td>3</td>\n",
       "    </tr>\n",
       "    <tr>\n",
       "      <th>2614994</th>\n",
       "      <td>5</td>\n",
       "      <td>1</td>\n",
       "      <td>7</td>\n",
       "      <td>1</td>\n",
       "      <td>3</td>\n",
       "      <td>1</td>\n",
       "      <td>0</td>\n",
       "      <td>3</td>\n",
       "      <td>1</td>\n",
       "      <td>2</td>\n",
       "      <td>...</td>\n",
       "      <td>0</td>\n",
       "      <td>0</td>\n",
       "      <td>0</td>\n",
       "      <td>0</td>\n",
       "      <td>0</td>\n",
       "      <td>0</td>\n",
       "      <td>5</td>\n",
       "      <td>3</td>\n",
       "      <td>1</td>\n",
       "      <td>3</td>\n",
       "    </tr>\n",
       "    <tr>\n",
       "      <th>2614995</th>\n",
       "      <td>5</td>\n",
       "      <td>1</td>\n",
       "      <td>7</td>\n",
       "      <td>1</td>\n",
       "      <td>3</td>\n",
       "      <td>1</td>\n",
       "      <td>0</td>\n",
       "      <td>3</td>\n",
       "      <td>1</td>\n",
       "      <td>2</td>\n",
       "      <td>...</td>\n",
       "      <td>0</td>\n",
       "      <td>0</td>\n",
       "      <td>0</td>\n",
       "      <td>0</td>\n",
       "      <td>0</td>\n",
       "      <td>0</td>\n",
       "      <td>5</td>\n",
       "      <td>3</td>\n",
       "      <td>1</td>\n",
       "      <td>3</td>\n",
       "    </tr>\n",
       "  </tbody>\n",
       "</table>\n",
       "<p>2614996 rows × 69 columns</p>\n",
       "</div>"
      ],
      "text/plain": [
       "         EDUC  MARSTAT  SERVICES  LOS  PSOURCE  NOPRIOR  ARRESTS  EMPLOY  \\\n",
       "0           3        1         7    7        6        1        0       2   \n",
       "1           3        4         7    8        1        1        0       2   \n",
       "2           3        4         7    7        3        1        0       1   \n",
       "3           5        1         7    4        7        0        0       1   \n",
       "4           3        4         7    3        7        1        1       4   \n",
       "...       ...      ...       ...  ...      ...      ...      ...     ...   \n",
       "2614991     5        1         7    2        3        1        0       3   \n",
       "2614992     5        1         7    1        3        1        0       3   \n",
       "2614993     5        1         7    1        3        1        0       3   \n",
       "2614994     5        1         7    1        3        1        0       3   \n",
       "2614995     5        1         7    1        3        1        0       3   \n",
       "\n",
       "         METHUSE  PSYPROB  ...  TRNQFLG  BARBFLG  SEDHPFLG  INHFLG  OTCFLG  \\\n",
       "0              2        1  ...        0        0         0       0       0   \n",
       "1              2        1  ...        0        0         0       0       0   \n",
       "2              2        2  ...        0        0         0       0       0   \n",
       "3              2        2  ...        0        0         0       0       0   \n",
       "4              2        1  ...        0        0         0       0       0   \n",
       "...          ...      ...  ...      ...      ...       ...     ...     ...   \n",
       "2614991        1        2  ...        0        0         0       0       0   \n",
       "2614992        2        2  ...        0        0         0       0       0   \n",
       "2614993        1        2  ...        0        0         0       0       0   \n",
       "2614994        1        2  ...        0        0         0       0       0   \n",
       "2614995        1        2  ...        0        0         0       0       0   \n",
       "\n",
       "         OTHERFLG  DIVISION  REGION  IDU  ALCDRUG  \n",
       "0               0         9       4    0        1  \n",
       "1               1         9       4    0        3  \n",
       "2               0         9       4    0        2  \n",
       "3               0         9       4    0        1  \n",
       "4               0         9       4    0        3  \n",
       "...           ...       ...     ...  ...      ...  \n",
       "2614991         0         5       3    1        3  \n",
       "2614992         0         5       3    1        3  \n",
       "2614993         0         5       3    1        3  \n",
       "2614994         0         5       3    1        3  \n",
       "2614995         0         5       3    1        3  \n",
       "\n",
       "[2614996 rows x 69 columns]"
      ]
     },
     "execution_count": 3,
     "metadata": {},
     "output_type": "execute_result"
    }
   ],
   "source": [
    "# Load the dataset\n",
    "data = pd.read_csv('/Users/beau/Desktop/house_of_hope/clean_df.csv')\n",
    "data"
   ]
  },
  {
   "cell_type": "code",
   "execution_count": 4,
   "metadata": {},
   "outputs": [],
   "source": [
    "# what columns have -9 values?\n",
    "data.columns[data.isin([-9]).any()].tolist() # This line of code will return the columns that have -9 values\n",
    "\n",
    "# if the column has -9 values, display the column name and the number of -9 values\n",
    "for col in data.columns: # This loop will iterate through the columns\n",
    "    if data[col].isin([-9]).any(): # This condition will check if the column has -9 values\n",
    "        print(f'{col}: {data[col].isin([-9]).sum()}') # This line of code will display the column name and the number of -9 values"
   ]
  },
  {
   "cell_type": "code",
   "execution_count": 6,
   "metadata": {},
   "outputs": [
    {
     "data": {
      "text/plain": [
       "0          2\n",
       "1          2\n",
       "2          4\n",
       "3          3\n",
       "4          2\n",
       "          ..\n",
       "2614991    4\n",
       "2614992    4\n",
       "2614993    4\n",
       "2614994    4\n",
       "2614995    4\n",
       "Name: HLTHINS, Length: 2614996, dtype: int64"
      ]
     },
     "execution_count": 6,
     "metadata": {},
     "output_type": "execute_result"
    }
   ],
   "source": [
    "# Display the HLTHINS column\n",
    "data['HLTHINS']"
   ]
  },
  {
   "cell_type": "code",
   "execution_count": 7,
   "metadata": {},
   "outputs": [
    {
     "data": {
      "text/html": [
       "<div>\n",
       "<style scoped>\n",
       "    .dataframe tbody tr th:only-of-type {\n",
       "        vertical-align: middle;\n",
       "    }\n",
       "\n",
       "    .dataframe tbody tr th {\n",
       "        vertical-align: top;\n",
       "    }\n",
       "\n",
       "    .dataframe thead th {\n",
       "        text-align: right;\n",
       "    }\n",
       "</style>\n",
       "<table border=\"1\" class=\"dataframe\">\n",
       "  <thead>\n",
       "    <tr style=\"text-align: right;\">\n",
       "      <th></th>\n",
       "      <th>EDUC</th>\n",
       "      <th>MARSTAT</th>\n",
       "      <th>SERVICES</th>\n",
       "      <th>LOS</th>\n",
       "      <th>PSOURCE</th>\n",
       "      <th>NOPRIOR</th>\n",
       "      <th>ARRESTS</th>\n",
       "      <th>EMPLOY</th>\n",
       "      <th>METHUSE</th>\n",
       "      <th>PSYPROB</th>\n",
       "      <th>...</th>\n",
       "      <th>TRNQFLG</th>\n",
       "      <th>BARBFLG</th>\n",
       "      <th>SEDHPFLG</th>\n",
       "      <th>INHFLG</th>\n",
       "      <th>OTCFLG</th>\n",
       "      <th>OTHERFLG</th>\n",
       "      <th>DIVISION</th>\n",
       "      <th>REGION</th>\n",
       "      <th>IDU</th>\n",
       "      <th>ALCDRUG</th>\n",
       "    </tr>\n",
       "  </thead>\n",
       "  <tbody>\n",
       "  </tbody>\n",
       "</table>\n",
       "<p>0 rows × 69 columns</p>\n",
       "</div>"
      ],
      "text/plain": [
       "Empty DataFrame\n",
       "Columns: [EDUC, MARSTAT, SERVICES, LOS, PSOURCE, NOPRIOR, ARRESTS, EMPLOY, METHUSE, PSYPROB, PREG, GENDER, VET, LIVARAG, DAYWAIT, SERVICES_D, REASON, EMPLOY_D, LIVARAG_D, ARRESTS_D, DSMCRIT, AGE, RACE, ETHNIC, PRIMINC, SUB1, SUB2, SUB3, SUB1_D, SUB2_D, SUB3_D, ROUTE1, ROUTE2, ROUTE3, FREQ1, FREQ2, FREQ3, FREQ1_D, FREQ2_D, FREQ3_D, FRSTUSE1, FRSTUSE2, FRSTUSE3, HLTHINS, PRIMPAY, FREQ_ATND_SELF_HELP, FREQ_ATND_SELF_HELP_D, ALCFLG, COKEFLG, MARFLG, HERFLG, METHFLG, OPSYNFLG, PCPFLG, HALLFLG, MTHAMFLG, AMPHFLG, STIMFLG, BENZFLG, TRNQFLG, BARBFLG, SEDHPFLG, INHFLG, OTCFLG, OTHERFLG, DIVISION, REGION, IDU, ALCDRUG]\n",
       "Index: []\n",
       "\n",
       "[0 rows x 69 columns]"
      ]
     },
     "metadata": {},
     "output_type": "display_data"
    }
   ],
   "source": [
    "# Show the rows with the -9 values in the HLTHINS column\n",
    "display(data[data['HLTHINS'] == -9]) # This line of code will display the rows with -9 values in the HLTHINS column"
   ]
  },
  {
   "cell_type": "code",
   "execution_count": 8,
   "metadata": {},
   "outputs": [],
   "source": [
    "# In the HLTHINS column, replace all -9 values with 4\n",
    "data['HLTHINS'] = data['HLTHINS'].replace(-9, 4) # This line of code will replace all -9 values with 4 in the HLTHINS column"
   ]
  },
  {
   "cell_type": "code",
   "execution_count": 9,
   "metadata": {},
   "outputs": [
    {
     "name": "stdout",
     "output_type": "stream",
     "text": [
      "No -9 values found\n"
     ]
    }
   ],
   "source": [
    "# Check to see if the HLTHINS column still has -9 values. If it does, display the column name and the number of -9 values, if not, display 'No -9 values found'\n",
    "if data['HLTHINS'].isin([-9]).any(): # This condition will check if the HLTHINS column has -9 values\n",
    "    print(f'HLTHINS: {data[\"HLTHINS\"].isin([-9]).sum()}') # This line of code will display the column name and the number of -9 values\n",
    "else:\n",
    "    print('No -9 values found') # This line of code will display 'No -9 values found'\n"
   ]
  },
  {
   "cell_type": "code",
   "execution_count": 10,
   "metadata": {},
   "outputs": [],
   "source": [
    "# Create a copy of the dataset with -9 values in the HLTHINS column replaced with 4\n",
    "df1 = data.copy() # This line of code will create a copy of the dataset with -9 values in the HLTHINS column replaced with 4"
   ]
  },
  {
   "cell_type": "code",
   "execution_count": 11,
   "metadata": {},
   "outputs": [
    {
     "data": {
      "text/html": [
       "<div>\n",
       "<style scoped>\n",
       "    .dataframe tbody tr th:only-of-type {\n",
       "        vertical-align: middle;\n",
       "    }\n",
       "\n",
       "    .dataframe tbody tr th {\n",
       "        vertical-align: top;\n",
       "    }\n",
       "\n",
       "    .dataframe thead th {\n",
       "        text-align: right;\n",
       "    }\n",
       "</style>\n",
       "<table border=\"1\" class=\"dataframe\">\n",
       "  <thead>\n",
       "    <tr style=\"text-align: right;\">\n",
       "      <th></th>\n",
       "      <th>EDUC</th>\n",
       "      <th>MARSTAT</th>\n",
       "      <th>SERVICES</th>\n",
       "      <th>LOS</th>\n",
       "      <th>PSOURCE</th>\n",
       "      <th>NOPRIOR</th>\n",
       "      <th>ARRESTS</th>\n",
       "      <th>EMPLOY</th>\n",
       "      <th>METHUSE</th>\n",
       "      <th>PSYPROB</th>\n",
       "      <th>...</th>\n",
       "      <th>TRNQFLG</th>\n",
       "      <th>BARBFLG</th>\n",
       "      <th>SEDHPFLG</th>\n",
       "      <th>INHFLG</th>\n",
       "      <th>OTCFLG</th>\n",
       "      <th>OTHERFLG</th>\n",
       "      <th>DIVISION</th>\n",
       "      <th>REGION</th>\n",
       "      <th>IDU</th>\n",
       "      <th>ALCDRUG</th>\n",
       "    </tr>\n",
       "  </thead>\n",
       "  <tbody>\n",
       "    <tr>\n",
       "      <th>0</th>\n",
       "      <td>3</td>\n",
       "      <td>1</td>\n",
       "      <td>7</td>\n",
       "      <td>7</td>\n",
       "      <td>6</td>\n",
       "      <td>1</td>\n",
       "      <td>0</td>\n",
       "      <td>2</td>\n",
       "      <td>2</td>\n",
       "      <td>1</td>\n",
       "      <td>...</td>\n",
       "      <td>0</td>\n",
       "      <td>0</td>\n",
       "      <td>0</td>\n",
       "      <td>0</td>\n",
       "      <td>0</td>\n",
       "      <td>0</td>\n",
       "      <td>9</td>\n",
       "      <td>4</td>\n",
       "      <td>0</td>\n",
       "      <td>1</td>\n",
       "    </tr>\n",
       "    <tr>\n",
       "      <th>1</th>\n",
       "      <td>3</td>\n",
       "      <td>4</td>\n",
       "      <td>7</td>\n",
       "      <td>8</td>\n",
       "      <td>1</td>\n",
       "      <td>1</td>\n",
       "      <td>0</td>\n",
       "      <td>2</td>\n",
       "      <td>2</td>\n",
       "      <td>1</td>\n",
       "      <td>...</td>\n",
       "      <td>0</td>\n",
       "      <td>0</td>\n",
       "      <td>0</td>\n",
       "      <td>0</td>\n",
       "      <td>0</td>\n",
       "      <td>1</td>\n",
       "      <td>9</td>\n",
       "      <td>4</td>\n",
       "      <td>0</td>\n",
       "      <td>3</td>\n",
       "    </tr>\n",
       "    <tr>\n",
       "      <th>2</th>\n",
       "      <td>3</td>\n",
       "      <td>4</td>\n",
       "      <td>7</td>\n",
       "      <td>7</td>\n",
       "      <td>3</td>\n",
       "      <td>1</td>\n",
       "      <td>0</td>\n",
       "      <td>1</td>\n",
       "      <td>2</td>\n",
       "      <td>2</td>\n",
       "      <td>...</td>\n",
       "      <td>0</td>\n",
       "      <td>0</td>\n",
       "      <td>0</td>\n",
       "      <td>0</td>\n",
       "      <td>0</td>\n",
       "      <td>0</td>\n",
       "      <td>9</td>\n",
       "      <td>4</td>\n",
       "      <td>0</td>\n",
       "      <td>2</td>\n",
       "    </tr>\n",
       "    <tr>\n",
       "      <th>3</th>\n",
       "      <td>5</td>\n",
       "      <td>1</td>\n",
       "      <td>7</td>\n",
       "      <td>4</td>\n",
       "      <td>7</td>\n",
       "      <td>0</td>\n",
       "      <td>0</td>\n",
       "      <td>1</td>\n",
       "      <td>2</td>\n",
       "      <td>2</td>\n",
       "      <td>...</td>\n",
       "      <td>0</td>\n",
       "      <td>0</td>\n",
       "      <td>0</td>\n",
       "      <td>0</td>\n",
       "      <td>0</td>\n",
       "      <td>0</td>\n",
       "      <td>9</td>\n",
       "      <td>4</td>\n",
       "      <td>0</td>\n",
       "      <td>1</td>\n",
       "    </tr>\n",
       "    <tr>\n",
       "      <th>4</th>\n",
       "      <td>3</td>\n",
       "      <td>4</td>\n",
       "      <td>7</td>\n",
       "      <td>3</td>\n",
       "      <td>7</td>\n",
       "      <td>1</td>\n",
       "      <td>1</td>\n",
       "      <td>4</td>\n",
       "      <td>2</td>\n",
       "      <td>1</td>\n",
       "      <td>...</td>\n",
       "      <td>0</td>\n",
       "      <td>0</td>\n",
       "      <td>0</td>\n",
       "      <td>0</td>\n",
       "      <td>0</td>\n",
       "      <td>0</td>\n",
       "      <td>9</td>\n",
       "      <td>4</td>\n",
       "      <td>0</td>\n",
       "      <td>3</td>\n",
       "    </tr>\n",
       "    <tr>\n",
       "      <th>...</th>\n",
       "      <td>...</td>\n",
       "      <td>...</td>\n",
       "      <td>...</td>\n",
       "      <td>...</td>\n",
       "      <td>...</td>\n",
       "      <td>...</td>\n",
       "      <td>...</td>\n",
       "      <td>...</td>\n",
       "      <td>...</td>\n",
       "      <td>...</td>\n",
       "      <td>...</td>\n",
       "      <td>...</td>\n",
       "      <td>...</td>\n",
       "      <td>...</td>\n",
       "      <td>...</td>\n",
       "      <td>...</td>\n",
       "      <td>...</td>\n",
       "      <td>...</td>\n",
       "      <td>...</td>\n",
       "      <td>...</td>\n",
       "      <td>...</td>\n",
       "    </tr>\n",
       "    <tr>\n",
       "      <th>2614991</th>\n",
       "      <td>5</td>\n",
       "      <td>1</td>\n",
       "      <td>7</td>\n",
       "      <td>2</td>\n",
       "      <td>3</td>\n",
       "      <td>1</td>\n",
       "      <td>0</td>\n",
       "      <td>3</td>\n",
       "      <td>1</td>\n",
       "      <td>2</td>\n",
       "      <td>...</td>\n",
       "      <td>0</td>\n",
       "      <td>0</td>\n",
       "      <td>0</td>\n",
       "      <td>0</td>\n",
       "      <td>0</td>\n",
       "      <td>0</td>\n",
       "      <td>5</td>\n",
       "      <td>3</td>\n",
       "      <td>1</td>\n",
       "      <td>3</td>\n",
       "    </tr>\n",
       "    <tr>\n",
       "      <th>2614992</th>\n",
       "      <td>5</td>\n",
       "      <td>1</td>\n",
       "      <td>7</td>\n",
       "      <td>1</td>\n",
       "      <td>3</td>\n",
       "      <td>1</td>\n",
       "      <td>0</td>\n",
       "      <td>3</td>\n",
       "      <td>2</td>\n",
       "      <td>2</td>\n",
       "      <td>...</td>\n",
       "      <td>0</td>\n",
       "      <td>0</td>\n",
       "      <td>0</td>\n",
       "      <td>0</td>\n",
       "      <td>0</td>\n",
       "      <td>0</td>\n",
       "      <td>5</td>\n",
       "      <td>3</td>\n",
       "      <td>1</td>\n",
       "      <td>3</td>\n",
       "    </tr>\n",
       "    <tr>\n",
       "      <th>2614993</th>\n",
       "      <td>5</td>\n",
       "      <td>1</td>\n",
       "      <td>7</td>\n",
       "      <td>1</td>\n",
       "      <td>3</td>\n",
       "      <td>1</td>\n",
       "      <td>0</td>\n",
       "      <td>3</td>\n",
       "      <td>1</td>\n",
       "      <td>2</td>\n",
       "      <td>...</td>\n",
       "      <td>0</td>\n",
       "      <td>0</td>\n",
       "      <td>0</td>\n",
       "      <td>0</td>\n",
       "      <td>0</td>\n",
       "      <td>0</td>\n",
       "      <td>5</td>\n",
       "      <td>3</td>\n",
       "      <td>1</td>\n",
       "      <td>3</td>\n",
       "    </tr>\n",
       "    <tr>\n",
       "      <th>2614994</th>\n",
       "      <td>5</td>\n",
       "      <td>1</td>\n",
       "      <td>7</td>\n",
       "      <td>1</td>\n",
       "      <td>3</td>\n",
       "      <td>1</td>\n",
       "      <td>0</td>\n",
       "      <td>3</td>\n",
       "      <td>1</td>\n",
       "      <td>2</td>\n",
       "      <td>...</td>\n",
       "      <td>0</td>\n",
       "      <td>0</td>\n",
       "      <td>0</td>\n",
       "      <td>0</td>\n",
       "      <td>0</td>\n",
       "      <td>0</td>\n",
       "      <td>5</td>\n",
       "      <td>3</td>\n",
       "      <td>1</td>\n",
       "      <td>3</td>\n",
       "    </tr>\n",
       "    <tr>\n",
       "      <th>2614995</th>\n",
       "      <td>5</td>\n",
       "      <td>1</td>\n",
       "      <td>7</td>\n",
       "      <td>1</td>\n",
       "      <td>3</td>\n",
       "      <td>1</td>\n",
       "      <td>0</td>\n",
       "      <td>3</td>\n",
       "      <td>1</td>\n",
       "      <td>2</td>\n",
       "      <td>...</td>\n",
       "      <td>0</td>\n",
       "      <td>0</td>\n",
       "      <td>0</td>\n",
       "      <td>0</td>\n",
       "      <td>0</td>\n",
       "      <td>0</td>\n",
       "      <td>5</td>\n",
       "      <td>3</td>\n",
       "      <td>1</td>\n",
       "      <td>3</td>\n",
       "    </tr>\n",
       "  </tbody>\n",
       "</table>\n",
       "<p>2614996 rows × 69 columns</p>\n",
       "</div>"
      ],
      "text/plain": [
       "         EDUC  MARSTAT  SERVICES  LOS  PSOURCE  NOPRIOR  ARRESTS  EMPLOY  \\\n",
       "0           3        1         7    7        6        1        0       2   \n",
       "1           3        4         7    8        1        1        0       2   \n",
       "2           3        4         7    7        3        1        0       1   \n",
       "3           5        1         7    4        7        0        0       1   \n",
       "4           3        4         7    3        7        1        1       4   \n",
       "...       ...      ...       ...  ...      ...      ...      ...     ...   \n",
       "2614991     5        1         7    2        3        1        0       3   \n",
       "2614992     5        1         7    1        3        1        0       3   \n",
       "2614993     5        1         7    1        3        1        0       3   \n",
       "2614994     5        1         7    1        3        1        0       3   \n",
       "2614995     5        1         7    1        3        1        0       3   \n",
       "\n",
       "         METHUSE  PSYPROB  ...  TRNQFLG  BARBFLG  SEDHPFLG  INHFLG  OTCFLG  \\\n",
       "0              2        1  ...        0        0         0       0       0   \n",
       "1              2        1  ...        0        0         0       0       0   \n",
       "2              2        2  ...        0        0         0       0       0   \n",
       "3              2        2  ...        0        0         0       0       0   \n",
       "4              2        1  ...        0        0         0       0       0   \n",
       "...          ...      ...  ...      ...      ...       ...     ...     ...   \n",
       "2614991        1        2  ...        0        0         0       0       0   \n",
       "2614992        2        2  ...        0        0         0       0       0   \n",
       "2614993        1        2  ...        0        0         0       0       0   \n",
       "2614994        1        2  ...        0        0         0       0       0   \n",
       "2614995        1        2  ...        0        0         0       0       0   \n",
       "\n",
       "         OTHERFLG  DIVISION  REGION  IDU  ALCDRUG  \n",
       "0               0         9       4    0        1  \n",
       "1               1         9       4    0        3  \n",
       "2               0         9       4    0        2  \n",
       "3               0         9       4    0        1  \n",
       "4               0         9       4    0        3  \n",
       "...           ...       ...     ...  ...      ...  \n",
       "2614991         0         5       3    1        3  \n",
       "2614992         0         5       3    1        3  \n",
       "2614993         0         5       3    1        3  \n",
       "2614994         0         5       3    1        3  \n",
       "2614995         0         5       3    1        3  \n",
       "\n",
       "[2614996 rows x 69 columns]"
      ]
     },
     "execution_count": 11,
     "metadata": {},
     "output_type": "execute_result"
    }
   ],
   "source": [
    "df1 # This line of code will display the new dataset"
   ]
  },
  {
   "cell_type": "code",
   "execution_count": 12,
   "metadata": {},
   "outputs": [
    {
     "name": "stdout",
     "output_type": "stream",
     "text": [
      "No -9 values found\n",
      "No -9 values found\n",
      "No -9 values found\n",
      "No -9 values found\n",
      "No -9 values found\n",
      "No -9 values found\n",
      "No -9 values found\n",
      "No -9 values found\n",
      "No -9 values found\n",
      "No -9 values found\n",
      "No -9 values found\n",
      "No -9 values found\n",
      "No -9 values found\n",
      "No -9 values found\n",
      "No -9 values found\n",
      "No -9 values found\n",
      "No -9 values found\n",
      "No -9 values found\n",
      "No -9 values found\n",
      "No -9 values found\n",
      "No -9 values found\n",
      "No -9 values found\n",
      "No -9 values found\n",
      "No -9 values found\n",
      "No -9 values found\n",
      "No -9 values found\n",
      "No -9 values found\n",
      "No -9 values found\n",
      "No -9 values found\n",
      "No -9 values found\n",
      "No -9 values found\n",
      "No -9 values found\n",
      "No -9 values found\n",
      "No -9 values found\n",
      "No -9 values found\n",
      "No -9 values found\n",
      "No -9 values found\n",
      "No -9 values found\n",
      "No -9 values found\n",
      "No -9 values found\n",
      "No -9 values found\n",
      "No -9 values found\n",
      "No -9 values found\n",
      "No -9 values found\n",
      "No -9 values found\n",
      "No -9 values found\n",
      "No -9 values found\n",
      "No -9 values found\n",
      "No -9 values found\n",
      "No -9 values found\n",
      "No -9 values found\n",
      "No -9 values found\n",
      "No -9 values found\n",
      "No -9 values found\n",
      "No -9 values found\n",
      "No -9 values found\n",
      "No -9 values found\n",
      "No -9 values found\n",
      "No -9 values found\n",
      "No -9 values found\n",
      "No -9 values found\n",
      "No -9 values found\n",
      "No -9 values found\n",
      "No -9 values found\n",
      "No -9 values found\n",
      "No -9 values found\n",
      "No -9 values found\n",
      "No -9 values found\n",
      "No -9 values found\n"
     ]
    }
   ],
   "source": [
    "# Are there any columns with -9 values. If the column has -9 values, display the column name, if not, display 'No -9 values found'\n",
    "for col in df1.columns: # This loop will iterate through the columns\n",
    "    if df1[col].isin([-9]).any(): # This condition will check if the column has -9 values\n",
    "        print(f'{col}') # This line of code will display the column name\n",
    "    else:\n",
    "        print('No -9 values found') # This line of code will display 'No -9 values found'"
   ]
  },
  {
   "cell_type": "markdown",
   "metadata": {},
   "source": [
    "## Filters and Correlation"
   ]
  },
  {
   "cell_type": "markdown",
   "metadata": {},
   "source": [
    "### FREQ1: Frequency of use at admission (primary)\n",
    "Specifies the frequency of use of the corresponding substance identified in Substance Use (SUB1) at admission.\n",
    "\n",
    "1 = No use in the past month\n",
    "\n",
    "2 = Some use\n",
    "\n",
    "3 = Daily use"
   ]
  },
  {
   "cell_type": "code",
   "execution_count": 13,
   "metadata": {},
   "outputs": [],
   "source": [
    "df_no_use_past_month = df1.loc[df1[\"FREQ1\"] == 1]\n",
    "reason = df_no_use_past_month[\"REASON\"]"
   ]
  },
  {
   "cell_type": "code",
   "execution_count": 15,
   "metadata": {},
   "outputs": [
    {
     "data": {
      "text/plain": [
       "SUB1_D                   0.054761\n",
       "EMPLOY_D                 0.060613\n",
       "SUB2                     0.067987\n",
       "SUB2_D                   0.075338\n",
       "METHUSE                  0.080042\n",
       "PRIMPAY                  0.086728\n",
       "PSYPROB                  0.105745\n",
       "FREQ_ATND_SELF_HELP_D    0.118209\n",
       "DIVISION                 0.193650\n",
       "REGION                   0.204888\n",
       "REASON                   1.000000\n",
       "FREQ1                         NaN\n",
       "Name: REASON, dtype: float64"
      ]
     },
     "execution_count": 15,
     "metadata": {},
     "output_type": "execute_result"
    }
   ],
   "source": [
    "df_corr = df_no_use_past_month.corr()\n",
    "df_corr.unstack().sort_values()\n",
    "variable = df_corr[\"REASON\"].sort_values()\n",
    "variable.tail(12)"
   ]
  },
  {
   "cell_type": "code",
   "execution_count": 17,
   "metadata": {},
   "outputs": [
    {
     "data": {
      "text/plain": [
       "REASON\n",
       "1    445189\n",
       "0    267133\n",
       "Name: count, dtype: int64"
      ]
     },
     "execution_count": 17,
     "metadata": {},
     "output_type": "execute_result"
    }
   ],
   "source": [
    "df_some_use = df1.loc[df1[\"FREQ1\"] == 2] \n",
    "df_some_use[\"REASON\"].value_counts() "
   ]
  },
  {
   "cell_type": "code",
   "execution_count": 18,
   "metadata": {},
   "outputs": [
    {
     "data": {
      "text/plain": [
       "FREQ_ATND_SELF_HELP_D    0.063935\n",
       "ALCFLG                   0.070726\n",
       "AGE                      0.074216\n",
       "SUB2_D                   0.077306\n",
       "METHUSE                  0.084743\n",
       "SUB1_D                   0.096061\n",
       "SUB1                     0.102374\n",
       "DIVISION                 0.110964\n",
       "REGION                   0.119862\n",
       "EMPLOY_D                 0.183763\n",
       "REASON                   1.000000\n",
       "FREQ1                         NaN\n",
       "Name: REASON, dtype: float64"
      ]
     },
     "execution_count": 18,
     "metadata": {},
     "output_type": "execute_result"
    }
   ],
   "source": [
    "df_corr = df_some_use.corr()\n",
    "df_corr.unstack().sort_values()\n",
    "variable = df_corr[\"REASON\"].sort_values()\n",
    "variable.tail(12)"
   ]
  },
  {
   "cell_type": "code",
   "execution_count": 23,
   "metadata": {},
   "outputs": [
    {
     "data": {
      "text/plain": [
       "REASON\n",
       "1    623723\n",
       "0    370654\n",
       "Name: count, dtype: int64"
      ]
     },
     "execution_count": 23,
     "metadata": {},
     "output_type": "execute_result"
    }
   ],
   "source": [
    "df_daily_use = df1.loc[df1[\"FREQ1\"] == 3] \n",
    "df_daily_use[\"REASON\"].value_counts() "
   ]
  },
  {
   "cell_type": "code",
   "execution_count": 24,
   "metadata": {},
   "outputs": [
    {
     "data": {
      "text/plain": [
       "FREQ1_D                  0.047661\n",
       "SUB2_D                   0.053994\n",
       "DIVISION                 0.068227\n",
       "AGE                      0.074637\n",
       "REGION                   0.076076\n",
       "METHUSE                  0.088909\n",
       "FREQ_ATND_SELF_HELP_D    0.095793\n",
       "ALCFLG                   0.106234\n",
       "SUB1_D                   0.108989\n",
       "SUB1                     0.128215\n",
       "REASON                   1.000000\n",
       "FREQ1                         NaN\n",
       "Name: REASON, dtype: float64"
      ]
     },
     "execution_count": 24,
     "metadata": {},
     "output_type": "execute_result"
    }
   ],
   "source": [
    "df_corr = df_daily_use.corr()\n",
    "df_corr.unstack().sort_values()\n",
    "variable = df_corr[\"REASON\"].sort_values()\n",
    "variable.tail(12)"
   ]
  },
  {
   "cell_type": "markdown",
   "metadata": {},
   "source": [
    "### FREQ2: Frequency of use at admission (secondary)\n",
    "Specifies the frequency of use of the corresponding substance identified in Substance Use (SUB2) at admission.\n",
    "\n",
    "1 = No use in the past month\n",
    "\n",
    "2 = Some use\n",
    "\n",
    "3 = Daily use"
   ]
  },
  {
   "cell_type": "code",
   "execution_count": 25,
   "metadata": {},
   "outputs": [
    {
     "data": {
      "text/plain": [
       "REASON\n",
       "1    1071874\n",
       "0     611295\n",
       "Name: count, dtype: int64"
      ]
     },
     "execution_count": 25,
     "metadata": {},
     "output_type": "execute_result"
    }
   ],
   "source": [
    "df_no_use_past_month = df1.loc[df1[\"FREQ2\"] == 1]\n",
    "df_no_use_past_month[\"REASON\"].value_counts() "
   ]
  },
  {
   "cell_type": "code",
   "execution_count": null,
   "metadata": {},
   "outputs": [
    {
     "data": {
      "text/plain": [
       "SUB3_D                   0.060859\n",
       "SUB2                     0.067357\n",
       "FREQ_ATND_SELF_HELP_D    0.068705\n",
       "AGE                      0.070242\n",
       "SUB1                     0.083600\n",
       "SUB1_D                   0.085149\n",
       "METHUSE                  0.089532\n",
       "SUB2_D                   0.098701\n",
       "DIVISION                 0.134174\n",
       "REGION                   0.154860\n",
       "REASON                   1.000000\n",
       "Name: REASON, dtype: float64"
      ]
     },
     "execution_count": 72,
     "metadata": {},
     "output_type": "execute_result"
    }
   ],
   "source": [
    "df_corr = df_no_use_past_month.corr()\n",
    "df_corr.unstack().sort_values()\n",
    "variable = df_corr[\"REASON\"].sort_values()\n",
    "variable.tail(12)"
   ]
  },
  {
   "cell_type": "code",
   "execution_count": 26,
   "metadata": {},
   "outputs": [
    {
     "data": {
      "text/plain": [
       "REASON\n",
       "1    315012\n",
       "0    200003\n",
       "Name: count, dtype: int64"
      ]
     },
     "execution_count": 26,
     "metadata": {},
     "output_type": "execute_result"
    }
   ],
   "source": [
    "df_some_use = df1.loc[df1[\"FREQ2\"] == 2]\n",
    "df_some_use[\"REASON\"].value_counts() "
   ]
  },
  {
   "cell_type": "code",
   "execution_count": 27,
   "metadata": {},
   "outputs": [
    {
     "data": {
      "text/plain": [
       "SUB1_D                   0.050802\n",
       "PSYPROB                  0.056240\n",
       "FREQ_ATND_SELF_HELP      0.063714\n",
       "SUB1                     0.066406\n",
       "FREQ1_D                  0.076899\n",
       "METHUSE                  0.085240\n",
       "FREQ_ATND_SELF_HELP_D    0.118578\n",
       "DIVISION                 0.134849\n",
       "REGION                   0.147079\n",
       "EMPLOY_D                 0.162806\n",
       "REASON                   1.000000\n",
       "FREQ2                         NaN\n",
       "Name: REASON, dtype: float64"
      ]
     },
     "execution_count": 27,
     "metadata": {},
     "output_type": "execute_result"
    }
   ],
   "source": [
    "df_corr = df_some_use.corr()\n",
    "df_corr.unstack().sort_values()\n",
    "variable = df_corr[\"REASON\"].sort_values()\n",
    "variable.tail(12)"
   ]
  },
  {
   "cell_type": "code",
   "execution_count": 28,
   "metadata": {},
   "outputs": [
    {
     "data": {
      "text/plain": [
       "REASON\n",
       "1    264408\n",
       "0    152404\n",
       "Name: count, dtype: int64"
      ]
     },
     "execution_count": 28,
     "metadata": {},
     "output_type": "execute_result"
    }
   ],
   "source": [
    "df_daily_use = df1.loc[df1[\"FREQ2\"] == 3]\n",
    "df_daily_use[\"REASON\"].value_counts()"
   ]
  },
  {
   "cell_type": "code",
   "execution_count": 29,
   "metadata": {},
   "outputs": [
    {
     "data": {
      "text/plain": [
       "OTHERFLG                 0.059018\n",
       "AGE                      0.063761\n",
       "ALCDRUG                  0.065774\n",
       "ALCFLG                   0.066353\n",
       "SUB1_D                   0.072476\n",
       "METHUSE                  0.081130\n",
       "SUB1                     0.086333\n",
       "FREQ_ATND_SELF_HELP_D    0.098139\n",
       "DIVISION                 0.105186\n",
       "REGION                   0.110646\n",
       "REASON                   1.000000\n",
       "FREQ2                         NaN\n",
       "Name: REASON, dtype: float64"
      ]
     },
     "execution_count": 29,
     "metadata": {},
     "output_type": "execute_result"
    }
   ],
   "source": [
    "df_corr = df_daily_use.corr()\n",
    "df_corr.unstack().sort_values()\n",
    "variable = df_corr[\"REASON\"].sort_values()\n",
    "variable.tail(12)"
   ]
  },
  {
   "cell_type": "markdown",
   "metadata": {},
   "source": [
    "### IDU: Current IV drug use reported at admission\n",
    "\n",
    "0 = IDU not reported\n",
    "\n",
    "1 = IDU reported"
   ]
  },
  {
   "cell_type": "code",
   "execution_count": 30,
   "metadata": {},
   "outputs": [
    {
     "data": {
      "text/plain": [
       "REASON\n",
       "1    1266282\n",
       "0     707035\n",
       "Name: count, dtype: int64"
      ]
     },
     "execution_count": 30,
     "metadata": {},
     "output_type": "execute_result"
    }
   ],
   "source": [
    "df_not_reported = df1.loc[df1[\"IDU\"] == 0]\n",
    "df_not_reported[\"REASON\"].value_counts()"
   ]
  },
  {
   "cell_type": "code",
   "execution_count": 31,
   "metadata": {},
   "outputs": [
    {
     "data": {
      "text/plain": [
       "ALCFLG                   0.057671\n",
       "SUB2_D                   0.074199\n",
       "METHUSE                  0.076254\n",
       "AGE                      0.079163\n",
       "EMPLOY_D                 0.081925\n",
       "SUB1_D                   0.091121\n",
       "FREQ_ATND_SELF_HELP_D    0.095314\n",
       "SUB1                     0.096407\n",
       "DIVISION                 0.121981\n",
       "REGION                   0.131716\n",
       "REASON                   1.000000\n",
       "IDU                           NaN\n",
       "Name: REASON, dtype: float64"
      ]
     },
     "execution_count": 31,
     "metadata": {},
     "output_type": "execute_result"
    }
   ],
   "source": [
    "df_corr = df_not_reported.corr()\n",
    "df_corr.unstack().sort_values()\n",
    "variable = df_corr[\"REASON\"].sort_values()\n",
    "variable.tail(12)"
   ]
  },
  {
   "cell_type": "code",
   "execution_count": 32,
   "metadata": {},
   "outputs": [
    {
     "data": {
      "text/plain": [
       "REASON\n",
       "1    385012\n",
       "0    256667\n",
       "Name: count, dtype: int64"
      ]
     },
     "execution_count": 32,
     "metadata": {},
     "output_type": "execute_result"
    }
   ],
   "source": [
    "df_reported = df1.loc[df1[\"IDU\"] == 1]\n",
    "df_reported[\"REASON\"].value_counts()"
   ]
  },
  {
   "cell_type": "code",
   "execution_count": 33,
   "metadata": {},
   "outputs": [
    {
     "data": {
      "text/plain": [
       "OTHERFLG                 0.041830\n",
       "FREQ_ATND_SELF_HELP      0.045129\n",
       "PRIMPAY                  0.045526\n",
       "FREQ1_D                  0.048878\n",
       "MTHAMFLG                 0.067204\n",
       "EMPLOY_D                 0.094685\n",
       "METHUSE                  0.099586\n",
       "FREQ_ATND_SELF_HELP_D    0.102537\n",
       "DIVISION                 0.114337\n",
       "REGION                   0.122407\n",
       "REASON                   1.000000\n",
       "IDU                           NaN\n",
       "Name: REASON, dtype: float64"
      ]
     },
     "execution_count": 33,
     "metadata": {},
     "output_type": "execute_result"
    }
   ],
   "source": [
    "df_corr = df_reported.corr()\n",
    "df_corr.unstack().sort_values()\n",
    "variable = df_corr[\"REASON\"].sort_values()\n",
    "variable.tail(12)"
   ]
  },
  {
   "cell_type": "markdown",
   "metadata": {},
   "source": [
    "### MARFLG: Marijuana/hashish reported at admission\n",
    "\n",
    "0 = Substance not reported\n",
    "\n",
    "1 = Substance reported"
   ]
  },
  {
   "cell_type": "code",
   "execution_count": 34,
   "metadata": {},
   "outputs": [
    {
     "data": {
      "text/plain": [
       "REASON\n",
       "1    1164083\n",
       "0     618376\n",
       "Name: count, dtype: int64"
      ]
     },
     "execution_count": 34,
     "metadata": {},
     "output_type": "execute_result"
    }
   ],
   "source": [
    "df_sub_not_reported = df1.loc[df1[\"MARFLG\"] == 0]\n",
    "df_sub_not_reported[\"REASON\"].value_counts()"
   ]
  },
  {
   "cell_type": "code",
   "execution_count": 35,
   "metadata": {},
   "outputs": [
    {
     "data": {
      "text/plain": [
       "PRIMPAY                  0.059873\n",
       "ALCFLG                   0.071890\n",
       "EMPLOY_D                 0.074538\n",
       "FREQ_ATND_SELF_HELP_D    0.083762\n",
       "SUB1_D                   0.088043\n",
       "SUB2_D                   0.090820\n",
       "SUB1                     0.094113\n",
       "METHUSE                  0.102799\n",
       "DIVISION                 0.116416\n",
       "REGION                   0.125374\n",
       "REASON                   1.000000\n",
       "MARFLG                        NaN\n",
       "Name: REASON, dtype: float64"
      ]
     },
     "execution_count": 35,
     "metadata": {},
     "output_type": "execute_result"
    }
   ],
   "source": [
    "df_corr = df_sub_not_reported.corr()\n",
    "df_corr.unstack().sort_values()\n",
    "variable = df_corr[\"REASON\"].sort_values()\n",
    "variable.tail(12)"
   ]
  },
  {
   "cell_type": "code",
   "execution_count": 36,
   "metadata": {},
   "outputs": [
    {
     "data": {
      "text/plain": [
       "REASON\n",
       "1    487211\n",
       "0    345326\n",
       "Name: count, dtype: int64"
      ]
     },
     "execution_count": 36,
     "metadata": {},
     "output_type": "execute_result"
    }
   ],
   "source": [
    "df_sub_reported = df1.loc[df1[\"MARFLG\"] == 1]\n",
    "df_sub_reported[\"REASON\"].value_counts()"
   ]
  },
  {
   "cell_type": "code",
   "execution_count": 37,
   "metadata": {},
   "outputs": [
    {
     "data": {
      "text/plain": [
       "LIVARAG_D                0.053981\n",
       "SUB1_D                   0.057026\n",
       "SUB1                     0.057266\n",
       "FREQ_ATND_SELF_HELP      0.057304\n",
       "FREQ2_D                  0.060662\n",
       "METHUSE                  0.060743\n",
       "EMPLOY_D                 0.102530\n",
       "FREQ_ATND_SELF_HELP_D    0.109749\n",
       "DIVISION                 0.138154\n",
       "REGION                   0.145461\n",
       "REASON                   1.000000\n",
       "MARFLG                        NaN\n",
       "Name: REASON, dtype: float64"
      ]
     },
     "execution_count": 37,
     "metadata": {},
     "output_type": "execute_result"
    }
   ],
   "source": [
    "df_corr = df_sub_reported.corr()\n",
    "df_corr.unstack().sort_values()\n",
    "variable = df_corr[\"REASON\"].sort_values()\n",
    "variable.tail(12)"
   ]
  },
  {
   "cell_type": "markdown",
   "metadata": {},
   "source": [
    "### ALCDRUG: Substance use type\n",
    "\n",
    "0 = None\n",
    "\n",
    "1 = Alcohol only\n",
    "\n",
    "2 = Other drugs only\n",
    "\n",
    "3 = Alcohol and other drugs"
   ]
  },
  {
   "cell_type": "code",
   "execution_count": 40,
   "metadata": {},
   "outputs": [
    {
     "data": {
      "text/plain": [
       "REASON\n",
       "1    79181\n",
       "0    29828\n",
       "Name: count, dtype: int64"
      ]
     },
     "execution_count": 40,
     "metadata": {},
     "output_type": "execute_result"
    }
   ],
   "source": [
    "df_none = df1.loc[df1[\"ALCDRUG\"] == 0]\n",
    "df_none[\"REASON\"].value_counts()"
   ]
  },
  {
   "cell_type": "code",
   "execution_count": 41,
   "metadata": {},
   "outputs": [
    {
     "data": {
      "text/plain": [
       "REASON      1.0\n",
       "METHFLG     NaN\n",
       "PCPFLG      NaN\n",
       "HALLFLG     NaN\n",
       "AMPHFLG     NaN\n",
       "STIMFLG     NaN\n",
       "TRNQFLG     NaN\n",
       "BARBFLG     NaN\n",
       "SEDHPFLG    NaN\n",
       "INHFLG      NaN\n",
       "OTCFLG      NaN\n",
       "ALCDRUG     NaN\n",
       "Name: REASON, dtype: float64"
      ]
     },
     "execution_count": 41,
     "metadata": {},
     "output_type": "execute_result"
    }
   ],
   "source": [
    "df_corr = df_none.corr()\n",
    "df_corr.unstack().sort_values()\n",
    "variable = df_corr[\"REASON\"].sort_values()\n",
    "variable.tail(12)"
   ]
  },
  {
   "cell_type": "code",
   "execution_count": 42,
   "metadata": {},
   "outputs": [
    {
     "data": {
      "text/plain": [
       "REASON\n",
       "1    314328\n",
       "0    122676\n",
       "Name: count, dtype: int64"
      ]
     },
     "execution_count": 42,
     "metadata": {},
     "output_type": "execute_result"
    }
   ],
   "source": [
    "df_alcohol_only = df1.loc[df1[\"ALCDRUG\"] == 1]\n",
    "df_alcohol_only[\"REASON\"].value_counts()"
   ]
  },
  {
   "cell_type": "code",
   "execution_count": 43,
   "metadata": {},
   "outputs": [
    {
     "data": {
      "text/plain": [
       "HALLFLG    NaN\n",
       "MTHAMFLG   NaN\n",
       "AMPHFLG    NaN\n",
       "STIMFLG    NaN\n",
       "BENZFLG    NaN\n",
       "TRNQFLG    NaN\n",
       "BARBFLG    NaN\n",
       "SEDHPFLG   NaN\n",
       "INHFLG     NaN\n",
       "OTCFLG     NaN\n",
       "OTHERFLG   NaN\n",
       "ALCDRUG    NaN\n",
       "Name: REASON, dtype: float64"
      ]
     },
     "execution_count": 43,
     "metadata": {},
     "output_type": "execute_result"
    }
   ],
   "source": [
    "df_corr = df_alcohol_only.corr()\n",
    "df_corr.unstack().sort_values()\n",
    "variable = df_corr[\"REASON\"].sort_values()\n",
    "variable.tail(12)"
   ]
  },
  {
   "cell_type": "code",
   "execution_count": 44,
   "metadata": {},
   "outputs": [
    {
     "data": {
      "text/plain": [
       "REASON\n",
       "1    816757\n",
       "0    549849\n",
       "Name: count, dtype: int64"
      ]
     },
     "execution_count": 44,
     "metadata": {},
     "output_type": "execute_result"
    }
   ],
   "source": [
    "df_other_drugs_only = df1.loc[df1[\"ALCDRUG\"] == 2]\n",
    "df_other_drugs_only[\"REASON\"].value_counts()"
   ]
  },
  {
   "cell_type": "code",
   "execution_count": 45,
   "metadata": {},
   "outputs": [
    {
     "data": {
      "text/plain": [
       "FREQ_ATND_SELF_HELP      0.053437\n",
       "SUB2_D                   0.056182\n",
       "LIVARAG_D                0.056994\n",
       "MTHAMFLG                 0.071407\n",
       "METHUSE                  0.091384\n",
       "FREQ_ATND_SELF_HELP_D    0.101173\n",
       "DIVISION                 0.125313\n",
       "EMPLOY_D                 0.128880\n",
       "REGION                   0.132602\n",
       "REASON                   1.000000\n",
       "ALCFLG                        NaN\n",
       "ALCDRUG                       NaN\n",
       "Name: REASON, dtype: float64"
      ]
     },
     "execution_count": 45,
     "metadata": {},
     "output_type": "execute_result"
    }
   ],
   "source": [
    "df_corr = df_other_drugs_only.corr()\n",
    "df_corr.unstack().sort_values()\n",
    "variable = df_corr[\"REASON\"].sort_values()\n",
    "variable.tail(12)"
   ]
  },
  {
   "cell_type": "code",
   "execution_count": 46,
   "metadata": {},
   "outputs": [
    {
     "data": {
      "text/plain": [
       "REASON\n",
       "1    441028\n",
       "0    261349\n",
       "Name: count, dtype: int64"
      ]
     },
     "execution_count": 46,
     "metadata": {},
     "output_type": "execute_result"
    }
   ],
   "source": [
    "df_alchohol_and_other_drugs = df1.loc[df1[\"ALCDRUG\"] == 3]\n",
    "df_alchohol_and_other_drugs[\"REASON\"].value_counts()"
   ]
  },
  {
   "cell_type": "code",
   "execution_count": 47,
   "metadata": {},
   "outputs": [
    {
     "data": {
      "text/plain": [
       "FREQ1                    0.051701\n",
       "METHUSE                  0.055244\n",
       "AGE                      0.070446\n",
       "EMPLOY_D                 0.074177\n",
       "SUB1_D                   0.074782\n",
       "SUB1                     0.079235\n",
       "FREQ_ATND_SELF_HELP_D    0.119491\n",
       "DIVISION                 0.124381\n",
       "REGION                   0.129853\n",
       "REASON                   1.000000\n",
       "ALCFLG                        NaN\n",
       "ALCDRUG                       NaN\n",
       "Name: REASON, dtype: float64"
      ]
     },
     "execution_count": 47,
     "metadata": {},
     "output_type": "execute_result"
    }
   ],
   "source": [
    "df_corr = df_alchohol_and_other_drugs.corr()\n",
    "df_corr.unstack().sort_values()\n",
    "variable = df_corr[\"REASON\"].sort_values()\n",
    "variable.tail(12)"
   ]
  },
  {
   "cell_type": "markdown",
   "metadata": {},
   "source": [
    "### PSYPROB: Co-occurring mental and substance use disorders\n",
    "\n",
    "1 = Yes\n",
    "\n",
    "2 = No"
   ]
  },
  {
   "cell_type": "code",
   "execution_count": 48,
   "metadata": {},
   "outputs": [
    {
     "data": {
      "text/plain": [
       "REASON\n",
       "1    742589\n",
       "0    483927\n",
       "Name: count, dtype: int64"
      ]
     },
     "execution_count": 48,
     "metadata": {},
     "output_type": "execute_result"
    }
   ],
   "source": [
    "df_yes = df1.loc[df1[\"PSYPROB\"] == 1]\n",
    "df_yes[\"REASON\"].value_counts()"
   ]
  },
  {
   "cell_type": "code",
   "execution_count": 49,
   "metadata": {},
   "outputs": [
    {
     "data": {
      "text/plain": [
       "FREQ1                    0.037745\n",
       "PRIMPAY                  0.049226\n",
       "ALCFLG                   0.065345\n",
       "AGE                      0.069312\n",
       "METHUSE                  0.080976\n",
       "DIVISION                 0.088218\n",
       "REGION                   0.090103\n",
       "SUB1                     0.094036\n",
       "SUB1_D                   0.094944\n",
       "FREQ_ATND_SELF_HELP_D    0.112967\n",
       "REASON                   1.000000\n",
       "PSYPROB                       NaN\n",
       "Name: REASON, dtype: float64"
      ]
     },
     "execution_count": 49,
     "metadata": {},
     "output_type": "execute_result"
    }
   ],
   "source": [
    "df_corr = df_yes.corr()\n",
    "df_corr.unstack().sort_values()\n",
    "variable = df_corr[\"REASON\"].sort_values()\n",
    "variable.tail(12)"
   ]
  },
  {
   "cell_type": "code",
   "execution_count": 50,
   "metadata": {},
   "outputs": [
    {
     "data": {
      "text/plain": [
       "REASON\n",
       "1    908705\n",
       "0    479775\n",
       "Name: count, dtype: int64"
      ]
     },
     "execution_count": 50,
     "metadata": {},
     "output_type": "execute_result"
    }
   ],
   "source": [
    "df_no = df1.loc[df1[\"PSYPROB\"] == 2]\n",
    "df_no[\"REASON\"].value_counts()"
   ]
  },
  {
   "cell_type": "code",
   "execution_count": 51,
   "metadata": {},
   "outputs": [
    {
     "data": {
      "text/plain": [
       "LIVARAG_D                0.066300\n",
       "AGE                      0.067936\n",
       "SUB1_D                   0.079170\n",
       "FREQ_ATND_SELF_HELP_D    0.081433\n",
       "METHUSE                  0.088408\n",
       "SUB1                     0.095644\n",
       "SUB2_D                   0.109432\n",
       "DIVISION                 0.136680\n",
       "EMPLOY_D                 0.150714\n",
       "REGION                   0.153591\n",
       "REASON                   1.000000\n",
       "PSYPROB                       NaN\n",
       "Name: REASON, dtype: float64"
      ]
     },
     "execution_count": 51,
     "metadata": {},
     "output_type": "execute_result"
    }
   ],
   "source": [
    "df_corr = df_no.corr()\n",
    "df_corr.unstack().sort_values()\n",
    "variable = df_corr[\"REASON\"].sort_values()\n",
    "variable.tail(12)"
   ]
  }
 ],
 "metadata": {
  "kernelspec": {
   "display_name": "dev",
   "language": "python",
   "name": "python3"
  },
  "language_info": {
   "codemirror_mode": {
    "name": "ipython",
    "version": 3
   },
   "file_extension": ".py",
   "mimetype": "text/x-python",
   "name": "python",
   "nbconvert_exporter": "python",
   "pygments_lexer": "ipython3",
   "version": "3.10.13"
  }
 },
 "nbformat": 4,
 "nbformat_minor": 2
}
